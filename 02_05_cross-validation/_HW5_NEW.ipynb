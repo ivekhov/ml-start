{
 "cells": [
  {
   "cell_type": "markdown",
   "id": "2d9b9fb1",
   "metadata": {},
   "source": [
    "К текущему моменту мы научились обучать простейшую линейную регрессию: причем научились пользоваться как готовыми методами из sklearn, так и реализовывать поиск решения оптимальных коэффициентов самостоятельно с помощью градиентного спуска.\n",
    "\n",
    "На последних занятиях мы узнали, что на практике часто приходится прибегать к некоторым хитростям, чтобы оценить, действительно ли модель отлично справляется со своей главной задачей - делать хорошие предсказания на новых данных в будущем, или, как еще говорят, в проде - после запуска.\n",
    "\n",
    "Для этого было введено понятие так называемой обобщающей способности модели. Оно помогает нам оценить, насколько наша модель подогналась под увиденные данные и насколько она окажется хороша на новых данных.\n",
    "\n",
    "Обобщающую способность мы научились оценивать с помощью метода Кросс-Валидации.\n",
    "\n"
   ]
  },
  {
   "cell_type": "markdown",
   "id": "ad9dfcbc",
   "metadata": {},
   "source": [
    "Построим для старой задачи с предсказанием длительности поездки в такси 2 модели линейной регрессии. Для каждой из них замерим качество на кросс-валидации и на тесте, заранее его отложив.\n",
    "\n",
    "Считается, что если для K-Fold Кросс-Валидации брать большие значения K (то есть большое количество сплитов для разбиения тренировочной выборки на тренировку-валидацию), то оценка среднеквадратической ошибки будет получаться более справедливой. Так, например, когда K оказывается максимальным, а именно равным количеству объектов в выборке (каждый раз в валидации у нас 1 новый объект), то такой метод Кросс-Валидации еще называют LeaveOneOut.\n",
    "\n",
    "Главная причина, почему мало где его используют, состоит в дороговизне такого метода. Например, в данной задаче в TAXI_train.csv лежит почти 1,2 млн. объектов. Тогда, чтобы замерить качество на LeaveOneOut валидации, нам пришлось бы обучить 1,2 млн. различных версий одной модели, что, конечно, не вписыватеся в рамки адекватного времени и прочих ресурсов.\n",
    "\n",
    "Поэтому выберем компромиссное значение в виде 20 фолдов для K-Fold Кросс-Валидации.\n",
    "\n",
    "Внимание! Для каждой из 2 моделей очевидно было бы справедливым замерять качество на тех же самых объектах, поэтому сплиты лучше зафиксировать сразу.\n",
    "\n",
    "P.S. Оптимизировать будем MSLE метрику. И сравнивать модели тоже будем по ней будем. Как из домашнего задания про метрики, только без корня! :)\n",
    "\n",
    "$$\\text{MSLE}(X, y, a) = \\frac{1}{\\ell}\\sum_{i=1}^{\\ell} \\big(\\log{(y_i + 1)} - \\log{(a(x_i) + 1)}\\big)^2$$\n"
   ]
  },
  {
   "cell_type": "markdown",
   "id": "a4949167",
   "metadata": {},
   "source": [
    "### Модель №1 Для начала посчитаем ошибку на Кросс-Валидации и Тесте для нашей самой базовой модели до вычленения каких-либо признаков, а просто взяв все вещественные колонки."
   ]
  },
  {
   "cell_type": "code",
   "execution_count": 1,
   "id": "cd3f96a0",
   "metadata": {},
   "outputs": [],
   "source": [
    "import pandas as pd"
   ]
  },
  {
   "cell_type": "code",
   "execution_count": 4,
   "id": "c5600c14",
   "metadata": {},
   "outputs": [],
   "source": [
    "initial_data = pd.read_csv('../data/cross_validation/initial_data.csv', index_col='id')\n",
    "\n",
    "initial_cols = ['vendor_id', 'passenger_count', 'pickup_longitude',\n",
    "                'pickup_latitude', 'dropoff_longitude', 'dropoff_latitude',\n",
    "                'trip_duration']\n",
    "\n",
    "initial_data = initial_data[initial_cols]"
   ]
  },
  {
   "cell_type": "markdown",
   "id": "7243db9d",
   "metadata": {},
   "source": [
    "### ТрюК!"
   ]
  },
  {
   "cell_type": "code",
   "execution_count": 5,
   "id": "8dbfa5b9",
   "metadata": {},
   "outputs": [
    {
     "data": {
      "text/html": [
       "<div>\n",
       "<style scoped>\n",
       "    .dataframe tbody tr th:only-of-type {\n",
       "        vertical-align: middle;\n",
       "    }\n",
       "\n",
       "    .dataframe tbody tr th {\n",
       "        vertical-align: top;\n",
       "    }\n",
       "\n",
       "    .dataframe thead th {\n",
       "        text-align: right;\n",
       "    }\n",
       "</style>\n",
       "<table border=\"1\" class=\"dataframe\">\n",
       "  <thead>\n",
       "    <tr style=\"text-align: right;\">\n",
       "      <th></th>\n",
       "      <th>vendor_id</th>\n",
       "      <th>passenger_count</th>\n",
       "      <th>pickup_longitude</th>\n",
       "      <th>pickup_latitude</th>\n",
       "      <th>dropoff_longitude</th>\n",
       "      <th>dropoff_latitude</th>\n",
       "      <th>trip_duration</th>\n",
       "    </tr>\n",
       "    <tr>\n",
       "      <th>id</th>\n",
       "      <th></th>\n",
       "      <th></th>\n",
       "      <th></th>\n",
       "      <th></th>\n",
       "      <th></th>\n",
       "      <th></th>\n",
       "      <th></th>\n",
       "    </tr>\n",
       "  </thead>\n",
       "  <tbody>\n",
       "    <tr>\n",
       "      <th>id2875421</th>\n",
       "      <td>2</td>\n",
       "      <td>1</td>\n",
       "      <td>-73.982155</td>\n",
       "      <td>40.767937</td>\n",
       "      <td>-73.964630</td>\n",
       "      <td>40.765602</td>\n",
       "      <td>455.0</td>\n",
       "    </tr>\n",
       "    <tr>\n",
       "      <th>id2377394</th>\n",
       "      <td>1</td>\n",
       "      <td>1</td>\n",
       "      <td>-73.980415</td>\n",
       "      <td>40.738564</td>\n",
       "      <td>-73.999481</td>\n",
       "      <td>40.731152</td>\n",
       "      <td>663.0</td>\n",
       "    </tr>\n",
       "    <tr>\n",
       "      <th>id3858529</th>\n",
       "      <td>2</td>\n",
       "      <td>1</td>\n",
       "      <td>-73.979027</td>\n",
       "      <td>40.763939</td>\n",
       "      <td>-74.005333</td>\n",
       "      <td>40.710087</td>\n",
       "      <td>2124.0</td>\n",
       "    </tr>\n",
       "    <tr>\n",
       "      <th>id3504673</th>\n",
       "      <td>2</td>\n",
       "      <td>1</td>\n",
       "      <td>-74.010040</td>\n",
       "      <td>40.719971</td>\n",
       "      <td>-74.012268</td>\n",
       "      <td>40.706718</td>\n",
       "      <td>429.0</td>\n",
       "    </tr>\n",
       "    <tr>\n",
       "      <th>id2181028</th>\n",
       "      <td>2</td>\n",
       "      <td>1</td>\n",
       "      <td>-73.973053</td>\n",
       "      <td>40.793209</td>\n",
       "      <td>-73.972923</td>\n",
       "      <td>40.782520</td>\n",
       "      <td>435.0</td>\n",
       "    </tr>\n",
       "  </tbody>\n",
       "</table>\n",
       "</div>"
      ],
      "text/plain": [
       "           vendor_id  passenger_count  pickup_longitude  pickup_latitude  \\\n",
       "id                                                                         \n",
       "id2875421          2                1        -73.982155        40.767937   \n",
       "id2377394          1                1        -73.980415        40.738564   \n",
       "id3858529          2                1        -73.979027        40.763939   \n",
       "id3504673          2                1        -74.010040        40.719971   \n",
       "id2181028          2                1        -73.973053        40.793209   \n",
       "\n",
       "           dropoff_longitude  dropoff_latitude  trip_duration  \n",
       "id                                                             \n",
       "id2875421         -73.964630         40.765602          455.0  \n",
       "id2377394         -73.999481         40.731152          663.0  \n",
       "id3858529         -74.005333         40.710087         2124.0  \n",
       "id3504673         -74.012268         40.706718          429.0  \n",
       "id2181028         -73.972923         40.782520          435.0  "
      ]
     },
     "execution_count": 5,
     "metadata": {},
     "output_type": "execute_result"
    }
   ],
   "source": [
    "initial_data.head()"
   ]
  },
  {
   "cell_type": "code",
   "execution_count": 9,
   "id": "80efd43c",
   "metadata": {},
   "outputs": [
    {
     "data": {
      "text/plain": [
       "6.1224928095143865"
      ]
     },
     "execution_count": 9,
     "metadata": {},
     "output_type": "execute_result"
    }
   ],
   "source": [
    "# logarithmed data:\n",
    "\n",
    "\n",
    "np.log1p(455)"
   ]
  },
  {
   "cell_type": "code",
   "execution_count": 11,
   "id": "a8b4aea6",
   "metadata": {},
   "outputs": [
    {
     "data": {
      "text/plain": [
       "455.0"
      ]
     },
     "execution_count": 11,
     "metadata": {},
     "output_type": "execute_result"
    }
   ],
   "source": [
    "# reversed from log to initial number:\n",
    "\n",
    "np.e ** 6.1224928095143865 - 1\n"
   ]
  },
  {
   "cell_type": "code",
   "execution_count": 6,
   "id": "f8a1fe40",
   "metadata": {},
   "outputs": [
    {
     "data": {
      "text/html": [
       "<div>\n",
       "<style scoped>\n",
       "    .dataframe tbody tr th:only-of-type {\n",
       "        vertical-align: middle;\n",
       "    }\n",
       "\n",
       "    .dataframe tbody tr th {\n",
       "        vertical-align: top;\n",
       "    }\n",
       "\n",
       "    .dataframe thead th {\n",
       "        text-align: right;\n",
       "    }\n",
       "</style>\n",
       "<table border=\"1\" class=\"dataframe\">\n",
       "  <thead>\n",
       "    <tr style=\"text-align: right;\">\n",
       "      <th></th>\n",
       "      <th>vendor_id</th>\n",
       "      <th>passenger_count</th>\n",
       "      <th>pickup_longitude</th>\n",
       "      <th>pickup_latitude</th>\n",
       "      <th>dropoff_longitude</th>\n",
       "      <th>dropoff_latitude</th>\n",
       "      <th>log_trip_duration</th>\n",
       "    </tr>\n",
       "    <tr>\n",
       "      <th>id</th>\n",
       "      <th></th>\n",
       "      <th></th>\n",
       "      <th></th>\n",
       "      <th></th>\n",
       "      <th></th>\n",
       "      <th></th>\n",
       "      <th></th>\n",
       "    </tr>\n",
       "  </thead>\n",
       "  <tbody>\n",
       "    <tr>\n",
       "      <th>id2875421</th>\n",
       "      <td>2</td>\n",
       "      <td>1</td>\n",
       "      <td>-73.982155</td>\n",
       "      <td>40.767937</td>\n",
       "      <td>-73.964630</td>\n",
       "      <td>40.765602</td>\n",
       "      <td>6.122493</td>\n",
       "    </tr>\n",
       "    <tr>\n",
       "      <th>id2377394</th>\n",
       "      <td>1</td>\n",
       "      <td>1</td>\n",
       "      <td>-73.980415</td>\n",
       "      <td>40.738564</td>\n",
       "      <td>-73.999481</td>\n",
       "      <td>40.731152</td>\n",
       "      <td>6.498282</td>\n",
       "    </tr>\n",
       "    <tr>\n",
       "      <th>id3858529</th>\n",
       "      <td>2</td>\n",
       "      <td>1</td>\n",
       "      <td>-73.979027</td>\n",
       "      <td>40.763939</td>\n",
       "      <td>-74.005333</td>\n",
       "      <td>40.710087</td>\n",
       "      <td>7.661527</td>\n",
       "    </tr>\n",
       "    <tr>\n",
       "      <th>id3504673</th>\n",
       "      <td>2</td>\n",
       "      <td>1</td>\n",
       "      <td>-74.010040</td>\n",
       "      <td>40.719971</td>\n",
       "      <td>-74.012268</td>\n",
       "      <td>40.706718</td>\n",
       "      <td>6.063785</td>\n",
       "    </tr>\n",
       "    <tr>\n",
       "      <th>id2181028</th>\n",
       "      <td>2</td>\n",
       "      <td>1</td>\n",
       "      <td>-73.973053</td>\n",
       "      <td>40.793209</td>\n",
       "      <td>-73.972923</td>\n",
       "      <td>40.782520</td>\n",
       "      <td>6.077642</td>\n",
       "    </tr>\n",
       "  </tbody>\n",
       "</table>\n",
       "</div>"
      ],
      "text/plain": [
       "           vendor_id  passenger_count  pickup_longitude  pickup_latitude  \\\n",
       "id                                                                         \n",
       "id2875421          2                1        -73.982155        40.767937   \n",
       "id2377394          1                1        -73.980415        40.738564   \n",
       "id3858529          2                1        -73.979027        40.763939   \n",
       "id3504673          2                1        -74.010040        40.719971   \n",
       "id2181028          2                1        -73.973053        40.793209   \n",
       "\n",
       "           dropoff_longitude  dropoff_latitude  log_trip_duration  \n",
       "id                                                                 \n",
       "id2875421         -73.964630         40.765602           6.122493  \n",
       "id2377394         -73.999481         40.731152           6.498282  \n",
       "id3858529         -74.005333         40.710087           7.661527  \n",
       "id3504673         -74.012268         40.706718           6.063785  \n",
       "id2181028         -73.972923         40.782520           6.077642  "
      ]
     },
     "execution_count": 6,
     "metadata": {},
     "output_type": "execute_result"
    }
   ],
   "source": [
    "### Замерять будем MSLE. Можно показать, что для оптимизации MSLE,\n",
    "### Достаточно логарифмировать таргетную переменную, \n",
    "### а потом оптимизировать привычные MSE\n",
    "import numpy as np\n",
    "\n",
    "initial_data = initial_data.assign(log_trip_duration=np.log1p(initial_data['trip_duration']))\n",
    "initial_data = initial_data.drop('trip_duration', axis=1)\n",
    "\n",
    "\n",
    "initial_data.head()"
   ]
  },
  {
   "cell_type": "markdown",
   "id": "a497fa6f",
   "metadata": {},
   "source": [
    "### Объяснение:\n",
    "\n",
    "Пусть имеем модель $a(x)$, обученную на MSE от $y$:\n",
    "$$\n",
    "\\text{MSE}(X, y, a) = \\frac{1}{\\ell}\\sum_{i=1}^{\\ell} \\big(y_i - a(x_i)\\big)^2 \\rightarrow min\n",
    "$$\n",
    "\n",
    "Также представим модель $a^*(x)$, обученную на MSE от $\\log{(y + 1)}$:\n",
    "$$\n",
    "\\text{MSE}(X, \\log{(y+1)}, a^*) = \\frac{1}{\\ell}\\sum_{i=1}^{\\ell} \\big(\\log{(y_i + 1)} - a^*(x_i)\\big)^2 \\rightarrow min\n",
    "$$\n",
    "\n",
    "Так как вторая модель старается аппроксимироваться ответы в виде $a^*(x) \\approx \\log{(y+1)}$, то для того, чтобы получить изначальные таргеты, необходимо выходы $a^*(x)$ проэкспоненцировать в виде следующего отношения: $a(x) = e^{a^*(x)} - 1$, то есть $a^*(x) = \\log{(a(x) + 1)}$, где $a^*(x)$ дает логарифмические выходы, а $a(x)$ - изначальные. Подставим данное соотношение в MSE выше, получим:\n",
    "\n",
    "$$\n",
    "\\text{MSE}(X, \\log{(y+1)}, \\log{(a(x) + 1)}) = \\frac{1}{\\ell}\\sum_{i=1}^{\\ell} \\big(\\log{(y_i + 1)} - \\log{(a(x_i) + 1)}\\big)^2 \\rightarrow min\n",
    "$$\n",
    "\n",
    "А это в точности MSLE от $y$:\n",
    "\n",
    "$$\n",
    "\\text{MSLE}(X, y, a) = \\frac{1}{\\ell}\\sum_{i=1}^{\\ell} \\big(\\log{(y_i + 1)} - \\log{(a(x_i) + 1)}\\big)^2 \\rightarrow min\n",
    "$$"
   ]
  },
  {
   "cell_type": "code",
   "execution_count": 13,
   "id": "850a8178",
   "metadata": {},
   "outputs": [],
   "source": [
    "### Выделим test\n",
    "\n",
    "from sklearn.model_selection import train_test_split\n",
    "\n",
    "X = initial_data.drop('log_trip_duration', axis=1)\n",
    "y = initial_data['log_trip_duration']\n",
    "\n",
    "X_train, X_test, y_train, y_test = train_test_split(X, y, \n",
    "                                                    test_size=0.2, \n",
    "                                                    random_state=42)"
   ]
  },
  {
   "cell_type": "code",
   "execution_count": 38,
   "id": "8517199c",
   "metadata": {},
   "outputs": [
    {
     "data": {
      "text/html": [
       "<div>\n",
       "<style scoped>\n",
       "    .dataframe tbody tr th:only-of-type {\n",
       "        vertical-align: middle;\n",
       "    }\n",
       "\n",
       "    .dataframe tbody tr th {\n",
       "        vertical-align: top;\n",
       "    }\n",
       "\n",
       "    .dataframe thead th {\n",
       "        text-align: right;\n",
       "    }\n",
       "</style>\n",
       "<table border=\"1\" class=\"dataframe\">\n",
       "  <thead>\n",
       "    <tr style=\"text-align: right;\">\n",
       "      <th></th>\n",
       "      <th>vendor_id</th>\n",
       "      <th>passenger_count</th>\n",
       "      <th>pickup_longitude</th>\n",
       "      <th>pickup_latitude</th>\n",
       "      <th>dropoff_longitude</th>\n",
       "      <th>dropoff_latitude</th>\n",
       "    </tr>\n",
       "    <tr>\n",
       "      <th>id</th>\n",
       "      <th></th>\n",
       "      <th></th>\n",
       "      <th></th>\n",
       "      <th></th>\n",
       "      <th></th>\n",
       "      <th></th>\n",
       "    </tr>\n",
       "  </thead>\n",
       "  <tbody>\n",
       "    <tr>\n",
       "      <th>id2875421</th>\n",
       "      <td>2</td>\n",
       "      <td>1</td>\n",
       "      <td>-73.982155</td>\n",
       "      <td>40.767937</td>\n",
       "      <td>-73.964630</td>\n",
       "      <td>40.765602</td>\n",
       "    </tr>\n",
       "    <tr>\n",
       "      <th>id2377394</th>\n",
       "      <td>1</td>\n",
       "      <td>1</td>\n",
       "      <td>-73.980415</td>\n",
       "      <td>40.738564</td>\n",
       "      <td>-73.999481</td>\n",
       "      <td>40.731152</td>\n",
       "    </tr>\n",
       "    <tr>\n",
       "      <th>id3858529</th>\n",
       "      <td>2</td>\n",
       "      <td>1</td>\n",
       "      <td>-73.979027</td>\n",
       "      <td>40.763939</td>\n",
       "      <td>-74.005333</td>\n",
       "      <td>40.710087</td>\n",
       "    </tr>\n",
       "    <tr>\n",
       "      <th>id3504673</th>\n",
       "      <td>2</td>\n",
       "      <td>1</td>\n",
       "      <td>-74.010040</td>\n",
       "      <td>40.719971</td>\n",
       "      <td>-74.012268</td>\n",
       "      <td>40.706718</td>\n",
       "    </tr>\n",
       "    <tr>\n",
       "      <th>id2181028</th>\n",
       "      <td>2</td>\n",
       "      <td>1</td>\n",
       "      <td>-73.973053</td>\n",
       "      <td>40.793209</td>\n",
       "      <td>-73.972923</td>\n",
       "      <td>40.782520</td>\n",
       "    </tr>\n",
       "  </tbody>\n",
       "</table>\n",
       "</div>"
      ],
      "text/plain": [
       "           vendor_id  passenger_count  pickup_longitude  pickup_latitude  \\\n",
       "id                                                                         \n",
       "id2875421          2                1        -73.982155        40.767937   \n",
       "id2377394          1                1        -73.980415        40.738564   \n",
       "id3858529          2                1        -73.979027        40.763939   \n",
       "id3504673          2                1        -74.010040        40.719971   \n",
       "id2181028          2                1        -73.973053        40.793209   \n",
       "\n",
       "           dropoff_longitude  dropoff_latitude  \n",
       "id                                              \n",
       "id2875421         -73.964630         40.765602  \n",
       "id2377394         -73.999481         40.731152  \n",
       "id3858529         -74.005333         40.710087  \n",
       "id3504673         -74.012268         40.706718  \n",
       "id2181028         -73.972923         40.782520  "
      ]
     },
     "execution_count": 38,
     "metadata": {},
     "output_type": "execute_result"
    }
   ],
   "source": [
    "X.head()"
   ]
  },
  {
   "cell_type": "code",
   "execution_count": 14,
   "id": "428513bb",
   "metadata": {},
   "outputs": [],
   "source": [
    "### Применим K-Fold на оставшуюяся валидационную часть X_train, y_train\n",
    "\n",
    "from sklearn.model_selection import KFold\n",
    "\n",
    "splitter = KFold(n_splits=20, shuffle=True, random_state=33)"
   ]
  },
  {
   "cell_type": "code",
   "execution_count": 15,
   "id": "d3757a8a",
   "metadata": {},
   "outputs": [],
   "source": [
    "from sklearn.linear_model import LinearRegression"
   ]
  },
  {
   "cell_type": "code",
   "execution_count": 89,
   "id": "a5535710",
   "metadata": {},
   "outputs": [],
   "source": [
    "\n",
    "### Замерьте качество на кросс-валидации!\n",
    "### Your code is here\n",
    "\n",
    "\n",
    "losses_test = []\n",
    "losses_train = []\n",
    "\n",
    "\n",
    "for train_index, test_index in splitter.split(X):\n",
    "\n",
    "    X_train, X_test = X.values[train_index], X.values[test_index]\n",
    "    y_train, y_test = y.values[train_index], y.values[test_index]\n",
    "    \n",
    "    model = LinearRegression()\n",
    "    model.fit(X_train, y_train)\n",
    "    \n",
    "    losses_test.append(\n",
    "        \n",
    "#         np.mean(\n",
    "#             ((model.predict(X_test) - np.log1p(y_test)) ** 2)\n",
    "#         ) ** (1/2)\n",
    "\n",
    "        \n",
    "#         np.mean(\n",
    "#             (model.predict(X_test) - y_test) ** 2\n",
    "#         )\n",
    "        \n",
    "        mean_squared_error(model.predict(X_test), y_test)\n",
    "        \n",
    "        \n",
    "    )\n",
    "    \n",
    "#     losses_train.append(\n",
    "#         np.mean(\n",
    "#             ((model.predict(X_train) - np.log1p(y_train)) ** 2) \n",
    "#         ) ** (1/2)\n",
    "#     )\n"
   ]
  },
  {
   "cell_type": "code",
   "execution_count": 95,
   "id": "88ca7b84",
   "metadata": {},
   "outputs": [
    {
     "data": {
      "text/plain": [
       "[0.6019567970930271,\n",
       " 0.6746059226537704,\n",
       " 0.6120940732083782,\n",
       " 0.6030460169974731,\n",
       " 0.6040891657568378,\n",
       " 0.5992565884428604,\n",
       " 0.6076003026124364,\n",
       " 0.6210194667363349,\n",
       " 0.5958806118660976,\n",
       " 0.6059323879471054,\n",
       " 0.6466755439920938,\n",
       " 0.5979708117016365,\n",
       " 0.6159370961786467,\n",
       " 0.5961019850159238,\n",
       " 0.5961045780952758,\n",
       " 0.6693773005522549,\n",
       " 0.6005708216754186,\n",
       " 0.6019798203952549,\n",
       " 0.6052041045049574,\n",
       " 0.600513682980993]"
      ]
     },
     "execution_count": 95,
     "metadata": {},
     "output_type": "execute_result"
    }
   ],
   "source": [
    "losses_test"
   ]
  },
  {
   "cell_type": "code",
   "execution_count": 92,
   "id": "4f3840bb",
   "metadata": {},
   "outputs": [
    {
     "data": {
      "text/plain": [
       "array([ 0.04961864,  0.05233807,  0.02756176,  0.02996638,  0.04962398,\n",
       "        0.0534943 ,  0.05220217,  0.05231669,  0.05055734,  0.05124283,\n",
       "       -0.00254913,  0.03278122,  0.05062422,  0.02458379, -0.06685811,\n",
       "        0.05258031, -0.06204282,  0.05284482,  0.05095789,  0.04623257])"
      ]
     },
     "execution_count": 92,
     "metadata": {},
     "output_type": "execute_result"
    }
   ],
   "source": [
    "from sklearn.model_selection import cross_val_score\n",
    "\n",
    "OLS = LinearRegression()\n",
    "scores = cross_val_score(OLS, X, y, cv=20)"
   ]
  },
  {
   "cell_type": "code",
   "execution_count": null,
   "id": "0c9244d6",
   "metadata": {},
   "outputs": [],
   "source": []
  },
  {
   "cell_type": "code",
   "execution_count": null,
   "id": "d2aa3b3e",
   "metadata": {},
   "outputs": [],
   "source": []
  },
  {
   "cell_type": "code",
   "execution_count": 94,
   "id": "05dd2292",
   "metadata": {},
   "outputs": [
    {
     "data": {
      "text/plain": [
       "0.0324038460370905"
      ]
     },
     "execution_count": 94,
     "metadata": {},
     "output_type": "execute_result"
    }
   ],
   "source": [
    "np.mean(scores)"
   ]
  },
  {
   "cell_type": "code",
   "execution_count": 93,
   "id": "889b8b38",
   "metadata": {},
   "outputs": [
    {
     "data": {
      "text/plain": [
       "0.6127958539203389"
      ]
     },
     "execution_count": 93,
     "metadata": {},
     "output_type": "execute_result"
    }
   ],
   "source": [
    "np.mean(losses_test)\n",
    "\n",
    "\n",
    "# 19.951, 19.933\n",
    "\n",
    "# 4.463\n",
    "\n",
    "# 4.467\n",
    "\n",
    "# 0.6123"
   ]
  },
  {
   "cell_type": "code",
   "execution_count": 80,
   "id": "0a754adf",
   "metadata": {},
   "outputs": [],
   "source": [
    "# np.mean(losses_train)"
   ]
  },
  {
   "cell_type": "code",
   "execution_count": 81,
   "id": "05183fa5",
   "metadata": {},
   "outputs": [
    {
     "data": {
      "text/html": [
       "<style>#sk-container-id-3 {color: black;background-color: white;}#sk-container-id-3 pre{padding: 0;}#sk-container-id-3 div.sk-toggleable {background-color: white;}#sk-container-id-3 label.sk-toggleable__label {cursor: pointer;display: block;width: 100%;margin-bottom: 0;padding: 0.3em;box-sizing: border-box;text-align: center;}#sk-container-id-3 label.sk-toggleable__label-arrow:before {content: \"▸\";float: left;margin-right: 0.25em;color: #696969;}#sk-container-id-3 label.sk-toggleable__label-arrow:hover:before {color: black;}#sk-container-id-3 div.sk-estimator:hover label.sk-toggleable__label-arrow:before {color: black;}#sk-container-id-3 div.sk-toggleable__content {max-height: 0;max-width: 0;overflow: hidden;text-align: left;background-color: #f0f8ff;}#sk-container-id-3 div.sk-toggleable__content pre {margin: 0.2em;color: black;border-radius: 0.25em;background-color: #f0f8ff;}#sk-container-id-3 input.sk-toggleable__control:checked~div.sk-toggleable__content {max-height: 200px;max-width: 100%;overflow: auto;}#sk-container-id-3 input.sk-toggleable__control:checked~label.sk-toggleable__label-arrow:before {content: \"▾\";}#sk-container-id-3 div.sk-estimator input.sk-toggleable__control:checked~label.sk-toggleable__label {background-color: #d4ebff;}#sk-container-id-3 div.sk-label input.sk-toggleable__control:checked~label.sk-toggleable__label {background-color: #d4ebff;}#sk-container-id-3 input.sk-hidden--visually {border: 0;clip: rect(1px 1px 1px 1px);clip: rect(1px, 1px, 1px, 1px);height: 1px;margin: -1px;overflow: hidden;padding: 0;position: absolute;width: 1px;}#sk-container-id-3 div.sk-estimator {font-family: monospace;background-color: #f0f8ff;border: 1px dotted black;border-radius: 0.25em;box-sizing: border-box;margin-bottom: 0.5em;}#sk-container-id-3 div.sk-estimator:hover {background-color: #d4ebff;}#sk-container-id-3 div.sk-parallel-item::after {content: \"\";width: 100%;border-bottom: 1px solid gray;flex-grow: 1;}#sk-container-id-3 div.sk-label:hover label.sk-toggleable__label {background-color: #d4ebff;}#sk-container-id-3 div.sk-serial::before {content: \"\";position: absolute;border-left: 1px solid gray;box-sizing: border-box;top: 0;bottom: 0;left: 50%;z-index: 0;}#sk-container-id-3 div.sk-serial {display: flex;flex-direction: column;align-items: center;background-color: white;padding-right: 0.2em;padding-left: 0.2em;position: relative;}#sk-container-id-3 div.sk-item {position: relative;z-index: 1;}#sk-container-id-3 div.sk-parallel {display: flex;align-items: stretch;justify-content: center;background-color: white;position: relative;}#sk-container-id-3 div.sk-item::before, #sk-container-id-3 div.sk-parallel-item::before {content: \"\";position: absolute;border-left: 1px solid gray;box-sizing: border-box;top: 0;bottom: 0;left: 50%;z-index: -1;}#sk-container-id-3 div.sk-parallel-item {display: flex;flex-direction: column;z-index: 1;position: relative;background-color: white;}#sk-container-id-3 div.sk-parallel-item:first-child::after {align-self: flex-end;width: 50%;}#sk-container-id-3 div.sk-parallel-item:last-child::after {align-self: flex-start;width: 50%;}#sk-container-id-3 div.sk-parallel-item:only-child::after {width: 0;}#sk-container-id-3 div.sk-dashed-wrapped {border: 1px dashed gray;margin: 0 0.4em 0.5em 0.4em;box-sizing: border-box;padding-bottom: 0.4em;background-color: white;}#sk-container-id-3 div.sk-label label {font-family: monospace;font-weight: bold;display: inline-block;line-height: 1.2em;}#sk-container-id-3 div.sk-label-container {text-align: center;}#sk-container-id-3 div.sk-container {/* jupyter's `normalize.less` sets `[hidden] { display: none; }` but bootstrap.min.css set `[hidden] { display: none !important; }` so we also need the `!important` here to be able to override the default hidden behavior on the sphinx rendered scikit-learn.org. See: https://github.com/scikit-learn/scikit-learn/issues/21755 */display: inline-block !important;position: relative;}#sk-container-id-3 div.sk-text-repr-fallback {display: none;}</style><div id=\"sk-container-id-3\" class=\"sk-top-container\"><div class=\"sk-text-repr-fallback\"><pre>LinearRegression()</pre><b>In a Jupyter environment, please rerun this cell to show the HTML representation or trust the notebook. <br />On GitHub, the HTML representation is unable to render, please try loading this page with nbviewer.org.</b></div><div class=\"sk-container\" hidden><div class=\"sk-item\"><div class=\"sk-estimator sk-toggleable\"><input class=\"sk-toggleable__control sk-hidden--visually\" id=\"sk-estimator-id-3\" type=\"checkbox\" checked><label for=\"sk-estimator-id-3\" class=\"sk-toggleable__label sk-toggleable__label-arrow\">LinearRegression</label><div class=\"sk-toggleable__content\"><pre>LinearRegression()</pre></div></div></div></div></div>"
      ],
      "text/plain": [
       "LinearRegression()"
      ]
     },
     "execution_count": 81,
     "metadata": {},
     "output_type": "execute_result"
    }
   ],
   "source": [
    "### Теперь построим модель на всей тренировочной выборке\n",
    "### и замерим качество на тесте!\n",
    "### Your code is here\n",
    "\n",
    "model = LinearRegression()\n",
    "model.fit(X_train, y_train)"
   ]
  },
  {
   "cell_type": "code",
   "execution_count": 82,
   "id": "81e77a77",
   "metadata": {},
   "outputs": [],
   "source": [
    "# train_error = np.mean(\n",
    "#     ((model.predict(X_train) - np.log1p(y_train)) ** 2) ** (1/2)\n",
    "# )\n",
    "\n",
    "# train_error"
   ]
  },
  {
   "cell_type": "code",
   "execution_count": 83,
   "id": "e2013123",
   "metadata": {},
   "outputs": [],
   "source": [
    "# test_error = np.mean(\n",
    "#     ((model.predict(X_test) - np.log1p(y_test)) ** 2) ) ** (1/2)\n",
    "\n",
    "# test_error"
   ]
  },
  {
   "cell_type": "code",
   "execution_count": 84,
   "id": "bd90f6ba",
   "metadata": {},
   "outputs": [
    {
     "data": {
      "text/plain": [
       "0.6083896907543802"
      ]
     },
     "execution_count": 84,
     "metadata": {},
     "output_type": "execute_result"
    }
   ],
   "source": [
    "np.mean(\n",
    "    (model.predict(X_train) - y_train) ** 2)\n"
   ]
  },
  {
   "cell_type": "code",
   "execution_count": 85,
   "id": "ab78277f",
   "metadata": {},
   "outputs": [
    {
     "data": {
      "text/plain": [
       "0.600513682980993"
      ]
     },
     "execution_count": 85,
     "metadata": {},
     "output_type": "execute_result"
    }
   ],
   "source": [
    "test_error = np.mean(\n",
    "    (model.predict(X_test) - y_test) ** 2)\n",
    "\n",
    "\n",
    "test_error"
   ]
  },
  {
   "cell_type": "code",
   "execution_count": 91,
   "id": "14fd79f0",
   "metadata": {},
   "outputs": [
    {
     "name": "stdout",
     "output_type": "stream",
     "text": [
      "0.613, 0.601\n"
     ]
    }
   ],
   "source": [
    "### Укажите в ответе на задание 4 среднее качество моделей на валидационных выборках\n",
    "### и качество модели, обученной на полной тренировочной выборке, на тестовой выборке.\n",
    "### В качестве разделителя используйте точку, ответ округлите до тысячных.\n",
    "\n",
    "print(f'{np.mean(losses_test):.3f}, {test_error:.3f}')\n",
    "\n",
    "# print(f'{test_error:.3f}')\n",
    "\n",
    "# 19.951, 19.933\n",
    "\n",
    "# 4.463, 4.462\n",
    "\n",
    "# 4.467, 4.465\n",
    "\n",
    "# 0.613, 0.601"
   ]
  },
  {
   "cell_type": "code",
   "execution_count": 87,
   "id": "ebfdaf7c",
   "metadata": {},
   "outputs": [],
   "source": [
    "from sklearn.metrics import mean_squared_error"
   ]
  },
  {
   "cell_type": "code",
   "execution_count": 88,
   "id": "99c48620",
   "metadata": {},
   "outputs": [
    {
     "data": {
      "text/plain": [
       "0.600513682980993"
      ]
     },
     "execution_count": 88,
     "metadata": {},
     "output_type": "execute_result"
    }
   ],
   "source": [
    "mean_squared_error(model.predict(X_test), y_test)"
   ]
  },
  {
   "cell_type": "code",
   "execution_count": null,
   "id": "19d71eaf",
   "metadata": {},
   "outputs": [],
   "source": []
  },
  {
   "cell_type": "code",
   "execution_count": null,
   "id": "e3bab2c2",
   "metadata": {},
   "outputs": [],
   "source": []
  },
  {
   "cell_type": "markdown",
   "id": "77a264d4",
   "metadata": {},
   "source": [
    "### Модель №2. Проделаем все то же самое, только для модели с более осознанными признаками, которые удалось получить ранее"
   ]
  },
  {
   "cell_type": "code",
   "execution_count": 22,
   "id": "d16cefaa",
   "metadata": {},
   "outputs": [],
   "source": [
    "processed_data = pd.read_csv('processed_data.csv', index_col='id')"
   ]
  },
  {
   "cell_type": "code",
   "execution_count": 23,
   "id": "de772f68",
   "metadata": {},
   "outputs": [
    {
     "data": {
      "text/html": [
       "<div>\n",
       "<style scoped>\n",
       "    .dataframe tbody tr th:only-of-type {\n",
       "        vertical-align: middle;\n",
       "    }\n",
       "\n",
       "    .dataframe tbody tr th {\n",
       "        vertical-align: top;\n",
       "    }\n",
       "\n",
       "    .dataframe thead th {\n",
       "        text-align: right;\n",
       "    }\n",
       "</style>\n",
       "<table border=\"1\" class=\"dataframe\">\n",
       "  <thead>\n",
       "    <tr style=\"text-align: right;\">\n",
       "      <th></th>\n",
       "      <th>vendor_id</th>\n",
       "      <th>passenger_count</th>\n",
       "      <th>store_and_fwd_flag</th>\n",
       "      <th>trip_duration</th>\n",
       "      <th>distance_km</th>\n",
       "    </tr>\n",
       "    <tr>\n",
       "      <th>id</th>\n",
       "      <th></th>\n",
       "      <th></th>\n",
       "      <th></th>\n",
       "      <th></th>\n",
       "      <th></th>\n",
       "    </tr>\n",
       "  </thead>\n",
       "  <tbody>\n",
       "    <tr>\n",
       "      <th>id2875421</th>\n",
       "      <td>1</td>\n",
       "      <td>930.399753</td>\n",
       "      <td>0</td>\n",
       "      <td>455.0</td>\n",
       "      <td>1.500479</td>\n",
       "    </tr>\n",
       "    <tr>\n",
       "      <th>id2377394</th>\n",
       "      <td>0</td>\n",
       "      <td>930.399753</td>\n",
       "      <td>0</td>\n",
       "      <td>663.0</td>\n",
       "      <td>1.807119</td>\n",
       "    </tr>\n",
       "    <tr>\n",
       "      <th>id3858529</th>\n",
       "      <td>1</td>\n",
       "      <td>930.399753</td>\n",
       "      <td>0</td>\n",
       "      <td>2124.0</td>\n",
       "      <td>6.392080</td>\n",
       "    </tr>\n",
       "    <tr>\n",
       "      <th>id3504673</th>\n",
       "      <td>1</td>\n",
       "      <td>930.399753</td>\n",
       "      <td>0</td>\n",
       "      <td>429.0</td>\n",
       "      <td>1.487155</td>\n",
       "    </tr>\n",
       "    <tr>\n",
       "      <th>id2181028</th>\n",
       "      <td>1</td>\n",
       "      <td>930.399753</td>\n",
       "      <td>0</td>\n",
       "      <td>435.0</td>\n",
       "      <td>1.189925</td>\n",
       "    </tr>\n",
       "  </tbody>\n",
       "</table>\n",
       "</div>"
      ],
      "text/plain": [
       "           vendor_id  passenger_count  store_and_fwd_flag  trip_duration  \\\n",
       "id                                                                         \n",
       "id2875421          1       930.399753                   0          455.0   \n",
       "id2377394          0       930.399753                   0          663.0   \n",
       "id3858529          1       930.399753                   0         2124.0   \n",
       "id3504673          1       930.399753                   0          429.0   \n",
       "id2181028          1       930.399753                   0          435.0   \n",
       "\n",
       "           distance_km  \n",
       "id                      \n",
       "id2875421     1.500479  \n",
       "id2377394     1.807119  \n",
       "id3858529     6.392080  \n",
       "id3504673     1.487155  \n",
       "id2181028     1.189925  "
      ]
     },
     "execution_count": 23,
     "metadata": {},
     "output_type": "execute_result"
    }
   ],
   "source": [
    "processed_data.head()"
   ]
  },
  {
   "cell_type": "code",
   "execution_count": 24,
   "id": "b20ab5ae",
   "metadata": {},
   "outputs": [],
   "source": [
    "### Замерять будем MSLE. Можно показать, что для оптимизации MSLE,\n",
    "### Достаточно логарифмировать таргетную переменную, \n",
    "### а потом оптимизировать привычные MSE\n",
    "import numpy as np\n",
    "\n",
    "processed_data = processed_data.assign(log_trip_duration=np.log1p(processed_data['trip_duration']))\n",
    "processed_data = processed_data.drop('trip_duration', axis=1)"
   ]
  },
  {
   "cell_type": "code",
   "execution_count": 25,
   "id": "9eec6eeb",
   "metadata": {},
   "outputs": [],
   "source": [
    "X_2 = processed_data.drop('log_trip_duration', axis=1)\n",
    "y_2 = processed_data['log_trip_duration']"
   ]
  },
  {
   "cell_type": "code",
   "execution_count": 27,
   "id": "6e2a4907",
   "metadata": {},
   "outputs": [],
   "source": [
    "### Важно! Когда сравниваем модели по их качеству\n",
    "### на валидации и на тесте, не шаффлим данные заново!\n",
    "\n",
    "test_indexes = X_test.index\n",
    "train_indexes = X_train.index\n",
    "\n",
    "X_train_2 = X_2[X_2.index.isin(train_indexes)]\n",
    "y_train_2 = y_2[y_2.index.isin(train_indexes)]\n",
    "\n",
    "X_test_2 = X_2[X_2.index.isin(test_indexes)]\n",
    "y_test_2 = y_2[y_2.index.isin(test_indexes)]"
   ]
  },
  {
   "cell_type": "code",
   "execution_count": 28,
   "id": "b7992112",
   "metadata": {},
   "outputs": [],
   "source": [
    "### Замерьте качество на кросс-валидации!\n",
    "### Your code is here"
   ]
  },
  {
   "cell_type": "code",
   "execution_count": 6,
   "id": "49593d42",
   "metadata": {},
   "outputs": [],
   "source": [
    "### Теперь построим модель и замерим качество на тесте!\n",
    "### Your code is here"
   ]
  },
  {
   "cell_type": "code",
   "execution_count": null,
   "id": "3bd266b6",
   "metadata": {},
   "outputs": [],
   "source": [
    "### Укажите в ответе на задание 5 среднее качество моделей на валидационных выборках\n",
    "### и качество модели, обученной на полной тренировочной выборке, на тестовой выборке.\n",
    "### В качестве разделителя используйте точку, ответ округлите до тысячных."
   ]
  },
  {
   "cell_type": "markdown",
   "id": "19985916",
   "metadata": {},
   "source": [
    "### Какую модель среди двух стоило бы выбрать? Помогла ли нам базовая обработка признаков с первых уроков? "
   ]
  }
 ],
 "metadata": {
  "kernelspec": {
   "display_name": "Python 3 (ipykernel)",
   "language": "python",
   "name": "python3"
  },
  "language_info": {
   "codemirror_mode": {
    "name": "ipython",
    "version": 3
   },
   "file_extension": ".py",
   "mimetype": "text/x-python",
   "name": "python",
   "nbconvert_exporter": "python",
   "pygments_lexer": "ipython3",
   "version": "3.8.13"
  }
 },
 "nbformat": 4,
 "nbformat_minor": 5
}
