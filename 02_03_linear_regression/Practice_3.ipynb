{
 "cells": [
  {
   "cell_type": "code",
   "execution_count": 1,
   "id": "c891860e",
   "metadata": {},
   "outputs": [],
   "source": [
    "import warnings\n",
    "warnings.filterwarnings('ignore')"
   ]
  },
  {
   "cell_type": "markdown",
   "id": "9a8cb469",
   "metadata": {},
   "source": [
    "## Numpy"
   ]
  },
  {
   "cell_type": "markdown",
   "id": "8aae0060",
   "metadata": {},
   "source": [
    "Numpy - библиотека python, позволяющая делать сложные вычисления и операции с массивами.\n",
    "\n",
    "Главный объект Numpy - это однородный многомерный массив. \n",
    "\n",
    "Массив - упорядоченный набор однородных данных, доступных по индексу. Чаще всего это одномерная последовательность или двумерная таблица, заполненные элементами одного типа.\n",
    "\n",
    "[Подробнее](https://pyprog.pro/introduction.html) о массивах"
   ]
  },
  {
   "cell_type": "code",
   "execution_count": 2,
   "id": "71602e3a",
   "metadata": {},
   "outputs": [],
   "source": [
    "import numpy as np"
   ]
  },
  {
   "cell_type": "code",
   "execution_count": 4,
   "id": "9a9116f9",
   "metadata": {},
   "outputs": [
    {
     "data": {
      "text/plain": [
       "array([1, 3, 2])"
      ]
     },
     "execution_count": 4,
     "metadata": {},
     "output_type": "execute_result"
    }
   ],
   "source": [
    "a = np.array([1, 3, 2])\n",
    "\n",
    "a"
   ]
  },
  {
   "cell_type": "code",
   "execution_count": 5,
   "id": "57119d4f",
   "metadata": {},
   "outputs": [
    {
     "data": {
      "text/plain": [
       "array([[1.5+0.j, 2. +0.j, 3. +0.j],\n",
       "       [4. +0.j, 5. +0.j, 6. +0.j]])"
      ]
     },
     "execution_count": 5,
     "metadata": {},
     "output_type": "execute_result"
    }
   ],
   "source": [
    "a = np.array([[1.5, 2, 3], [4, 5, 6]], dtype=np.complex128) #В отличии от списков, в массиве все элементы обязательно принадлежат одному типу\n",
    "\n",
    "a"
   ]
  },
  {
   "cell_type": "code",
   "execution_count": 6,
   "id": "dbdde97d",
   "metadata": {},
   "outputs": [
    {
     "data": {
      "text/plain": [
       "array([[    1,     2,     3],\n",
       "       [    4,     5, 10176]], dtype=int16)"
      ]
     },
     "execution_count": 6,
     "metadata": {},
     "output_type": "execute_result"
    }
   ],
   "source": [
    "a = np.array([[1.5, 2, 3], [4, 5, 600000]], dtype=np.int16) #создаст одномерную матрицу размером 2 х 3 c типом данных int16 \n",
    "\n",
    "a\n",
    "\n",
    "#Массив будет преобразован в соответствии с данным типом и на выходе полчим следующее:\n",
    "#Дробные числа переведены в целочисленный формат в соответствии с типом\n",
    "#Число 600000 не умещается в тип int16, происходит \"переполнение типа\"\n"
   ]
  },
  {
   "cell_type": "markdown",
   "id": "8e80b8d3",
   "metadata": {},
   "source": [
    "## Сложение / Вычитание матриц"
   ]
  },
  {
   "cell_type": "code",
   "execution_count": 7,
   "id": "43a62cd0",
   "metadata": {},
   "outputs": [],
   "source": [
    "### Матрица A размера 2x3\n",
    "A = np.array([[3, 4, 5],\n",
    "              [1, 1, 1]])\n",
    "\n",
    "### Матрица B размера 2x3\n",
    "B = np.array([[5, 5],\n",
    "              [3, 1]])\n",
    "\n",
    "### Так как размеры совпадают, можно вычитать и складывать!"
   ]
  },
  {
   "cell_type": "code",
   "execution_count": 8,
   "id": "7660eaf3",
   "metadata": {},
   "outputs": [
    {
     "ename": "ValueError",
     "evalue": "operands could not be broadcast together with shapes (2,3) (2,2) ",
     "output_type": "error",
     "traceback": [
      "\u001b[0;31m---------------------------------------------------------------------------\u001b[0m",
      "\u001b[0;31mValueError\u001b[0m                                Traceback (most recent call last)",
      "Input \u001b[0;32mIn [8]\u001b[0m, in \u001b[0;36m<cell line: 1>\u001b[0;34m()\u001b[0m\n\u001b[0;32m----> 1\u001b[0m \u001b[43mA\u001b[49m\u001b[43m \u001b[49m\u001b[38;5;241;43m-\u001b[39;49m\u001b[43m \u001b[49m\u001b[43mB\u001b[49m\n",
      "\u001b[0;31mValueError\u001b[0m: operands could not be broadcast together with shapes (2,3) (2,2) "
     ]
    }
   ],
   "source": [
    "A - B "
   ]
  },
  {
   "cell_type": "markdown",
   "id": "f760165d",
   "metadata": {},
   "source": [
    "## Умножение матриц"
   ]
  },
  {
   "cell_type": "code",
   "execution_count": 9,
   "id": "3c35f50d",
   "metadata": {},
   "outputs": [],
   "source": [
    "### Матрица A размера 2x3\n",
    "A = np.array([[3, 4, 5],\n",
    "              [1, 1, 1]])\n",
    "\n",
    "### Матрица B размера 3x3\n",
    "B = np.array([[5, 5, 5],\n",
    "              [3, 1, 10],\n",
    "              [4, 4, 12]])\n",
    "\n",
    "### Так как кол-во строк матрицы A совпадает с кол-вом строк матрицы B,\n",
    "### Можем умножить A * B"
   ]
  },
  {
   "cell_type": "code",
   "execution_count": 10,
   "id": "9806079d",
   "metadata": {},
   "outputs": [
    {
     "ename": "ValueError",
     "evalue": "shapes (3,3) and (2,3) not aligned: 3 (dim 1) != 2 (dim 0)",
     "output_type": "error",
     "traceback": [
      "\u001b[0;31m---------------------------------------------------------------------------\u001b[0m",
      "\u001b[0;31mValueError\u001b[0m                                Traceback (most recent call last)",
      "Input \u001b[0;32mIn [10]\u001b[0m, in \u001b[0;36m<cell line: 1>\u001b[0;34m()\u001b[0m\n\u001b[0;32m----> 1\u001b[0m \u001b[43mnp\u001b[49m\u001b[38;5;241;43m.\u001b[39;49m\u001b[43mdot\u001b[49m\u001b[43m(\u001b[49m\u001b[43mB\u001b[49m\u001b[43m,\u001b[49m\u001b[43m \u001b[49m\u001b[43mA\u001b[49m\u001b[43m)\u001b[49m\n",
      "File \u001b[0;32m<__array_function__ internals>:5\u001b[0m, in \u001b[0;36mdot\u001b[0;34m(*args, **kwargs)\u001b[0m\n",
      "\u001b[0;31mValueError\u001b[0m: shapes (3,3) and (2,3) not aligned: 3 (dim 1) != 2 (dim 0)"
     ]
    }
   ],
   "source": [
    "np.dot(B, A)"
   ]
  },
  {
   "cell_type": "markdown",
   "id": "92f34d16",
   "metadata": {},
   "source": [
    "## Транспонирование матриц"
   ]
  },
  {
   "cell_type": "code",
   "execution_count": 11,
   "id": "33848cc7",
   "metadata": {},
   "outputs": [],
   "source": [
    "A = np.array([[3, 4, 5],\n",
    "              [1, 1, 1]])"
   ]
  },
  {
   "cell_type": "code",
   "execution_count": 12,
   "id": "727dc085",
   "metadata": {},
   "outputs": [
    {
     "data": {
      "text/plain": [
       "array([[3, 1],\n",
       "       [4, 1],\n",
       "       [5, 1]])"
      ]
     },
     "execution_count": 12,
     "metadata": {},
     "output_type": "execute_result"
    }
   ],
   "source": [
    "A.T"
   ]
  },
  {
   "cell_type": "markdown",
   "id": "4b8b8046",
   "metadata": {},
   "source": [
    "## Единичная матрица"
   ]
  },
  {
   "cell_type": "code",
   "execution_count": 13,
   "id": "6a65779f",
   "metadata": {},
   "outputs": [
    {
     "data": {
      "text/plain": [
       "array([[1., 0., 0., 0.],\n",
       "       [0., 1., 0., 0.],\n",
       "       [0., 0., 1., 0.],\n",
       "       [0., 0., 0., 1.]])"
      ]
     },
     "execution_count": 13,
     "metadata": {},
     "output_type": "execute_result"
    }
   ],
   "source": [
    "np.eye(4)"
   ]
  },
  {
   "cell_type": "markdown",
   "id": "e4e43a7d",
   "metadata": {},
   "source": [
    "## Обращение матриц"
   ]
  },
  {
   "cell_type": "code",
   "execution_count": 14,
   "id": "32b5638b",
   "metadata": {},
   "outputs": [],
   "source": [
    "### Матрица A размера 3x3 => Ее можно обращать\n",
    "A = np.array([[5, 5, 5],\n",
    "              [3, 2, 10],\n",
    "              [4, 4, 12]])"
   ]
  },
  {
   "cell_type": "code",
   "execution_count": 15,
   "id": "b7083cc4",
   "metadata": {},
   "outputs": [
    {
     "data": {
      "text/plain": [
       "array([[ 4.00000000e-01,  1.00000000e+00, -1.00000000e+00],\n",
       "       [-1.00000000e-01, -1.00000000e+00,  8.75000000e-01],\n",
       "       [-1.00000000e-01, -2.77555756e-17,  1.25000000e-01]])"
      ]
     },
     "execution_count": 15,
     "metadata": {},
     "output_type": "execute_result"
    }
   ],
   "source": [
    "np.linalg.inv(A)"
   ]
  },
  {
   "cell_type": "code",
   "execution_count": null,
   "id": "73b7b6bc",
   "metadata": {},
   "outputs": [],
   "source": []
  },
  {
   "cell_type": "code",
   "execution_count": null,
   "id": "0e204a37",
   "metadata": {},
   "outputs": [],
   "source": []
  },
  {
   "cell_type": "markdown",
   "id": "ad7442d6",
   "metadata": {},
   "source": [
    "## $\\beta^* = (X^T \\cdot X)^{-1}\\cdot X^T \\cdot Y$"
   ]
  },
  {
   "cell_type": "code",
   "execution_count": 16,
   "id": "3e553a7f",
   "metadata": {},
   "outputs": [],
   "source": [
    "X = np.array([[23, 0.5, 1],\n",
    "              [35, 1, 1],\n",
    "              [18, 0, 1]])\n",
    "\n",
    "Y = np.array([55, 100, 45])\n"
   ]
  },
  {
   "cell_type": "code",
   "execution_count": 17,
   "id": "d9162067",
   "metadata": {},
   "outputs": [
    {
     "data": {
      "text/plain": [
       "array([  5., -30., -45.])"
      ]
     },
     "execution_count": 17,
     "metadata": {},
     "output_type": "execute_result"
    }
   ],
   "source": [
    "xxt = np.dot(X.T, X)\n",
    "xxt_inv = np.linalg.inv(xxt)\n",
    "xxt_inv_xxt = np.dot(xxt_inv, X.T)\n",
    "final_betas = np.dot(xxt_inv_xxt, Y)\n",
    "\n",
    "final_betas"
   ]
  },
  {
   "cell_type": "markdown",
   "id": "077bd1aa",
   "metadata": {},
   "source": [
    "## Пример с первого практического занятия"
   ]
  },
  {
   "cell_type": "code",
   "execution_count": 46,
   "id": "8ca6db69",
   "metadata": {},
   "outputs": [],
   "source": [
    "import pandas as pd\n",
    "\n",
    "X = pd.read_csv('X.csv').drop('Предсказание', axis=1)\n",
    "Y = pd.read_csv('Y.csv')"
   ]
  },
  {
   "cell_type": "code",
   "execution_count": 47,
   "id": "69eae9d1",
   "metadata": {},
   "outputs": [
    {
     "data": {
      "text/html": [
       "<div>\n",
       "<style scoped>\n",
       "    .dataframe tbody tr th:only-of-type {\n",
       "        vertical-align: middle;\n",
       "    }\n",
       "\n",
       "    .dataframe tbody tr th {\n",
       "        vertical-align: top;\n",
       "    }\n",
       "\n",
       "    .dataframe thead th {\n",
       "        text-align: right;\n",
       "    }\n",
       "</style>\n",
       "<table border=\"1\" class=\"dataframe\">\n",
       "  <thead>\n",
       "    <tr style=\"text-align: right;\">\n",
       "      <th></th>\n",
       "      <th>Категория</th>\n",
       "      <th>Цель в долларах</th>\n",
       "      <th>Срок</th>\n",
       "      <th>Год публикации</th>\n",
       "      <th>Close_brent</th>\n",
       "      <th>CAD</th>\n",
       "      <th>CHF</th>\n",
       "      <th>DKK</th>\n",
       "      <th>EUR</th>\n",
       "      <th>GBP</th>\n",
       "      <th>...</th>\n",
       "      <th>Design</th>\n",
       "      <th>Fashion</th>\n",
       "      <th>Film &amp; Video</th>\n",
       "      <th>Food</th>\n",
       "      <th>Journalism</th>\n",
       "      <th>Music</th>\n",
       "      <th>Photography</th>\n",
       "      <th>Publishing</th>\n",
       "      <th>Technology</th>\n",
       "      <th>Theater</th>\n",
       "    </tr>\n",
       "  </thead>\n",
       "  <tbody>\n",
       "    <tr>\n",
       "      <th>0</th>\n",
       "      <td>6035.989239</td>\n",
       "      <td>1000.0</td>\n",
       "      <td>39</td>\n",
       "      <td>2009</td>\n",
       "      <td>34.41</td>\n",
       "      <td>0</td>\n",
       "      <td>0</td>\n",
       "      <td>0</td>\n",
       "      <td>0</td>\n",
       "      <td>0</td>\n",
       "      <td>...</td>\n",
       "      <td>0</td>\n",
       "      <td>1</td>\n",
       "      <td>0</td>\n",
       "      <td>0</td>\n",
       "      <td>0</td>\n",
       "      <td>0</td>\n",
       "      <td>0</td>\n",
       "      <td>0</td>\n",
       "      <td>0</td>\n",
       "      <td>0</td>\n",
       "    </tr>\n",
       "    <tr>\n",
       "      <th>1</th>\n",
       "      <td>3591.033473</td>\n",
       "      <td>80000.0</td>\n",
       "      <td>87</td>\n",
       "      <td>2009</td>\n",
       "      <td>34.41</td>\n",
       "      <td>0</td>\n",
       "      <td>0</td>\n",
       "      <td>0</td>\n",
       "      <td>0</td>\n",
       "      <td>0</td>\n",
       "      <td>...</td>\n",
       "      <td>0</td>\n",
       "      <td>0</td>\n",
       "      <td>1</td>\n",
       "      <td>0</td>\n",
       "      <td>0</td>\n",
       "      <td>0</td>\n",
       "      <td>0</td>\n",
       "      <td>0</td>\n",
       "      <td>0</td>\n",
       "      <td>0</td>\n",
       "    </tr>\n",
       "    <tr>\n",
       "      <th>2</th>\n",
       "      <td>3661.424550</td>\n",
       "      <td>20.0</td>\n",
       "      <td>8</td>\n",
       "      <td>2009</td>\n",
       "      <td>34.41</td>\n",
       "      <td>0</td>\n",
       "      <td>0</td>\n",
       "      <td>0</td>\n",
       "      <td>0</td>\n",
       "      <td>0</td>\n",
       "      <td>...</td>\n",
       "      <td>0</td>\n",
       "      <td>0</td>\n",
       "      <td>0</td>\n",
       "      <td>0</td>\n",
       "      <td>0</td>\n",
       "      <td>0</td>\n",
       "      <td>0</td>\n",
       "      <td>0</td>\n",
       "      <td>0</td>\n",
       "      <td>0</td>\n",
       "    </tr>\n",
       "    <tr>\n",
       "      <th>3</th>\n",
       "      <td>4321.245721</td>\n",
       "      <td>99.0</td>\n",
       "      <td>79</td>\n",
       "      <td>2009</td>\n",
       "      <td>34.41</td>\n",
       "      <td>0</td>\n",
       "      <td>0</td>\n",
       "      <td>0</td>\n",
       "      <td>0</td>\n",
       "      <td>0</td>\n",
       "      <td>...</td>\n",
       "      <td>0</td>\n",
       "      <td>0</td>\n",
       "      <td>0</td>\n",
       "      <td>0</td>\n",
       "      <td>0</td>\n",
       "      <td>0</td>\n",
       "      <td>0</td>\n",
       "      <td>0</td>\n",
       "      <td>1</td>\n",
       "      <td>0</td>\n",
       "    </tr>\n",
       "    <tr>\n",
       "      <th>4</th>\n",
       "      <td>6035.989239</td>\n",
       "      <td>1900.0</td>\n",
       "      <td>28</td>\n",
       "      <td>2009</td>\n",
       "      <td>34.41</td>\n",
       "      <td>0</td>\n",
       "      <td>0</td>\n",
       "      <td>0</td>\n",
       "      <td>0</td>\n",
       "      <td>0</td>\n",
       "      <td>...</td>\n",
       "      <td>0</td>\n",
       "      <td>1</td>\n",
       "      <td>0</td>\n",
       "      <td>0</td>\n",
       "      <td>0</td>\n",
       "      <td>0</td>\n",
       "      <td>0</td>\n",
       "      <td>0</td>\n",
       "      <td>0</td>\n",
       "      <td>0</td>\n",
       "    </tr>\n",
       "  </tbody>\n",
       "</table>\n",
       "<p>5 rows × 32 columns</p>\n",
       "</div>"
      ],
      "text/plain": [
       "     Категория  Цель в долларах  Срок  Год публикации  Close_brent  CAD  CHF  \\\n",
       "0  6035.989239           1000.0    39            2009        34.41    0    0   \n",
       "1  3591.033473          80000.0    87            2009        34.41    0    0   \n",
       "2  3661.424550             20.0     8            2009        34.41    0    0   \n",
       "3  4321.245721             99.0    79            2009        34.41    0    0   \n",
       "4  6035.989239           1900.0    28            2009        34.41    0    0   \n",
       "\n",
       "   DKK  EUR  GBP  ...  Design  Fashion  Film & Video  Food  Journalism  Music  \\\n",
       "0    0    0    0  ...       0        1             0     0           0      0   \n",
       "1    0    0    0  ...       0        0             1     0           0      0   \n",
       "2    0    0    0  ...       0        0             0     0           0      0   \n",
       "3    0    0    0  ...       0        0             0     0           0      0   \n",
       "4    0    0    0  ...       0        1             0     0           0      0   \n",
       "\n",
       "   Photography  Publishing  Technology  Theater  \n",
       "0            0           0           0        0  \n",
       "1            0           0           0        0  \n",
       "2            0           0           0        0  \n",
       "3            0           0           1        0  \n",
       "4            0           0           0        0  \n",
       "\n",
       "[5 rows x 32 columns]"
      ]
     },
     "execution_count": 47,
     "metadata": {},
     "output_type": "execute_result"
    }
   ],
   "source": [
    "X.head()"
   ]
  },
  {
   "cell_type": "code",
   "execution_count": 48,
   "id": "3283cc7b",
   "metadata": {},
   "outputs": [
    {
     "data": {
      "text/html": [
       "<div>\n",
       "<style scoped>\n",
       "    .dataframe tbody tr th:only-of-type {\n",
       "        vertical-align: middle;\n",
       "    }\n",
       "\n",
       "    .dataframe tbody tr th {\n",
       "        vertical-align: top;\n",
       "    }\n",
       "\n",
       "    .dataframe thead th {\n",
       "        text-align: right;\n",
       "    }\n",
       "</style>\n",
       "<table border=\"1\" class=\"dataframe\">\n",
       "  <thead>\n",
       "    <tr style=\"text-align: right;\">\n",
       "      <th></th>\n",
       "      <th>таргет2</th>\n",
       "    </tr>\n",
       "  </thead>\n",
       "  <tbody>\n",
       "    <tr>\n",
       "      <th>0</th>\n",
       "      <td>625.0</td>\n",
       "    </tr>\n",
       "    <tr>\n",
       "      <th>1</th>\n",
       "      <td>22.0</td>\n",
       "    </tr>\n",
       "    <tr>\n",
       "      <th>2</th>\n",
       "      <td>35.0</td>\n",
       "    </tr>\n",
       "    <tr>\n",
       "      <th>3</th>\n",
       "      <td>145.0</td>\n",
       "    </tr>\n",
       "    <tr>\n",
       "      <th>4</th>\n",
       "      <td>387.0</td>\n",
       "    </tr>\n",
       "  </tbody>\n",
       "</table>\n",
       "</div>"
      ],
      "text/plain": [
       "   таргет2\n",
       "0    625.0\n",
       "1     22.0\n",
       "2     35.0\n",
       "3    145.0\n",
       "4    387.0"
      ]
     },
     "execution_count": 48,
     "metadata": {},
     "output_type": "execute_result"
    }
   ],
   "source": [
    "Y.head()"
   ]
  },
  {
   "cell_type": "code",
   "execution_count": 49,
   "id": "048de074",
   "metadata": {},
   "outputs": [
    {
     "name": "stdout",
     "output_type": "stream",
     "text": [
      "Категория 0.9912323981302028\n",
      "Цель в долларах 0.00046210545732411\n",
      "Срок 84.7960380387574\n",
      "Год публикации 789.623759578069\n",
      "Close_brent 32.52363238751121\n",
      "CAD 477.0442389583962\n",
      "CHF 8787.42593334129\n",
      "DKK 519.7524602299042\n",
      "EUR 408.436698789295\n",
      "GBP 2794.5137779940305\n",
      "HKD -2352.9318103890287\n",
      "JPY -8944.518338941747\n",
      "MXN -4246.631441116689\n",
      "NOK -1181.5007050675156\n",
      "NZD -395.7721892123315\n",
      "SEK 2085.2689875865517\n",
      "SGD -1612.7741094312478\n",
      "USD 7000.650258232897\n",
      "Art -105.3700874282956\n",
      "Comics -531.3510093663201\n",
      "Crafts -608.7810292957257\n",
      "Dance -379.446410488763\n",
      "Design -219.11835083464044\n",
      "Fashion -293.370137548206\n",
      "Film & Video -49.87838409990245\n",
      "Food -692.236001794821\n",
      "Journalism -451.5810021298357\n",
      "Music -303.9350860455762\n",
      "Photography 222.96861493755802\n",
      "Publishing -370.53746498403916\n",
      "Technology -175.9808894795485\n",
      "Theater 237.6083627399823\n",
      "[-1600008.97574461]\n"
     ]
    }
   ],
   "source": [
    "from sklearn.linear_model import LinearRegression\n",
    "\n",
    "model = LinearRegression()\n",
    "model.fit(X, Y)\n",
    "\n",
    "\n",
    "for column, coef in zip(X.columns, model.coef_):\n",
    "    print(column, coef)\n",
    "    \n",
    "print(model.intercept_)"
   ]
  },
  {
   "cell_type": "code",
   "execution_count": 50,
   "id": "e68529b6",
   "metadata": {},
   "outputs": [],
   "source": [
    "X['constant'] = 1"
   ]
  },
  {
   "cell_type": "code",
   "execution_count": 51,
   "id": "24bbbc7c",
   "metadata": {},
   "outputs": [
    {
     "data": {
      "text/plain": [
       "array([[ 9.91232399e-01],\n",
       "       [ 4.62105457e-04],\n",
       "       [ 8.47960380e+01],\n",
       "       [ 7.89623760e+02],\n",
       "       [ 3.25236324e+01],\n",
       "       [ 4.77044239e+02],\n",
       "       [ 8.78742593e+03],\n",
       "       [ 5.19752460e+02],\n",
       "       [ 4.08436699e+02],\n",
       "       [ 2.79451378e+03],\n",
       "       [-2.35293181e+03],\n",
       "       [-8.94451834e+03],\n",
       "       [-4.24663144e+03],\n",
       "       [-1.18150071e+03],\n",
       "       [-3.95772189e+02],\n",
       "       [ 2.08526899e+03],\n",
       "       [-1.61277411e+03],\n",
       "       [ 7.00065026e+03],\n",
       "       [-1.05370087e+02],\n",
       "       [-5.31351009e+02],\n",
       "       [-6.08781029e+02],\n",
       "       [-3.79446410e+02],\n",
       "       [-2.19118351e+02],\n",
       "       [-2.93370138e+02],\n",
       "       [-4.98783841e+01],\n",
       "       [-6.92236002e+02],\n",
       "       [-4.51581002e+02],\n",
       "       [-3.03935086e+02],\n",
       "       [ 2.22968615e+02],\n",
       "       [-3.70537465e+02],\n",
       "       [-1.75980889e+02],\n",
       "       [ 2.37608363e+02],\n",
       "       [-1.60000898e+06]])"
      ]
     },
     "execution_count": 51,
     "metadata": {},
     "output_type": "execute_result"
    }
   ],
   "source": [
    "xxt = np.dot(X.T, X)\n",
    "xxt_inv = np.linalg.inv(xxt)\n",
    "xxt_inv_xxt = np.dot(xxt_inv, X.T)\n",
    "final_betas = np.dot(xxt_inv_xxt, Y)\n",
    "\n",
    "final_betas"
   ]
  },
  {
   "cell_type": "code",
   "execution_count": 52,
   "id": "ae621f0d",
   "metadata": {},
   "outputs": [
    {
     "name": "stdout",
     "output_type": "stream",
     "text": [
      "Категория [0.9912324]\n",
      "Цель в долларах [0.00046211]\n",
      "Срок [84.796038]\n",
      "Год публикации [789.62375955]\n",
      "Close_brent [32.52363239]\n",
      "CAD [477.04423896]\n",
      "CHF [8787.42593335]\n",
      "DKK [519.75246024]\n",
      "EUR [408.4366988]\n",
      "GBP [2794.513778]\n",
      "HKD [-2352.9318104]\n",
      "JPY [-8944.51833898]\n",
      "MXN [-4246.63144111]\n",
      "NOK [-1181.50070505]\n",
      "NZD [-395.77218921]\n",
      "SEK [2085.2689876]\n",
      "SGD [-1612.77410944]\n",
      "USD [7000.65025821]\n",
      "Art [-105.37008743]\n",
      "Comics [-531.35100937]\n",
      "Crafts [-608.78102928]\n",
      "Dance [-379.4464105]\n",
      "Design [-219.11835083]\n",
      "Fashion [-293.37013754]\n",
      "Film & Video [-49.87838412]\n",
      "Food [-692.23600179]\n",
      "Journalism [-451.58100212]\n",
      "Music [-303.93508606]\n",
      "Photography [222.96861493]\n",
      "Publishing [-370.53746499]\n",
      "Technology [-175.98088947]\n",
      "Theater [237.60836272]\n",
      "constant [-1600008.97568207]\n"
     ]
    }
   ],
   "source": [
    "for column, coef in zip(X.columns, final_betas):\n",
    "    print(column, coef)"
   ]
  },
  {
   "cell_type": "markdown",
   "id": "dff59636",
   "metadata": {},
   "source": [
    "## А что, если данных, в т.ч. признаков, очень много?"
   ]
  },
  {
   "cell_type": "code",
   "execution_count": 53,
   "id": "ae3abb6c",
   "metadata": {},
   "outputs": [],
   "source": [
    "matrix = np.random.rand(50000, 50000)"
   ]
  },
  {
   "cell_type": "code",
   "execution_count": null,
   "id": "585749ee",
   "metadata": {},
   "outputs": [],
   "source": [
    "matrixdot = np.dot(matrix.T, matrix)\n",
    "matrix_inv = np.linalg.inv(matrixdot)"
   ]
  },
  {
   "cell_type": "code",
   "execution_count": 28,
   "id": "6f45a3f3",
   "metadata": {},
   "outputs": [],
   "source": []
  },
  {
   "cell_type": "code",
   "execution_count": null,
   "id": "ecbc3c84",
   "metadata": {},
   "outputs": [],
   "source": []
  },
  {
   "cell_type": "markdown",
   "id": "16219232",
   "metadata": {},
   "source": [
    "### Hometask"
   ]
  },
  {
   "cell_type": "code",
   "execution_count": 4,
   "id": "9f8cd864",
   "metadata": {},
   "outputs": [
    {
     "data": {
      "text/html": [
       "<div>\n",
       "<style scoped>\n",
       "    .dataframe tbody tr th:only-of-type {\n",
       "        vertical-align: middle;\n",
       "    }\n",
       "\n",
       "    .dataframe tbody tr th {\n",
       "        vertical-align: top;\n",
       "    }\n",
       "\n",
       "    .dataframe thead th {\n",
       "        text-align: right;\n",
       "    }\n",
       "</style>\n",
       "<table border=\"1\" class=\"dataframe\">\n",
       "  <thead>\n",
       "    <tr style=\"text-align: right;\">\n",
       "      <th></th>\n",
       "      <th>id</th>\n",
       "      <th>vendor_id</th>\n",
       "      <th>pickup_datetime</th>\n",
       "      <th>passenger_count</th>\n",
       "      <th>store_and_fwd_flag</th>\n",
       "      <th>trip_duration</th>\n",
       "      <th>distance_km</th>\n",
       "      <th>prediction_1</th>\n",
       "      <th>prediction_2</th>\n",
       "    </tr>\n",
       "  </thead>\n",
       "  <tbody>\n",
       "    <tr>\n",
       "      <th>0</th>\n",
       "      <td>id2875421</td>\n",
       "      <td>1</td>\n",
       "      <td>2016-03-14 17:24:55</td>\n",
       "      <td>930.399753</td>\n",
       "      <td>0</td>\n",
       "      <td>455.0</td>\n",
       "      <td>1.500479</td>\n",
       "      <td>578.156451</td>\n",
       "      <td>355.270710</td>\n",
       "    </tr>\n",
       "    <tr>\n",
       "      <th>1</th>\n",
       "      <td>id2377394</td>\n",
       "      <td>0</td>\n",
       "      <td>2016-06-12 00:43:35</td>\n",
       "      <td>930.399753</td>\n",
       "      <td>0</td>\n",
       "      <td>663.0</td>\n",
       "      <td>1.807119</td>\n",
       "      <td>962.657188</td>\n",
       "      <td>674.295781</td>\n",
       "    </tr>\n",
       "    <tr>\n",
       "      <th>2</th>\n",
       "      <td>id3858529</td>\n",
       "      <td>1</td>\n",
       "      <td>2016-01-19 11:35:24</td>\n",
       "      <td>930.399753</td>\n",
       "      <td>0</td>\n",
       "      <td>2124.0</td>\n",
       "      <td>6.392080</td>\n",
       "      <td>2546.180515</td>\n",
       "      <td>2422.132431</td>\n",
       "    </tr>\n",
       "  </tbody>\n",
       "</table>\n",
       "</div>"
      ],
      "text/plain": [
       "          id  vendor_id      pickup_datetime  passenger_count  \\\n",
       "0  id2875421          1  2016-03-14 17:24:55       930.399753   \n",
       "1  id2377394          0  2016-06-12 00:43:35       930.399753   \n",
       "2  id3858529          1  2016-01-19 11:35:24       930.399753   \n",
       "\n",
       "   store_and_fwd_flag  trip_duration  distance_km  prediction_1  prediction_2  \n",
       "0                   0          455.0     1.500479    578.156451    355.270710  \n",
       "1                   0          663.0     1.807119    962.657188    674.295781  \n",
       "2                   0         2124.0     6.392080   2546.180515   2422.132431  "
      ]
     },
     "execution_count": 4,
     "metadata": {},
     "output_type": "execute_result"
    }
   ],
   "source": [
    "import pandas as pd\n",
    "import numpy as np"
   ]
  },
  {
   "cell_type": "code",
   "execution_count": 35,
   "id": "b56b7e9b",
   "metadata": {},
   "outputs": [
    {
     "data": {
      "text/html": [
       "<div>\n",
       "<style scoped>\n",
       "    .dataframe tbody tr th:only-of-type {\n",
       "        vertical-align: middle;\n",
       "    }\n",
       "\n",
       "    .dataframe tbody tr th {\n",
       "        vertical-align: top;\n",
       "    }\n",
       "\n",
       "    .dataframe thead th {\n",
       "        text-align: right;\n",
       "    }\n",
       "</style>\n",
       "<table border=\"1\" class=\"dataframe\">\n",
       "  <thead>\n",
       "    <tr style=\"text-align: right;\">\n",
       "      <th></th>\n",
       "      <th>vendor_id</th>\n",
       "      <th>pickup_datetime</th>\n",
       "      <th>passenger_count</th>\n",
       "      <th>store_and_fwd_flag</th>\n",
       "      <th>trip_duration</th>\n",
       "      <th>distance_km</th>\n",
       "    </tr>\n",
       "    <tr>\n",
       "      <th>id</th>\n",
       "      <th></th>\n",
       "      <th></th>\n",
       "      <th></th>\n",
       "      <th></th>\n",
       "      <th></th>\n",
       "      <th></th>\n",
       "    </tr>\n",
       "  </thead>\n",
       "  <tbody>\n",
       "    <tr>\n",
       "      <th>id2875421</th>\n",
       "      <td>1</td>\n",
       "      <td>2016-03-14 17:24:55</td>\n",
       "      <td>930.399753</td>\n",
       "      <td>0</td>\n",
       "      <td>455.0</td>\n",
       "      <td>1.500479</td>\n",
       "    </tr>\n",
       "    <tr>\n",
       "      <th>id2377394</th>\n",
       "      <td>0</td>\n",
       "      <td>2016-06-12 00:43:35</td>\n",
       "      <td>930.399753</td>\n",
       "      <td>0</td>\n",
       "      <td>663.0</td>\n",
       "      <td>1.807119</td>\n",
       "    </tr>\n",
       "    <tr>\n",
       "      <th>id3858529</th>\n",
       "      <td>1</td>\n",
       "      <td>2016-01-19 11:35:24</td>\n",
       "      <td>930.399753</td>\n",
       "      <td>0</td>\n",
       "      <td>2124.0</td>\n",
       "      <td>6.392080</td>\n",
       "    </tr>\n",
       "  </tbody>\n",
       "</table>\n",
       "</div>"
      ],
      "text/plain": [
       "           vendor_id      pickup_datetime  passenger_count  \\\n",
       "id                                                           \n",
       "id2875421          1  2016-03-14 17:24:55       930.399753   \n",
       "id2377394          0  2016-06-12 00:43:35       930.399753   \n",
       "id3858529          1  2016-01-19 11:35:24       930.399753   \n",
       "\n",
       "           store_and_fwd_flag  trip_duration  distance_km  \n",
       "id                                                         \n",
       "id2875421                   0          455.0     1.500479  \n",
       "id2377394                   0          663.0     1.807119  \n",
       "id3858529                   0         2124.0     6.392080  "
      ]
     },
     "execution_count": 35,
     "metadata": {},
     "output_type": "execute_result"
    }
   ],
   "source": [
    "df = pd.read_csv('../data/taxi_dataset_with_target.csv', index_col='id')\n",
    "df.head(3)"
   ]
  },
  {
   "cell_type": "code",
   "execution_count": 24,
   "id": "6a0fa742",
   "metadata": {},
   "outputs": [
    {
     "data": {
      "text/plain": [
       "930.399753     1033540\n",
       "1005.458335     210318\n",
       "1070.232174      78088\n",
       "1028.236276      59896\n",
       "1061.355223      48333\n",
       "1053.529749      28404\n",
       "1718.433333         60\n",
       "19.666667            3\n",
       "560.000000           1\n",
       "104.000000           1\n",
       "Name: passenger_count, dtype: int64"
      ]
     },
     "execution_count": 24,
     "metadata": {},
     "output_type": "execute_result"
    }
   ],
   "source": [
    "df['passenger_count'].value_counts()"
   ]
  },
  {
   "cell_type": "markdown",
   "id": "e9a48d2a",
   "metadata": {},
   "source": [
    "### Statsmodels usage"
   ]
  },
  {
   "cell_type": "code",
   "execution_count": 8,
   "id": "4b310b40",
   "metadata": {},
   "outputs": [],
   "source": [
    "from statsmodels.formula.api import ols"
   ]
  },
  {
   "cell_type": "code",
   "execution_count": 46,
   "id": "bb95db47",
   "metadata": {},
   "outputs": [],
   "source": [
    "model = ols('trip_duration ~ vendor_id + passenger_count + store_and_fwd_flag  + distance_km', data=df).fit()"
   ]
  },
  {
   "cell_type": "code",
   "execution_count": 47,
   "id": "0d00ab59",
   "metadata": {},
   "outputs": [
    {
     "name": "stdout",
     "output_type": "stream",
     "text": [
      "                            OLS Regression Results                            \n",
      "==============================================================================\n",
      "Dep. Variable:          trip_duration   R-squared:                       0.009\n",
      "Model:                            OLS   Adj. R-squared:                  0.009\n",
      "Method:                 Least Squares   F-statistic:                     3453.\n",
      "Date:                Fri, 07 Apr 2023   Prob (F-statistic):               0.00\n",
      "Time:                        23:29:43   Log-Likelihood:            -1.4554e+07\n",
      "No. Observations:             1458644   AIC:                         2.911e+07\n",
      "Df Residuals:                 1458639   BIC:                         2.911e+07\n",
      "Df Model:                           4                                         \n",
      "Covariance Type:            nonrobust                                         \n",
      "======================================================================================\n",
      "                         coef    std err          t      P>|t|      [0.025      0.975]\n",
      "--------------------------------------------------------------------------------------\n",
      "Intercept            171.6566     88.461      1.940      0.052      -1.723     345.036\n",
      "vendor_id            198.4631      8.985     22.088      0.000     180.853     216.074\n",
      "passenger_count        0.2963      0.093      3.178      0.001       0.114       0.479\n",
      "store_and_fwd_flag    56.4691     58.487      0.965      0.334     -58.163     171.102\n",
      "distance_km          115.2735      1.005    114.732      0.000     113.304     117.243\n",
      "================================================================================\n",
      "Omnibus:                  8313667.910   Durbin-Watson:                     2.000\n",
      "Prob(Omnibus):                  0.000   Jarque-Bera (JB):   2321850987788066.000\n",
      "Skew:                         347.580   Prob(JB):                           0.00\n",
      "Kurtosis:                  195457.373   Cond. No.                       1.97e+04\n",
      "================================================================================\n",
      "\n",
      "Notes:\n",
      "[1] Standard Errors assume that the covariance matrix of the errors is correctly specified.\n",
      "[2] The condition number is large, 1.97e+04. This might indicate that there are\n",
      "strong multicollinearity or other numerical problems.\n"
     ]
    }
   ],
   "source": [
    "print(model.summary())"
   ]
  },
  {
   "cell_type": "code",
   "execution_count": 48,
   "id": "8205a915",
   "metadata": {},
   "outputs": [
    {
     "data": {
      "text/plain": [
       "[171.657, 198.463, 0.296, 56.469, 115.274]"
      ]
     },
     "execution_count": 48,
     "metadata": {},
     "output_type": "execute_result"
    }
   ],
   "source": [
    "coefs = model.params.values\n",
    "[round(x, 3) for x in coefs]"
   ]
  },
  {
   "cell_type": "raw",
   "id": "72e3aca2",
   "metadata": {},
   "source": [
    "df = pd.read_csv('../data/taxi_dataset_with_target.csv', index_col='id')\n",
    "model = ols('trip_duration ~ vendor_id + passenger_count + store_and_fwd_flag  + distance_km', data=df).fit()\n",
    "coefs = model.params.values\n",
    "[round(x, 3) for x in coefs]\n",
    "\n",
    "# [171.657, 198.463, 0.296, 56.469, 115.274]\n",
    "\n",
    "Intercept             171.656581\n",
    "vendor_id             198.463137\n",
    "passenger_count         0.296313\n",
    "store_and_fwd_flag     56.469122\n",
    "distance_km           115.273538\n",
    "\n"
   ]
  },
  {
   "cell_type": "code",
   "execution_count": 51,
   "id": "c2ddea17",
   "metadata": {},
   "outputs": [
    {
     "data": {
      "text/plain": [
       "Intercept             171.656581\n",
       "vendor_id             198.463137\n",
       "passenger_count         0.296313\n",
       "store_and_fwd_flag     56.469122\n",
       "distance_km           115.273538\n",
       "dtype: float64"
      ]
     },
     "execution_count": 51,
     "metadata": {},
     "output_type": "execute_result"
    }
   ],
   "source": [
    "model.params"
   ]
  },
  {
   "cell_type": "markdown",
   "id": "e90a5652",
   "metadata": {},
   "source": [
    "### Sklearn usage"
   ]
  },
  {
   "cell_type": "code",
   "execution_count": 29,
   "id": "1298a442",
   "metadata": {},
   "outputs": [],
   "source": [
    "factors = ['vendor_id', 'passenger_count', 'store_and_fwd_flag', 'distance_km']\n",
    "Y = ['trip_duration']"
   ]
  },
  {
   "cell_type": "code",
   "execution_count": 30,
   "id": "c78dab17",
   "metadata": {},
   "outputs": [
    {
     "data": {
      "text/html": [
       "<div>\n",
       "<style scoped>\n",
       "    .dataframe tbody tr th:only-of-type {\n",
       "        vertical-align: middle;\n",
       "    }\n",
       "\n",
       "    .dataframe tbody tr th {\n",
       "        vertical-align: top;\n",
       "    }\n",
       "\n",
       "    .dataframe thead th {\n",
       "        text-align: right;\n",
       "    }\n",
       "</style>\n",
       "<table border=\"1\" class=\"dataframe\">\n",
       "  <thead>\n",
       "    <tr style=\"text-align: right;\">\n",
       "      <th></th>\n",
       "      <th>trip_duration</th>\n",
       "    </tr>\n",
       "  </thead>\n",
       "  <tbody>\n",
       "    <tr>\n",
       "      <th>0</th>\n",
       "      <td>455.0</td>\n",
       "    </tr>\n",
       "    <tr>\n",
       "      <th>1</th>\n",
       "      <td>663.0</td>\n",
       "    </tr>\n",
       "    <tr>\n",
       "      <th>2</th>\n",
       "      <td>2124.0</td>\n",
       "    </tr>\n",
       "    <tr>\n",
       "      <th>3</th>\n",
       "      <td>429.0</td>\n",
       "    </tr>\n",
       "    <tr>\n",
       "      <th>4</th>\n",
       "      <td>435.0</td>\n",
       "    </tr>\n",
       "    <tr>\n",
       "      <th>...</th>\n",
       "      <td>...</td>\n",
       "    </tr>\n",
       "    <tr>\n",
       "      <th>1458639</th>\n",
       "      <td>778.0</td>\n",
       "    </tr>\n",
       "    <tr>\n",
       "      <th>1458640</th>\n",
       "      <td>655.0</td>\n",
       "    </tr>\n",
       "    <tr>\n",
       "      <th>1458641</th>\n",
       "      <td>764.0</td>\n",
       "    </tr>\n",
       "    <tr>\n",
       "      <th>1458642</th>\n",
       "      <td>373.0</td>\n",
       "    </tr>\n",
       "    <tr>\n",
       "      <th>1458643</th>\n",
       "      <td>198.0</td>\n",
       "    </tr>\n",
       "  </tbody>\n",
       "</table>\n",
       "<p>1458644 rows × 1 columns</p>\n",
       "</div>"
      ],
      "text/plain": [
       "         trip_duration\n",
       "0                455.0\n",
       "1                663.0\n",
       "2               2124.0\n",
       "3                429.0\n",
       "4                435.0\n",
       "...                ...\n",
       "1458639          778.0\n",
       "1458640          655.0\n",
       "1458641          764.0\n",
       "1458642          373.0\n",
       "1458643          198.0\n",
       "\n",
       "[1458644 rows x 1 columns]"
      ]
     },
     "execution_count": 30,
     "metadata": {},
     "output_type": "execute_result"
    }
   ],
   "source": [
    "df[Y]"
   ]
  },
  {
   "cell_type": "code",
   "execution_count": 31,
   "id": "7c935059",
   "metadata": {},
   "outputs": [
    {
     "data": {
      "text/html": [
       "<style>#sk-container-id-1 {color: black;background-color: white;}#sk-container-id-1 pre{padding: 0;}#sk-container-id-1 div.sk-toggleable {background-color: white;}#sk-container-id-1 label.sk-toggleable__label {cursor: pointer;display: block;width: 100%;margin-bottom: 0;padding: 0.3em;box-sizing: border-box;text-align: center;}#sk-container-id-1 label.sk-toggleable__label-arrow:before {content: \"▸\";float: left;margin-right: 0.25em;color: #696969;}#sk-container-id-1 label.sk-toggleable__label-arrow:hover:before {color: black;}#sk-container-id-1 div.sk-estimator:hover label.sk-toggleable__label-arrow:before {color: black;}#sk-container-id-1 div.sk-toggleable__content {max-height: 0;max-width: 0;overflow: hidden;text-align: left;background-color: #f0f8ff;}#sk-container-id-1 div.sk-toggleable__content pre {margin: 0.2em;color: black;border-radius: 0.25em;background-color: #f0f8ff;}#sk-container-id-1 input.sk-toggleable__control:checked~div.sk-toggleable__content {max-height: 200px;max-width: 100%;overflow: auto;}#sk-container-id-1 input.sk-toggleable__control:checked~label.sk-toggleable__label-arrow:before {content: \"▾\";}#sk-container-id-1 div.sk-estimator input.sk-toggleable__control:checked~label.sk-toggleable__label {background-color: #d4ebff;}#sk-container-id-1 div.sk-label input.sk-toggleable__control:checked~label.sk-toggleable__label {background-color: #d4ebff;}#sk-container-id-1 input.sk-hidden--visually {border: 0;clip: rect(1px 1px 1px 1px);clip: rect(1px, 1px, 1px, 1px);height: 1px;margin: -1px;overflow: hidden;padding: 0;position: absolute;width: 1px;}#sk-container-id-1 div.sk-estimator {font-family: monospace;background-color: #f0f8ff;border: 1px dotted black;border-radius: 0.25em;box-sizing: border-box;margin-bottom: 0.5em;}#sk-container-id-1 div.sk-estimator:hover {background-color: #d4ebff;}#sk-container-id-1 div.sk-parallel-item::after {content: \"\";width: 100%;border-bottom: 1px solid gray;flex-grow: 1;}#sk-container-id-1 div.sk-label:hover label.sk-toggleable__label {background-color: #d4ebff;}#sk-container-id-1 div.sk-serial::before {content: \"\";position: absolute;border-left: 1px solid gray;box-sizing: border-box;top: 0;bottom: 0;left: 50%;z-index: 0;}#sk-container-id-1 div.sk-serial {display: flex;flex-direction: column;align-items: center;background-color: white;padding-right: 0.2em;padding-left: 0.2em;position: relative;}#sk-container-id-1 div.sk-item {position: relative;z-index: 1;}#sk-container-id-1 div.sk-parallel {display: flex;align-items: stretch;justify-content: center;background-color: white;position: relative;}#sk-container-id-1 div.sk-item::before, #sk-container-id-1 div.sk-parallel-item::before {content: \"\";position: absolute;border-left: 1px solid gray;box-sizing: border-box;top: 0;bottom: 0;left: 50%;z-index: -1;}#sk-container-id-1 div.sk-parallel-item {display: flex;flex-direction: column;z-index: 1;position: relative;background-color: white;}#sk-container-id-1 div.sk-parallel-item:first-child::after {align-self: flex-end;width: 50%;}#sk-container-id-1 div.sk-parallel-item:last-child::after {align-self: flex-start;width: 50%;}#sk-container-id-1 div.sk-parallel-item:only-child::after {width: 0;}#sk-container-id-1 div.sk-dashed-wrapped {border: 1px dashed gray;margin: 0 0.4em 0.5em 0.4em;box-sizing: border-box;padding-bottom: 0.4em;background-color: white;}#sk-container-id-1 div.sk-label label {font-family: monospace;font-weight: bold;display: inline-block;line-height: 1.2em;}#sk-container-id-1 div.sk-label-container {text-align: center;}#sk-container-id-1 div.sk-container {/* jupyter's `normalize.less` sets `[hidden] { display: none; }` but bootstrap.min.css set `[hidden] { display: none !important; }` so we also need the `!important` here to be able to override the default hidden behavior on the sphinx rendered scikit-learn.org. See: https://github.com/scikit-learn/scikit-learn/issues/21755 */display: inline-block !important;position: relative;}#sk-container-id-1 div.sk-text-repr-fallback {display: none;}</style><div id=\"sk-container-id-1\" class=\"sk-top-container\"><div class=\"sk-text-repr-fallback\"><pre>LinearRegression()</pre><b>In a Jupyter environment, please rerun this cell to show the HTML representation or trust the notebook. <br />On GitHub, the HTML representation is unable to render, please try loading this page with nbviewer.org.</b></div><div class=\"sk-container\" hidden><div class=\"sk-item\"><div class=\"sk-estimator sk-toggleable\"><input class=\"sk-toggleable__control sk-hidden--visually\" id=\"sk-estimator-id-1\" type=\"checkbox\" checked><label for=\"sk-estimator-id-1\" class=\"sk-toggleable__label sk-toggleable__label-arrow\">LinearRegression</label><div class=\"sk-toggleable__content\"><pre>LinearRegression()</pre></div></div></div></div></div>"
      ],
      "text/plain": [
       "LinearRegression()"
      ]
     },
     "execution_count": 31,
     "metadata": {},
     "output_type": "execute_result"
    }
   ],
   "source": [
    "from sklearn.linear_model import LinearRegression\n",
    "\n",
    "model = LinearRegression()\n",
    "model.fit(df[factors], df[Y])"
   ]
  },
  {
   "cell_type": "code",
   "execution_count": 32,
   "id": "0628797e",
   "metadata": {},
   "outputs": [
    {
     "data": {
      "text/plain": [
       "array([171.65658146])"
      ]
     },
     "execution_count": 32,
     "metadata": {},
     "output_type": "execute_result"
    }
   ],
   "source": [
    "model.intercept_"
   ]
  },
  {
   "cell_type": "code",
   "execution_count": 33,
   "id": "bd1c19d3",
   "metadata": {},
   "outputs": [
    {
     "data": {
      "text/plain": [
       "array([[198.46313674,   0.29631295,  56.46912165, 115.27353763]])"
      ]
     },
     "execution_count": 33,
     "metadata": {},
     "output_type": "execute_result"
    }
   ],
   "source": [
    "model.coef_"
   ]
  },
  {
   "cell_type": "markdown",
   "id": "fc325ed4",
   "metadata": {},
   "source": [
    "### Hometask - matrix"
   ]
  },
  {
   "cell_type": "code",
   "execution_count": 52,
   "id": "b6427c92",
   "metadata": {},
   "outputs": [],
   "source": [
    "factors = ['vendor_id', 'passenger_count', 'store_and_fwd_flag', 'distance_km']\n",
    "Y = ['trip_duration']\n",
    "\n",
    "X = df[factors]\n",
    "Y = df[Y]"
   ]
  },
  {
   "cell_type": "code",
   "execution_count": 55,
   "id": "75e1c6d1",
   "metadata": {},
   "outputs": [],
   "source": [
    "X['constant'] = 1\n"
   ]
  },
  {
   "cell_type": "code",
   "execution_count": 58,
   "id": "615b7d66",
   "metadata": {},
   "outputs": [],
   "source": [
    "xxt = np.dot(X.T, X)"
   ]
  },
  {
   "cell_type": "code",
   "execution_count": 59,
   "id": "5755068a",
   "metadata": {},
   "outputs": [],
   "source": [
    "xxt_inv = np.linalg.inv(xxt)"
   ]
  },
  {
   "cell_type": "code",
   "execution_count": 62,
   "id": "7acd3ae4",
   "metadata": {},
   "outputs": [],
   "source": [
    "xxt_inv_xxt = np.dot(xxt_inv, X.T)\n",
    "final_betas = np.dot(xxt_inv_xxt, Y)"
   ]
  },
  {
   "cell_type": "code",
   "execution_count": 63,
   "id": "2f9d2e7e",
   "metadata": {},
   "outputs": [
    {
     "data": {
      "text/plain": [
       "array([[198.46313674],\n",
       "       [  0.29631295],\n",
       "       [ 56.46912165],\n",
       "       [115.27353763],\n",
       "       [171.65658146]])"
      ]
     },
     "execution_count": 63,
     "metadata": {},
     "output_type": "execute_result"
    }
   ],
   "source": [
    "final_betas"
   ]
  },
  {
   "cell_type": "code",
   "execution_count": null,
   "id": "35caf721",
   "metadata": {},
   "outputs": [],
   "source": []
  },
  {
   "cell_type": "code",
   "execution_count": null,
   "id": "54377e35",
   "metadata": {},
   "outputs": [],
   "source": []
  },
  {
   "cell_type": "code",
   "execution_count": null,
   "id": "7540dfa3",
   "metadata": {},
   "outputs": [],
   "source": [
    "\n",
    "# xxt_inv = np.linalg.inv(xxt)\n",
    "# xxt_inv_xxt = np.dot(xxt_inv, X.T)\n",
    "# final_betas = np.dot(xxt_inv_xxt, Y)\n",
    "\n",
    "# final_betas"
   ]
  }
 ],
 "metadata": {
  "kernelspec": {
   "display_name": "Python 3 (ipykernel)",
   "language": "python",
   "name": "python3"
  },
  "language_info": {
   "codemirror_mode": {
    "name": "ipython",
    "version": 3
   },
   "file_extension": ".py",
   "mimetype": "text/x-python",
   "name": "python",
   "nbconvert_exporter": "python",
   "pygments_lexer": "ipython3",
   "version": "3.8.13"
  }
 },
 "nbformat": 4,
 "nbformat_minor": 5
}
