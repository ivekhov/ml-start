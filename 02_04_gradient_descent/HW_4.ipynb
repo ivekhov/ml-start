{
 "cells": [
  {
   "cell_type": "markdown",
   "id": "4bc271a2",
   "metadata": {},
   "source": [
    "Реализуем градиентный спуск для задачи поиска оптимальных коэффициентов в MSE регрессии!"
   ]
  },
  {
   "cell_type": "code",
   "execution_count": 1,
   "id": "bf29c4b0",
   "metadata": {
    "collapsed": true
   },
   "outputs": [],
   "source": [
    "import numpy as np\n",
    "import pandas as pd\n",
    "import matplotlib.pyplot as plt"
   ]
  },
  {
   "cell_type": "markdown",
   "id": "8a77e52b",
   "metadata": {},
   "source": [
    "Имеем 1000 объектов и 10 признаков у каждого (+таргет)!\n",
    "\n",
    "Обучим модель линейной регрессии:\n",
    "\n",
    "$$\n",
    "a(x) = \\beta_1 d_{1} + \\beta_2 d_{2} + \\beta_3 d_{3} + \\beta_4 d_{4} + \\beta_5 d_{5} + \\beta_6 d_{6} + \\beta_7 d_{7} + \\beta_8 d_{8} + \\beta_9 d_{9} + \\beta_{10} d_{10} + \\beta_0\n",
    "$$\n",
    "\n",
    "Которая минимизирует MSE:\n",
    "\n",
    "$$\n",
    "Q(a(X), Y) = \\sum_i^{1000} (a(x_i) - y_i)^2\n",
    "$$"
   ]
  },
  {
   "cell_type": "code",
   "execution_count": 2,
   "id": "61accfa0",
   "metadata": {
    "collapsed": true,
    "tags": []
   },
   "outputs": [
    {
     "data": {
      "text/html": [
       "<div>\n",
       "<style scoped>\n",
       "    .dataframe tbody tr th:only-of-type {\n",
       "        vertical-align: middle;\n",
       "    }\n",
       "\n",
       "    .dataframe tbody tr th {\n",
       "        vertical-align: top;\n",
       "    }\n",
       "\n",
       "    .dataframe thead th {\n",
       "        text-align: right;\n",
       "    }\n",
       "</style>\n",
       "<table border=\"1\" class=\"dataframe\">\n",
       "  <thead>\n",
       "    <tr style=\"text-align: right;\">\n",
       "      <th></th>\n",
       "      <th>feature_1</th>\n",
       "      <th>feature_2</th>\n",
       "      <th>feature_3</th>\n",
       "      <th>feature_4</th>\n",
       "      <th>feature_5</th>\n",
       "      <th>feature_6</th>\n",
       "      <th>feature_7</th>\n",
       "      <th>feature_8</th>\n",
       "      <th>feature_9</th>\n",
       "      <th>feature_10</th>\n",
       "      <th>target</th>\n",
       "    </tr>\n",
       "  </thead>\n",
       "  <tbody>\n",
       "    <tr>\n",
       "      <th>0</th>\n",
       "      <td>0.113768</td>\n",
       "      <td>0.930064</td>\n",
       "      <td>0.330528</td>\n",
       "      <td>0.010987</td>\n",
       "      <td>0.265703</td>\n",
       "      <td>0.699462</td>\n",
       "      <td>0.058465</td>\n",
       "      <td>0.431643</td>\n",
       "      <td>0.650958</td>\n",
       "      <td>0.751820</td>\n",
       "      <td>30.147094</td>\n",
       "    </tr>\n",
       "    <tr>\n",
       "      <th>1</th>\n",
       "      <td>0.380048</td>\n",
       "      <td>0.485946</td>\n",
       "      <td>0.870232</td>\n",
       "      <td>0.473401</td>\n",
       "      <td>0.454516</td>\n",
       "      <td>0.500864</td>\n",
       "      <td>0.471723</td>\n",
       "      <td>0.234329</td>\n",
       "      <td>0.072982</td>\n",
       "      <td>0.008372</td>\n",
       "      <td>21.424402</td>\n",
       "    </tr>\n",
       "    <tr>\n",
       "      <th>2</th>\n",
       "      <td>0.768462</td>\n",
       "      <td>0.217706</td>\n",
       "      <td>0.727438</td>\n",
       "      <td>0.718377</td>\n",
       "      <td>0.452155</td>\n",
       "      <td>0.434638</td>\n",
       "      <td>0.043989</td>\n",
       "      <td>0.972489</td>\n",
       "      <td>0.450133</td>\n",
       "      <td>0.378157</td>\n",
       "      <td>31.422056</td>\n",
       "    </tr>\n",
       "    <tr>\n",
       "      <th>3</th>\n",
       "      <td>0.606637</td>\n",
       "      <td>0.604335</td>\n",
       "      <td>0.540332</td>\n",
       "      <td>0.491236</td>\n",
       "      <td>0.325632</td>\n",
       "      <td>0.206348</td>\n",
       "      <td>0.825767</td>\n",
       "      <td>0.332475</td>\n",
       "      <td>0.955518</td>\n",
       "      <td>0.162811</td>\n",
       "      <td>31.308588</td>\n",
       "    </tr>\n",
       "    <tr>\n",
       "      <th>4</th>\n",
       "      <td>0.119770</td>\n",
       "      <td>0.469718</td>\n",
       "      <td>0.632829</td>\n",
       "      <td>0.504207</td>\n",
       "      <td>0.238259</td>\n",
       "      <td>0.452457</td>\n",
       "      <td>0.775360</td>\n",
       "      <td>0.174262</td>\n",
       "      <td>0.117621</td>\n",
       "      <td>0.218883</td>\n",
       "      <td>23.322751</td>\n",
       "    </tr>\n",
       "  </tbody>\n",
       "</table>\n",
       "</div>"
      ],
      "text/plain": [
       "   feature_1  feature_2  feature_3  feature_4  feature_5  feature_6  \\\n",
       "0   0.113768   0.930064   0.330528   0.010987   0.265703   0.699462   \n",
       "1   0.380048   0.485946   0.870232   0.473401   0.454516   0.500864   \n",
       "2   0.768462   0.217706   0.727438   0.718377   0.452155   0.434638   \n",
       "3   0.606637   0.604335   0.540332   0.491236   0.325632   0.206348   \n",
       "4   0.119770   0.469718   0.632829   0.504207   0.238259   0.452457   \n",
       "\n",
       "   feature_7  feature_8  feature_9  feature_10     target  \n",
       "0   0.058465   0.431643   0.650958    0.751820  30.147094  \n",
       "1   0.471723   0.234329   0.072982    0.008372  21.424402  \n",
       "2   0.043989   0.972489   0.450133    0.378157  31.422056  \n",
       "3   0.825767   0.332475   0.955518    0.162811  31.308588  \n",
       "4   0.775360   0.174262   0.117621    0.218883  23.322751  "
      ]
     },
     "execution_count": 2,
     "metadata": {},
     "output_type": "execute_result"
    }
   ],
   "source": [
    "data = pd.read_csv('../data/gradient_descent/data.csv')\n",
    "\n",
    "data.head()"
   ]
  },
  {
   "cell_type": "markdown",
   "id": "d83ec101",
   "metadata": {},
   "source": [
    "Обучим коэффициенты линейной регрессии с помощью библиотеки <a href=\"https://scikit-learn.org/stable/modules/generated/sklearn.linear_model.LinearRegression.html\"> **sklearn** </a>\n",
    "\n",
    "Отдельно выведем оценку свободного коэффициента  ($\\beta_0$ при $d_0 = 1$)"
   ]
  },
  {
   "cell_type": "code",
   "execution_count": 3,
   "id": "26d8fc0f",
   "metadata": {
    "collapsed": true
   },
   "outputs": [],
   "source": [
    "from sklearn.linear_model import LinearRegression"
   ]
  },
  {
   "cell_type": "code",
   "execution_count": 4,
   "id": "0dd5de42",
   "metadata": {
    "collapsed": true
   },
   "outputs": [
    {
     "data": {
      "text/plain": [
       "Index(['feature_1', 'feature_2', 'feature_3', 'feature_4', 'feature_5',\n",
       "       'feature_6', 'feature_7', 'feature_8', 'feature_9', 'feature_10',\n",
       "       'target'],\n",
       "      dtype='object')"
      ]
     },
     "execution_count": 4,
     "metadata": {},
     "output_type": "execute_result"
    }
   ],
   "source": [
    "data.columns"
   ]
  },
  {
   "cell_type": "code",
   "execution_count": 48,
   "id": "8b271326",
   "metadata": {
    "collapsed": true
   },
   "outputs": [],
   "source": [
    "columns = ['feature_1', 'feature_2', 'feature_3', 'feature_4', 'feature_5',\n",
    "       'feature_6', 'feature_7', 'feature_8', 'feature_9', 'feature_10']\n",
    "\n",
    "X = data[columns]\n",
    "Y = data['target']"
   ]
  },
  {
   "cell_type": "code",
   "execution_count": 6,
   "id": "0e167269",
   "metadata": {
    "collapsed": true
   },
   "outputs": [
    {
     "data": {
      "text/html": [
       "<style>#sk-container-id-1 {color: black;background-color: white;}#sk-container-id-1 pre{padding: 0;}#sk-container-id-1 div.sk-toggleable {background-color: white;}#sk-container-id-1 label.sk-toggleable__label {cursor: pointer;display: block;width: 100%;margin-bottom: 0;padding: 0.3em;box-sizing: border-box;text-align: center;}#sk-container-id-1 label.sk-toggleable__label-arrow:before {content: \"▸\";float: left;margin-right: 0.25em;color: #696969;}#sk-container-id-1 label.sk-toggleable__label-arrow:hover:before {color: black;}#sk-container-id-1 div.sk-estimator:hover label.sk-toggleable__label-arrow:before {color: black;}#sk-container-id-1 div.sk-toggleable__content {max-height: 0;max-width: 0;overflow: hidden;text-align: left;background-color: #f0f8ff;}#sk-container-id-1 div.sk-toggleable__content pre {margin: 0.2em;color: black;border-radius: 0.25em;background-color: #f0f8ff;}#sk-container-id-1 input.sk-toggleable__control:checked~div.sk-toggleable__content {max-height: 200px;max-width: 100%;overflow: auto;}#sk-container-id-1 input.sk-toggleable__control:checked~label.sk-toggleable__label-arrow:before {content: \"▾\";}#sk-container-id-1 div.sk-estimator input.sk-toggleable__control:checked~label.sk-toggleable__label {background-color: #d4ebff;}#sk-container-id-1 div.sk-label input.sk-toggleable__control:checked~label.sk-toggleable__label {background-color: #d4ebff;}#sk-container-id-1 input.sk-hidden--visually {border: 0;clip: rect(1px 1px 1px 1px);clip: rect(1px, 1px, 1px, 1px);height: 1px;margin: -1px;overflow: hidden;padding: 0;position: absolute;width: 1px;}#sk-container-id-1 div.sk-estimator {font-family: monospace;background-color: #f0f8ff;border: 1px dotted black;border-radius: 0.25em;box-sizing: border-box;margin-bottom: 0.5em;}#sk-container-id-1 div.sk-estimator:hover {background-color: #d4ebff;}#sk-container-id-1 div.sk-parallel-item::after {content: \"\";width: 100%;border-bottom: 1px solid gray;flex-grow: 1;}#sk-container-id-1 div.sk-label:hover label.sk-toggleable__label {background-color: #d4ebff;}#sk-container-id-1 div.sk-serial::before {content: \"\";position: absolute;border-left: 1px solid gray;box-sizing: border-box;top: 0;bottom: 0;left: 50%;z-index: 0;}#sk-container-id-1 div.sk-serial {display: flex;flex-direction: column;align-items: center;background-color: white;padding-right: 0.2em;padding-left: 0.2em;position: relative;}#sk-container-id-1 div.sk-item {position: relative;z-index: 1;}#sk-container-id-1 div.sk-parallel {display: flex;align-items: stretch;justify-content: center;background-color: white;position: relative;}#sk-container-id-1 div.sk-item::before, #sk-container-id-1 div.sk-parallel-item::before {content: \"\";position: absolute;border-left: 1px solid gray;box-sizing: border-box;top: 0;bottom: 0;left: 50%;z-index: -1;}#sk-container-id-1 div.sk-parallel-item {display: flex;flex-direction: column;z-index: 1;position: relative;background-color: white;}#sk-container-id-1 div.sk-parallel-item:first-child::after {align-self: flex-end;width: 50%;}#sk-container-id-1 div.sk-parallel-item:last-child::after {align-self: flex-start;width: 50%;}#sk-container-id-1 div.sk-parallel-item:only-child::after {width: 0;}#sk-container-id-1 div.sk-dashed-wrapped {border: 1px dashed gray;margin: 0 0.4em 0.5em 0.4em;box-sizing: border-box;padding-bottom: 0.4em;background-color: white;}#sk-container-id-1 div.sk-label label {font-family: monospace;font-weight: bold;display: inline-block;line-height: 1.2em;}#sk-container-id-1 div.sk-label-container {text-align: center;}#sk-container-id-1 div.sk-container {/* jupyter's `normalize.less` sets `[hidden] { display: none; }` but bootstrap.min.css set `[hidden] { display: none !important; }` so we also need the `!important` here to be able to override the default hidden behavior on the sphinx rendered scikit-learn.org. See: https://github.com/scikit-learn/scikit-learn/issues/21755 */display: inline-block !important;position: relative;}#sk-container-id-1 div.sk-text-repr-fallback {display: none;}</style><div id=\"sk-container-id-1\" class=\"sk-top-container\"><div class=\"sk-text-repr-fallback\"><pre>LinearRegression()</pre><b>In a Jupyter environment, please rerun this cell to show the HTML representation or trust the notebook. <br />On GitHub, the HTML representation is unable to render, please try loading this page with nbviewer.org.</b></div><div class=\"sk-container\" hidden><div class=\"sk-item\"><div class=\"sk-estimator sk-toggleable\"><input class=\"sk-toggleable__control sk-hidden--visually\" id=\"sk-estimator-id-1\" type=\"checkbox\" checked><label for=\"sk-estimator-id-1\" class=\"sk-toggleable__label sk-toggleable__label-arrow\">LinearRegression</label><div class=\"sk-toggleable__content\"><pre>LinearRegression()</pre></div></div></div></div></div>"
      ],
      "text/plain": [
       "LinearRegression()"
      ]
     },
     "execution_count": 6,
     "metadata": {},
     "output_type": "execute_result"
    }
   ],
   "source": [
    "### Your code is here\n",
    "model = LinearRegression()\n",
    "model.fit(X, Y)"
   ]
  },
  {
   "cell_type": "code",
   "execution_count": 7,
   "id": "22b0033e",
   "metadata": {
    "collapsed": true
   },
   "outputs": [
    {
     "data": {
      "text/plain": [
       "4.373157038707131"
      ]
     },
     "execution_count": 7,
     "metadata": {},
     "output_type": "execute_result"
    }
   ],
   "source": [
    "model.intercept_"
   ]
  },
  {
   "cell_type": "code",
   "execution_count": 188,
   "id": "c8904825",
   "metadata": {
    "collapsed": true
   },
   "outputs": [
    {
     "data": {
      "text/plain": [
       "array([ 1.,  2.,  3.,  4.,  5.,  6.,  7.,  8.,  9., 10.])"
      ]
     },
     "execution_count": 188,
     "metadata": {},
     "output_type": "execute_result"
    }
   ],
   "source": [
    "model.coef_"
   ]
  },
  {
   "cell_type": "code",
   "execution_count": 17,
   "id": "cff2de85",
   "metadata": {
    "collapsed": true
   },
   "outputs": [
    {
     "data": {
      "text/html": [
       "<div>\n",
       "<style scoped>\n",
       "    .dataframe tbody tr th:only-of-type {\n",
       "        vertical-align: middle;\n",
       "    }\n",
       "\n",
       "    .dataframe tbody tr th {\n",
       "        vertical-align: top;\n",
       "    }\n",
       "\n",
       "    .dataframe thead th {\n",
       "        text-align: right;\n",
       "    }\n",
       "</style>\n",
       "<table border=\"1\" class=\"dataframe\">\n",
       "  <thead>\n",
       "    <tr style=\"text-align: right;\">\n",
       "      <th></th>\n",
       "      <th>feature_1</th>\n",
       "      <th>feature_2</th>\n",
       "      <th>feature_3</th>\n",
       "      <th>feature_4</th>\n",
       "      <th>feature_5</th>\n",
       "      <th>feature_6</th>\n",
       "      <th>feature_7</th>\n",
       "      <th>feature_8</th>\n",
       "      <th>feature_9</th>\n",
       "      <th>feature_10</th>\n",
       "      <th>target</th>\n",
       "      <th>intercept</th>\n",
       "    </tr>\n",
       "  </thead>\n",
       "  <tbody>\n",
       "    <tr>\n",
       "      <th>0</th>\n",
       "      <td>0.113768</td>\n",
       "      <td>0.930064</td>\n",
       "      <td>0.330528</td>\n",
       "      <td>0.010987</td>\n",
       "      <td>0.265703</td>\n",
       "      <td>0.699462</td>\n",
       "      <td>0.058465</td>\n",
       "      <td>0.431643</td>\n",
       "      <td>0.650958</td>\n",
       "      <td>0.751820</td>\n",
       "      <td>30.147094</td>\n",
       "      <td>1.0</td>\n",
       "    </tr>\n",
       "    <tr>\n",
       "      <th>1</th>\n",
       "      <td>0.380048</td>\n",
       "      <td>0.485946</td>\n",
       "      <td>0.870232</td>\n",
       "      <td>0.473401</td>\n",
       "      <td>0.454516</td>\n",
       "      <td>0.500864</td>\n",
       "      <td>0.471723</td>\n",
       "      <td>0.234329</td>\n",
       "      <td>0.072982</td>\n",
       "      <td>0.008372</td>\n",
       "      <td>21.424402</td>\n",
       "      <td>1.0</td>\n",
       "    </tr>\n",
       "    <tr>\n",
       "      <th>2</th>\n",
       "      <td>0.768462</td>\n",
       "      <td>0.217706</td>\n",
       "      <td>0.727438</td>\n",
       "      <td>0.718377</td>\n",
       "      <td>0.452155</td>\n",
       "      <td>0.434638</td>\n",
       "      <td>0.043989</td>\n",
       "      <td>0.972489</td>\n",
       "      <td>0.450133</td>\n",
       "      <td>0.378157</td>\n",
       "      <td>31.422056</td>\n",
       "      <td>1.0</td>\n",
       "    </tr>\n",
       "    <tr>\n",
       "      <th>3</th>\n",
       "      <td>0.606637</td>\n",
       "      <td>0.604335</td>\n",
       "      <td>0.540332</td>\n",
       "      <td>0.491236</td>\n",
       "      <td>0.325632</td>\n",
       "      <td>0.206348</td>\n",
       "      <td>0.825767</td>\n",
       "      <td>0.332475</td>\n",
       "      <td>0.955518</td>\n",
       "      <td>0.162811</td>\n",
       "      <td>31.308588</td>\n",
       "      <td>1.0</td>\n",
       "    </tr>\n",
       "    <tr>\n",
       "      <th>4</th>\n",
       "      <td>0.119770</td>\n",
       "      <td>0.469718</td>\n",
       "      <td>0.632829</td>\n",
       "      <td>0.504207</td>\n",
       "      <td>0.238259</td>\n",
       "      <td>0.452457</td>\n",
       "      <td>0.775360</td>\n",
       "      <td>0.174262</td>\n",
       "      <td>0.117621</td>\n",
       "      <td>0.218883</td>\n",
       "      <td>23.322751</td>\n",
       "      <td>1.0</td>\n",
       "    </tr>\n",
       "  </tbody>\n",
       "</table>\n",
       "</div>"
      ],
      "text/plain": [
       "   feature_1  feature_2  feature_3  feature_4  feature_5  feature_6  \\\n",
       "0   0.113768   0.930064   0.330528   0.010987   0.265703   0.699462   \n",
       "1   0.380048   0.485946   0.870232   0.473401   0.454516   0.500864   \n",
       "2   0.768462   0.217706   0.727438   0.718377   0.452155   0.434638   \n",
       "3   0.606637   0.604335   0.540332   0.491236   0.325632   0.206348   \n",
       "4   0.119770   0.469718   0.632829   0.504207   0.238259   0.452457   \n",
       "\n",
       "   feature_7  feature_8  feature_9  feature_10     target  intercept  \n",
       "0   0.058465   0.431643   0.650958    0.751820  30.147094        1.0  \n",
       "1   0.471723   0.234329   0.072982    0.008372  21.424402        1.0  \n",
       "2   0.043989   0.972489   0.450133    0.378157  31.422056        1.0  \n",
       "3   0.825767   0.332475   0.955518    0.162811  31.308588        1.0  \n",
       "4   0.775360   0.174262   0.117621    0.218883  23.322751        1.0  "
      ]
     },
     "execution_count": 17,
     "metadata": {},
     "output_type": "execute_result"
    }
   ],
   "source": [
    "data['intercept'] = np.ones(data.shape[0])\n",
    "data.head()"
   ]
  },
  {
   "cell_type": "code",
   "execution_count": 21,
   "id": "7c998525",
   "metadata": {
    "collapsed": true
   },
   "outputs": [
    {
     "data": {
      "text/plain": [
       "array([1., 1., 1., 1., 1., 1., 1., 1., 1., 1., 1., 1.])"
      ]
     },
     "execution_count": 21,
     "metadata": {},
     "output_type": "execute_result"
    }
   ],
   "source": [
    "betas = np.ones(data.shape[1])\n",
    "betas"
   ]
  },
  {
   "cell_type": "code",
   "execution_count": 22,
   "id": "879c74f2",
   "metadata": {
    "collapsed": true
   },
   "outputs": [
    {
     "data": {
      "text/plain": [
       "array([1., 1., 1., 1., 1., 1., 1., 1., 1., 1., 1., 1., 1.])"
      ]
     },
     "execution_count": 22,
     "metadata": {},
     "output_type": "execute_result"
    }
   ],
   "source": [
    "np.ones(len(betas) + 1)"
   ]
  },
  {
   "cell_type": "code",
   "execution_count": 27,
   "id": "b33b818e",
   "metadata": {
    "collapsed": true
   },
   "outputs": [
    {
     "data": {
      "text/plain": [
       "array([ 1.,  1.,  1.,  1.,  1.,  1.,  1.,  1.,  1.,  1.,  1.,  1., 42.])"
      ]
     },
     "execution_count": 27,
     "metadata": {},
     "output_type": "execute_result"
    }
   ],
   "source": [
    "np.append(betas, 42)"
   ]
  },
  {
   "cell_type": "code",
   "execution_count": 29,
   "id": "b34ee9e5",
   "metadata": {
    "collapsed": true
   },
   "outputs": [
    {
     "data": {
      "text/plain": [
       "array([ 1.,  1.,  1.,  1.,  1.,  1.,  1.,  1.,  1.,  1.,  1.,  1., 42.])"
      ]
     },
     "execution_count": 29,
     "metadata": {},
     "output_type": "execute_result"
    }
   ],
   "source": [
    "betas = np.append(betas, 42)\n",
    "betas"
   ]
  },
  {
   "cell_type": "code",
   "execution_count": 32,
   "id": "42871961",
   "metadata": {
    "collapsed": true
   },
   "outputs": [
    {
     "data": {
      "text/plain": [
       "(13,)"
      ]
     },
     "execution_count": 32,
     "metadata": {},
     "output_type": "execute_result"
    }
   ],
   "source": [
    "betas.shape"
   ]
  },
  {
   "cell_type": "code",
   "execution_count": 44,
   "id": "749667cc",
   "metadata": {
    "collapsed": true
   },
   "outputs": [
    {
     "data": {
      "text/plain": [
       "(13,)"
      ]
     },
     "execution_count": 44,
     "metadata": {},
     "output_type": "execute_result"
    }
   ],
   "source": [
    "betas.reshape(-1, 1).ravel().shape"
   ]
  },
  {
   "cell_type": "code",
   "execution_count": 40,
   "id": "319db267",
   "metadata": {
    "collapsed": true
   },
   "outputs": [
    {
     "data": {
      "text/plain": [
       "(1, 13)"
      ]
     },
     "execution_count": 40,
     "metadata": {},
     "output_type": "execute_result"
    }
   ],
   "source": [
    "betas.reshape(1, -1).shape"
   ]
  },
  {
   "cell_type": "code",
   "execution_count": 46,
   "id": "bfcef7f4",
   "metadata": {
    "collapsed": true
   },
   "outputs": [
    {
     "data": {
      "text/plain": [
       "1776.0"
      ]
     },
     "execution_count": 46,
     "metadata": {},
     "output_type": "execute_result"
    }
   ],
   "source": [
    "np.sum(np.power(betas, 2))"
   ]
  },
  {
   "cell_type": "markdown",
   "id": "b8541372",
   "metadata": {},
   "source": [
    "Теперь вам необходимо реализовать класс для оптимизации коэффициентов линейной регрессии МНК.\n",
    "Подразумевается, что на вход алгоритм будет принимать следующие параметры:\n",
    "\n",
    "- 2 pandas датафрейма **samples** и **targets**, содержащих матрицу объектов и ветор ответов соответственно\n",
    "- значение **learning rate**, который корректирует длину вектора-градиента (чтобы он не взорвался)\n",
    "- значение **threshold**'а для критерия останова (когда мы считаем, что мы сошлись к оптимуму)\n",
    "- параметр **copy**, который позволяет либо делать изменения in-place в датафрейме, подающимся в класс, если изменения матрицы объектов в принципе при обучении имеются. Или же копировать объект при инициализации класса и возвращать новый объект, если требуется.\n",
    "\n",
    "Он будет состоять из следующих важных компонент-методов:\n",
    "\n",
    "- **add_constant_feature**: добавляет колонку с названием *constant* из единичек к переданному датафрейму **samples**. Это позволяет оценить свободный коэффициент $\\beta_0$.\n",
    "\n",
    "- **calculate_mse_loss**: вычисляет при текущих весах **self.beta** значение среднеквадратической ошибки.\n",
    "\n",
    "- **calculate_gradient**: вычисляет при текущих весах вектор-градиент по функционалу.\n",
    "\n",
    "- **iteration**: производит итерацию градиентного спуска, то есть обновляет веса модели, в соответствии с установленным **learning_rate = $\\eta$**: $\\beta^{(n+1)} = \\beta^{(n)} - \\eta \\cdot \\nabla Q(\\beta^{(n)})$\n",
    "\n",
    "- **learn**: производит итерации обучения до того момента, пока не сработает критерий останова обучения. В этот раз критерием останова будет следующее событие: во время крайней итерации изменение в функционале качества модели составило значение меньшее, чем **self.threshold**. Иными словами, $|Q(\\beta^{(n)}) - Q(\\beta^{(n+1)})| < threshold$.\n",
    "\n",
    "P.S. установите в **__init__** аттрибут экземпляра с названием **iteration_loss_dict**, который будет устроен следующим образом: на каждой итерации мы будем добавлять в словарь пару ключ-значение, где ключем будет номер итерации $n$, а значением - среднеквадратическая ошибка в точке $\\beta^{(n)}$. Это пригодится нам в будущем для визуализации."
   ]
  },
  {
   "cell_type": "markdown",
   "id": "ffeab8a4",
   "metadata": {},
   "source": [
    "### Hint: пример вычисления производной"
   ]
  },
  {
   "cell_type": "markdown",
   "id": "9a93eddc",
   "metadata": {},
   "source": [
    "$$\n",
    "Q(a, X) = \\frac{1}{N}\\cdot\\sum_{i=1}^N (\\beta_1 \\cdot d_{i1} + ... + \\beta_n \\cdot d_{in} - y_i)^2\n",
    "$$\n",
    "\n",
    "Выше - минимизируемая функция. Она зависит от n переменных: $\\beta_1, ..., \\beta_n$. Вектор-градиент - матрица с одной строчкой, состоящей из производных 1го порядка по всем переменным.\n",
    "\n",
    "$$\n",
    "\\nabla Q(a, X) = (Q'_{\\beta_1} \\;\\;\\; Q'_{\\beta_2} \\;\\;\\; ... \\;\\;\\; Q'_{\\beta_{n-1}}  \\;\\;\\;  Q'_{\\beta_n})\n",
    "$$\n",
    "\n",
    "Пример вычисления производной по первой переменной:\n",
    "\n",
    "$$\n",
    "Q'_{\\beta_1} = \\frac{2}{N} \\cdot \\sum_{i=1}^N d_{i1} (\\beta_1 \\cdot d_{i1} + ... + \\beta_{n} \\cdot d_{in} - y_i)\n",
    "$$\n",
    "\n",
    "Скажем, для нашего датасета X, Y вычислим эту саму производную при начальных единичных коэффициентах $\\beta_{start} = (1 \\;\\;\\; 1 \\;\\;\\; ...)$"
   ]
  },
  {
   "cell_type": "markdown",
   "id": "50759fba",
   "metadata": {},
   "source": [
    "Получим для каждого объекта в начале выражение из скобочек: \n",
    "$$\n",
    "\\beta_1 \\cdot d_{i1} + ... + \\beta_{n} \\cdot d_{in} - y_i\n",
    "$$"
   ]
  },
  {
   "cell_type": "code",
   "execution_count": 49,
   "id": "a37637df",
   "metadata": {
    "collapsed": true
   },
   "outputs": [],
   "source": [
    "### Инициализируем точку для коэффициентов в виде вектора из единичек\n",
    "initial_betas = np.ones(X.shape[1])\n",
    "\n",
    "### Получим выражение выше для каждого объекта. \n",
    "### Для этого скалярно перемножим строчки из X на наши beta\n",
    "\n",
    "scalar_value = np.dot(X, initial_betas.reshape(-1, 1)).ravel()\n",
    "scalar_value = (scalar_value - Y).values"
   ]
  },
  {
   "cell_type": "code",
   "execution_count": null,
   "id": "cc244a83",
   "metadata": {
    "collapsed": true
   },
   "outputs": [],
   "source": []
  },
  {
   "cell_type": "markdown",
   "id": "d6d7801a",
   "metadata": {},
   "source": [
    "Теперь полученное значение для каждого объекта умножим на соответствующее значение признака $d_1$:\n",
    "\n",
    "$$\n",
    "d_{i1} \\cdot (\\beta_1 \\cdot d_{i1} + ... + \\beta_{n} \\cdot d_{in} - y_i)\n",
    "$$"
   ]
  },
  {
   "cell_type": "code",
   "execution_count": 53,
   "id": "fac31708",
   "metadata": {
    "collapsed": true,
    "tags": []
   },
   "outputs": [],
   "source": [
    "### Возьмем столбик со значениями 1 признака\n",
    "\n",
    "d_i1 = X.values[:, 0]\n",
    "# d_i1\n",
    "\n",
    "### Умножим каждый объект на соответствующее значение признака\n",
    "scalar_value = scalar_value * d_i1\n",
    "\n",
    "# scalar_value"
   ]
  },
  {
   "cell_type": "code",
   "execution_count": 54,
   "id": "5fef2ae2",
   "metadata": {
    "collapsed": true
   },
   "outputs": [
    {
     "data": {
      "text/plain": [
       "-18.696168356967924"
      ]
     },
     "execution_count": 54,
     "metadata": {},
     "output_type": "execute_result"
    }
   ],
   "source": [
    "### Наконец, умножим все на 2 и усреднимся, \n",
    "### чтобы получить значение производной по первому параметру\n",
    "\n",
    "2 * np.mean(scalar_value)"
   ]
  },
  {
   "cell_type": "markdown",
   "id": "dd46dd34",
   "metadata": {},
   "source": [
    "### Эта логика поможем Вам при реализации класса!"
   ]
  },
  {
   "cell_type": "markdown",
   "id": "d4e37289",
   "metadata": {},
   "source": [
    "learn(self)\n",
    "\n",
    "метод возвращает итоговую среднеквадратическую ошибку.\n",
    "метод итеративно вычисляет среднеквадратическую ошибку и вектор-градиент. номер итерации и MSE записываются в словарь *iteration_loss_dict*. критерий останова срабатывает тогда, когда абсолютное значение разницы двух последних MSE меньше *self.threshold*."
   ]
  },
  {
   "cell_type": "markdown",
   "id": "30ebce11",
   "metadata": {},
   "source": [
    "## Solution: class of Model OLS (Gradient Descent)"
   ]
  },
  {
   "cell_type": "code",
   "execution_count": 189,
   "id": "d118ee88",
   "metadata": {
    "collapsed": true
   },
   "outputs": [],
   "source": [
    "class GradientDescentMse:\n",
    "    \"\"\"\n",
    "    Базовый класс для реализации градиентного спуска в задаче линейной МНК регрессии \n",
    "    \"\"\"\n",
    "\n",
    "    def __init__(self, samples: pd.DataFrame, targets: pd.DataFrame,\n",
    "                 learning_rate: float = 1e-3, threshold = 1e-6, copy: bool = True):\n",
    "        \"\"\"\n",
    "        self.samples - матрица признаков\n",
    "        self.targets - вектор таргетов\n",
    "        self.beta - вектор из изначальными весами модели == коэффициентами бета (состоит из единиц)\n",
    "        self.learning_rate - параметр *learning_rate* для корректировки нормы градиента\n",
    "        self.threshold - величина, меньше которой изменение в loss-функции означает остановку градиентного спуска\n",
    "        iteration_loss_dict - словарь, который будет хранить номер итерации и соответствующую MSE\n",
    "        copy: копирование матрицы признаков или создание изменения in-place\n",
    "        \"\"\"\n",
    "        ### Your code is here\n",
    "        self.samples = samples\n",
    "        self.targets = targets\n",
    "        self.beta = np.ones(self.samples.shape[1])\n",
    "        self.learning_rate = learning_rate\n",
    "        self.threshold = threshold\n",
    "        if copy:\n",
    "            self.samples = samples.copy()\n",
    "        else:\n",
    "            self.samples = samples\n",
    "        \n",
    "    def add_constant_feature(self):\n",
    "        \"\"\"\n",
    "        Метод для создания константной фичи в матрице объектов samples\n",
    "        Метод создает колонку с константным признаком (interсept) в матрице признаков.\n",
    "        Hint: так как количество признаков увеличилось на одну, не забудьте дополнить вектор с изначальными весами модели!\n",
    "        \"\"\"\n",
    "        ### Your code is here\n",
    "        self.samples['interсept'] = np.ones(self.samples.shape[0])\n",
    "        self.beta = np.append(self.beta, 1)\n",
    "\n",
    "        \n",
    "    def calculate_mse_loss(self) -> float:\n",
    "        \"\"\"\n",
    "        Метод для расчета среднеквадратической ошибки\n",
    "        \n",
    "        :return: среднеквадратическая ошибка при текущих весах модели : float\n",
    "        \"\"\"\n",
    "        ### Your code is here\n",
    "#         predictions = np.dot(self.samples, self.beta.reshape(-1, 1)).ravel()\n",
    "        predictions = np.dot(self.samples, self.beta)\n",
    "        errors = (predictions - self.targets).values\n",
    "        return np.mean(np.power(errors, 2))\n",
    "\n",
    "\n",
    "    def calculate_gradient(self) -> np.ndarray:\n",
    "        \"\"\"\n",
    "        Метод для вычисления вектора-градиента\n",
    "        Метод возвращает вектор-градиент, содержащий производные по каждому признаку.\n",
    "        Сначала матрица признаков скалярно перемножается на вектор self.beta, и из каждой колонки\n",
    "        полученной матрицы вычитается вектор таргетов. Затем полученная матрица скалярно умножается на матрицу признаков.\n",
    "        Наконец, итоговая матрица умножается на 2 и усредняется по каждому признаку.\n",
    "        \n",
    "        :return: вектор-градиент, т.е. массив, содержащий соответствующее количество производных по каждой переменной : np.ndarray\n",
    "        \"\"\"\n",
    "        predictions = np.dot(self.samples, self.beta)\n",
    "        errors = (predictions - self.targets).values\n",
    "        gradient_vector = 2 * np.dot(errors, self.samples) / self.samples.shape[0]\n",
    "        return gradient_vector\n",
    "\n",
    "\n",
    "    def iteration(self):\n",
    "        \"\"\"\n",
    "        Обновляем веса модели в соответствии с текущим вектором-градиентом\n",
    "        \"\"\"\n",
    "        ### Your code is here\n",
    "        self.beta = self.beta - np.dot(self.learning_rate, self.calculate_gradient())\n",
    "        \n",
    "    def learn(self):\n",
    "        \"\"\"\n",
    "        Итеративное обучение весов модели до срабатывания критерия останова\n",
    "        Запись mse и номера итерации в iteration_loss_dict\n",
    "        \n",
    "        Описание алгоритма работы для изменения бет:\n",
    "            Фиксируем текущие beta -> start_betas\n",
    "            Делаем шаг градиентного спуска\n",
    "            Записываем новые beta -> new_betas\n",
    "            Пока |L(new_beta) - L(start_beta)| >= threshold:\n",
    "                Повторяем первые 3 шага\n",
    "                \n",
    "        Описание алгоритма работы для изменения функции потерь:\n",
    "            Фиксируем текущие mse -> previous_mse\n",
    "            Делаем шаг градиентного спуска\n",
    "            Записываем новые mse -> next_mse\n",
    "            Пока |(previous_mse) - (next_mse)| >= threshold:\n",
    "                Повторяем первые 3 шага\n",
    "        \"\"\"\n",
    "        ### Your code is here\n",
    "                            \n",
    "        iteration_loss_dict = {}\n",
    "        \n",
    "        step_num = 0\n",
    "        previous_mse = self.calculate_mse_loss()\n",
    "        iteration_loss_dict[step_num] = previous_mse\n",
    "        \n",
    "        self.iteration()\n",
    "        \n",
    "        step_num += 1        \n",
    "        next_mse = self.calculate_mse_loss()\n",
    "        iteration_loss_dict[step_num] = next_mse\n",
    "        \n",
    "        while abs(previous_mse - next_mse) >= self.threshold:\n",
    "            previous_mse = self.calculate_mse_loss()\n",
    "            self.iteration()\n",
    "            step_num += 1\n",
    "            next_mse = self.calculate_mse_loss()\n",
    "            iteration_loss_dict[step_num] = next_mse\n",
    "        \n",
    "        \n",
    "        return {'mse': next_mse, 'learning_steps': iteration_loss_dict}"
   ]
  },
  {
   "cell_type": "markdown",
   "id": "951cf93a",
   "metadata": {},
   "source": [
    "Обучим коэффициенты линейной модели с помощью реализованного нами градиентного спуска, не забыв добавить свободную переменную. Получились ли такие же коэффициенты, как и при использовании **LinearRegression** из **sklearn**? Если нет, то почему они отличаются, на Ваш взгляд, и сильно ли?"
   ]
  },
  {
   "cell_type": "markdown",
   "id": "36b1eb55",
   "metadata": {},
   "source": [
    "## Implementation"
   ]
  },
  {
   "cell_type": "code",
   "execution_count": 202,
   "id": "b393b609",
   "metadata": {
    "collapsed": true
   },
   "outputs": [],
   "source": [
    "GD = GradientDescentMse(samples=X, targets=Y)\n",
    "GD.add_constant_feature()"
   ]
  },
  {
   "cell_type": "code",
   "execution_count": null,
   "id": "c1b3cd73",
   "metadata": {
    "collapsed": true
   },
   "outputs": [],
   "source": [
    "# GD.learn()\n",
    "\n",
    "# 'mse': 0.01073274068978251,"
   ]
  },
  {
   "cell_type": "code",
   "execution_count": 193,
   "id": "24fe5577",
   "metadata": {
    "collapsed": true
   },
   "outputs": [
    {
     "data": {
      "text/plain": [
       "array([0.88733305, 1.90100713, 2.88063607, 3.87662612, 4.89623507,\n",
       "       5.89126182, 6.89254811, 7.90311947, 8.87580109, 9.86109585,\n",
       "       4.94854733])"
      ]
     },
     "execution_count": 193,
     "metadata": {},
     "output_type": "execute_result"
    }
   ],
   "source": [
    "GD.beta"
   ]
  },
  {
   "cell_type": "code",
   "execution_count": null,
   "id": "e4af0287",
   "metadata": {
    "collapsed": true
   },
   "outputs": [],
   "source": []
  },
  {
   "cell_type": "code",
   "execution_count": null,
   "id": "d706fe91",
   "metadata": {
    "collapsed": true
   },
   "outputs": [],
   "source": []
  },
  {
   "cell_type": "code",
   "execution_count": null,
   "id": "214d1720",
   "metadata": {
    "collapsed": true
   },
   "outputs": [],
   "source": []
  },
  {
   "cell_type": "code",
   "execution_count": null,
   "id": "39548875",
   "metadata": {
    "collapsed": true
   },
   "outputs": [],
   "source": []
  },
  {
   "cell_type": "code",
   "execution_count": 184,
   "id": "b70f0622",
   "metadata": {
    "collapsed": true
   },
   "outputs": [
    {
     "data": {
      "text/plain": [
       "682.668858746845"
      ]
     },
     "execution_count": 184,
     "metadata": {},
     "output_type": "execute_result"
    }
   ],
   "source": [
    "GD.calculate_mse_loss()"
   ]
  },
  {
   "cell_type": "code",
   "execution_count": 178,
   "id": "8fc20fae",
   "metadata": {
    "collapsed": true
   },
   "outputs": [
    {
     "data": {
      "text/plain": [
       "array([-26.5892009 , -26.04062145, -24.62435602, -24.94476256,\n",
       "       -25.68745464, -26.99169997, -26.43473065, -27.55830063,\n",
       "       -26.44021324, -26.80569504, -51.35139764])"
      ]
     },
     "execution_count": 178,
     "metadata": {},
     "output_type": "execute_result"
    }
   ],
   "source": [
    "GD.calculate_gradient()"
   ]
  },
  {
   "cell_type": "code",
   "execution_count": 179,
   "id": "59d50ef0",
   "metadata": {
    "collapsed": true
   },
   "outputs": [
    {
     "data": {
      "text/plain": [
       "array([1., 1., 1., 1., 1., 1., 1., 1., 1., 1., 1.])"
      ]
     },
     "execution_count": 179,
     "metadata": {},
     "output_type": "execute_result"
    }
   ],
   "source": [
    "GD.beta"
   ]
  },
  {
   "cell_type": "code",
   "execution_count": 180,
   "id": "4c7355fc",
   "metadata": {
    "collapsed": true
   },
   "outputs": [],
   "source": [
    "GD.iteration()"
   ]
  },
  {
   "cell_type": "code",
   "execution_count": 186,
   "id": "9c56ab05",
   "metadata": {
    "collapsed": true
   },
   "outputs": [
    {
     "data": {
      "text/plain": [
       "array([0.88733305, 1.90100713, 2.88063607, 3.87662612, 4.89623507,\n",
       "       5.89126182, 6.89254811, 7.90311947, 8.87580109, 9.86109585,\n",
       "       4.94854733])"
      ]
     },
     "execution_count": 186,
     "metadata": {},
     "output_type": "execute_result"
    }
   ],
   "source": [
    "GD.beta"
   ]
  },
  {
   "cell_type": "code",
   "execution_count": 192,
   "id": "eb131c86",
   "metadata": {
    "collapsed": true
   },
   "outputs": [],
   "source": [
    "# GD.learn()\n",
    "\n",
    "# 'mse': 0.01073274068978251,"
   ]
  },
  {
   "cell_type": "code",
   "execution_count": 172,
   "id": "332eb15f",
   "metadata": {
    "collapsed": true
   },
   "outputs": [
    {
     "data": {
      "text/plain": [
       "673.1874227973016"
      ]
     },
     "execution_count": 172,
     "metadata": {},
     "output_type": "execute_result"
    }
   ],
   "source": [
    "GD.calculate_mse_loss()"
   ]
  },
  {
   "cell_type": "code",
   "execution_count": 154,
   "id": "392254fe",
   "metadata": {
    "collapsed": true
   },
   "outputs": [
    {
     "data": {
      "text/plain": [
       "array([-26.5892009 , -26.04062145, -24.62435602, -24.94476256,\n",
       "       -25.68745464, -26.99169997, -26.43473065, -27.55830063,\n",
       "       -26.44021324, -26.80569504, -51.35139764])"
      ]
     },
     "execution_count": 154,
     "metadata": {},
     "output_type": "execute_result"
    }
   ],
   "source": [
    "predictions = np.dot(GD.samples, GD.beta)\n",
    "# predictions.shape\n",
    "\n",
    "errors = (predictions - GD.targets).values\n",
    "# errors.shape # (1000, )\n",
    "\n",
    "# GD.samples.shape # (1000, 11)\n",
    "grad_vector = 2 * np.dot(errors, GD.samples) / GD.samples.shape[0]  # (11, )\n",
    "grad_vector\n",
    "\n"
   ]
  },
  {
   "cell_type": "code",
   "execution_count": 124,
   "id": "83f5d0ae",
   "metadata": {
    "collapsed": true
   },
   "outputs": [
    {
     "data": {
      "text/plain": [
       "numpy.ndarray"
      ]
     },
     "execution_count": 124,
     "metadata": {},
     "output_type": "execute_result"
    }
   ],
   "source": [
    "# np.dot(GD.samples, GD.beta).shape # (1000, )\n",
    "\n",
    "\n",
    "temp = np.dot(GD.samples, GD.beta.reshape(-1, 1)).ravel() - Y\n",
    "\n",
    "# type(temp) # Series\n",
    "\n",
    "# type(temp.values) # numpy.ndarray"
   ]
  },
  {
   "cell_type": "code",
   "execution_count": 203,
   "id": "a298c2df",
   "metadata": {
    "collapsed": true
   },
   "outputs": [],
   "source": [
    "# GD.add_constant_feature()\n",
    "# GD.beta.shape\n",
    "\n",
    "\n",
    "# GD.samples.shape = (1000, 11)\n",
    "# GD.beta.shape = (11, )\n",
    "\n",
    "# np.dot(GD.samples, GD.beta) # (1000, )\n",
    "# np.dot(GD.samples, GD.beta.reshape(-1, 1)).ravel() - Y\n",
    "\n",
    "\n",
    "model_steps = GD.learn()\n"
   ]
  },
  {
   "cell_type": "code",
   "execution_count": 221,
   "id": "d486e911",
   "metadata": {
    "collapsed": true
   },
   "outputs": [
    {
     "data": {
      "text/plain": [
       "[682.668858746845,\n",
       " 673.1874227973016,\n",
       " 663.839092118565,\n",
       " 654.6219976377024,\n",
       " 645.534296527588,\n",
       " 636.574171838355,\n",
       " 627.7398321340238,\n",
       " 619.0295111342318,\n",
       " 610.4414673609944,\n",
       " 601.9739837904258,\n",
       " 593.6253675093516,\n",
       " 585.3939493767411,\n",
       " 577.2780836898975,\n",
       " 569.2761478553298,\n",
       " 561.386542064253,\n",
       " 553.6076889726401,\n",
       " 545.9380333857687,\n",
       " 538.3760419471971,\n",
       " 530.9202028321077,\n",
       " 523.5690254449574,\n",
       " 516.3210401213715,\n",
       " 509.17479783422556,\n",
       " 502.12886990385465,\n",
       " 495.18184771233024,\n",
       " 488.3323424217506,\n",
       " 481.5789846964864,\n",
       " 474.9204244293271,\n",
       " 468.3553304714725,\n",
       " 461.88239036631506,\n",
       " 455.50031008696254,\n",
       " 449.20781377744396,\n",
       " 443.0036434975512,\n",
       " 436.88655897126324,\n",
       " 430.8553373387024,\n",
       " 424.9087729115747,\n",
       " 419.0456769320434,\n",
       " 413.26487733498936,\n",
       " 407.5652185136088,\n",
       " 401.94556108830346,\n",
       " 396.4047816788155,\n",
       " 390.94177267956235,\n",
       " 385.55544203812633,\n",
       " 380.2447130368547,\n",
       " 375.0085240775263,\n",
       " 369.84582846904243,\n",
       " 364.75559421809857,\n",
       " 359.7368038227958,\n",
       " 354.78845406915025,\n",
       " 349.9095558304597,\n",
       " 345.0991338694882,\n",
       " 340.3562266434278,\n",
       " 335.6798861115993,\n",
       " 331.06917754585334,\n",
       " 326.5231793436335,\n",
       " 322.0409828436655,\n",
       " 317.62169214423255,\n",
       " 313.2644239240048,\n",
       " 308.96830726538263,\n",
       " 304.7324834803224,\n",
       " 300.55610593860655,\n",
       " 296.43833989852595,\n",
       " 292.37836233993966,\n",
       " 288.37536179967867,\n",
       " 284.4285382092615,\n",
       " 280.5371027348878,\n",
       " 276.70027761967947,\n",
       " 272.91729602813683,\n",
       " 269.1874018927788,\n",
       " 265.5098497629366,\n",
       " 261.88390465567124,\n",
       " 258.3088419087838,\n",
       " 254.78394703588987,\n",
       " 251.3085155835295,\n",
       " 247.88185299028288,\n",
       " 244.50327444786532,\n",
       " 241.17210476417185,\n",
       " 237.88767822824548,\n",
       " 234.64933847714133,\n",
       " 231.4564383646606,\n",
       " 228.30833983192744,\n",
       " 225.2044137797834,\n",
       " 222.14403994297373,\n",
       " 219.12660676610022,\n",
       " 216.15151128131617,\n",
       " 213.2181589877387,\n",
       " 210.32596373255416,\n",
       " 207.47434759379348,\n",
       " 204.66274076475307,\n",
       " 201.89058144003945,\n",
       " 199.15731570321313,\n",
       " 196.46239741601102,\n",
       " 193.80528810912395,\n",
       " 191.1854568745082,\n",
       " 188.60238025920867,\n",
       " 186.0555421606739,\n",
       " 183.54443372354,\n",
       " 181.06855323786505,\n",
       " 178.62740603879158,\n",
       " 176.2205044076186,\n",
       " 173.84736747426257,\n",
       " 171.50752112108808,\n",
       " 169.20049788808882,\n",
       " 166.92583687940024,\n",
       " 164.68308367112476,\n",
       " 162.4717902204516,\n",
       " 160.29151477605234,\n",
       " 158.141821789735,\n",
       " 156.02228182933882,\n",
       " 153.93247149285173,\n",
       " 151.8719733237344,\n",
       " 149.84037572743267,\n",
       " 147.8372728890628,\n",
       " 145.86226469225252,\n",
       " 143.9149566391215,\n",
       " 141.9949597713857,\n",
       " 140.1018905925695,\n",
       " 138.2353709913101,\n",
       " 136.39502816573906,\n",
       " 134.58049454892532,\n",
       " 132.7914077353656,\n",
       " 131.0274104085068,\n",
       " 129.28815026928623,\n",
       " 127.5732799656751,\n",
       " 125.88245702321151,\n",
       " 124.21534377650902,\n",
       " 122.57160730172681,\n",
       " 120.9509193499882,\n",
       " 119.35295628173388,\n",
       " 117.77739900199757,\n",
       " 116.22393289658973,\n",
       " 114.6922477691781,\n",
       " 113.18203777925117,\n",
       " 111.69300138095348,\n",
       " 110.22484126277888,\n",
       " 108.77726428811168,\n",
       " 107.34998143660184,\n",
       " 105.94270774636371,\n",
       " 104.55516225698682,\n",
       " 103.18706795334602,\n",
       " 101.83815171020166,\n",
       " 100.50814423757693,\n",
       " 99.19678002690253,\n",
       " 97.90379729791773,\n",
       " 96.62893794631667,\n",
       " 95.3719474921302,\n",
       " 94.13257502883226,\n",
       " 92.91057317316118,\n",
       " 91.70569801564535,\n",
       " 90.51770907182372,\n",
       " 89.34636923415133,\n",
       " 88.1914447245801,\n",
       " 87.05270504780557,\n",
       " 85.92992294517002,\n",
       " 84.8228743492131,\n",
       " 83.73133833886031,\n",
       " 82.65509709524136,\n",
       " 81.5939358581281,\n",
       " 80.54764288298489,\n",
       " 79.51600939862168,\n",
       " 78.49882956544192,\n",
       " 77.49590043427642,\n",
       " 76.50702190579585,\n",
       " 75.53199669049265,\n",
       " 74.5706302692251,\n",
       " 73.62273085431552,\n",
       " 72.68810935119447,\n",
       " 71.76657932058383,\n",
       " 70.85795694121074,\n",
       " 69.96206097304518,\n",
       " 69.07871272105385,\n",
       " 68.20773599946263,\n",
       " 67.34895709652164,\n",
       " 66.50220473976421,\n",
       " 65.66731006175425,\n",
       " 64.84410656631445,\n",
       " 64.03243009522872,\n",
       " 63.23211879541207,\n",
       " 62.44301308654166,\n",
       " 61.664955629142376,\n",
       " 60.89779129312053,\n",
       " 60.14136712673913,\n",
       " 59.39553232602941,\n",
       " 58.66013820463126,\n",
       " 57.93503816405764,\n",
       " 57.220087664376194,\n",
       " 56.51514419530281,\n",
       " 55.82006724770093,\n",
       " 55.13471828548109,\n",
       " 54.45896071789526,\n",
       " 53.792659872219794,\n",
       " 53.135682966822564,\n",
       " 52.487899084607605,\n",
       " 51.84917914683331,\n",
       " 51.21939588729779,\n",
       " 50.59842382688701,\n",
       " 49.98613924848017,\n",
       " 49.38242017220758,\n",
       " 48.787146331055844,\n",
       " 48.20019914681571,\n",
       " 47.62146170636768,\n",
       " 47.05081873830038,\n",
       " 46.48815658985764,\n",
       " 45.93336320420903,\n",
       " 45.38632809803954,\n",
       " 44.84694233945416,\n",
       " 44.3150985261925,\n",
       " 43.79069076414949,\n",
       " 43.27361464619758,\n",
       " 42.76376723130648,\n",
       " 42.26104702395582,\n",
       " 41.76535395383721,\n",
       " 41.276589355841175,\n",
       " 40.794655950325115,\n",
       " 40.31945782365839,\n",
       " 39.8509004090405,\n",
       " 39.38889046758882,\n",
       " 38.9333360696916,\n",
       " 38.48414657662314,\n",
       " 38.041232622416906,\n",
       " 37.604506095993244,\n",
       " 37.17388012353801,\n",
       " 36.749269051128884,\n",
       " 36.33058842760518,\n",
       " 35.917754987678826,\n",
       " 35.5106866352818,\n",
       " 35.10930242714804,\n",
       " 34.713522556625506,\n",
       " 34.32326833771563,\n",
       " 33.93846218933703,\n",
       " 33.55902761980999,\n",
       " 33.184889211559074,\n",
       " 32.81597260603018,\n",
       " 32.45220448881972,\n",
       " 32.09351257501253,\n",
       " 31.739825594725538,\n",
       " 31.391073278854627,\n",
       " 31.047186345021426,\n",
       " 30.708096483717682,\n",
       " 30.373736344643977,\n",
       " 30.044039523240404,\n",
       " 29.71894054740639,\n",
       " 29.39837486440686,\n",
       " 29.082278827962444,\n",
       " 28.770589685520893,\n",
       " 28.463245565707147,\n",
       " 28.16018546594979,\n",
       " 27.861349240281132,\n",
       " 27.5666775873087,\n",
       " 27.276112038355507,\n",
       " 26.989594945767,\n",
       " 26.70706947138207,\n",
       " 26.42847957516613,\n",
       " 26.15377000400356,\n",
       " 25.8828862806478,\n",
       " 25.61577469282638,\n",
       " 25.352382282499107,\n",
       " 25.092656835266975,\n",
       " 24.83654686992985,\n",
       " 24.58400162819082,\n",
       " 24.334971064505,\n",
       " 24.08940583607104,\n",
       " 23.847257292963043,\n",
       " 23.60847746840111,\n",
       " 23.37301906915851,\n",
       " 23.140835466103525,\n",
       " 22.911880684874163,\n",
       " 22.686109396683744,\n",
       " 22.463476909255668,\n",
       " 22.243939157885368,\n",
       " 22.027452696627975,\n",
       " 21.813974689609463,\n",
       " 21.603462902460052,\n",
       " 21.39587569386774,\n",
       " 21.191172007250476,\n",
       " 20.989311362545333,\n",
       " 20.790253848112922,\n",
       " 20.59396011275555,\n",
       " 20.400391357847287,\n",
       " 20.2095093295748,\n",
       " 20.021276311286957,\n",
       " 19.835655115951894,\n",
       " 19.65260907872009,\n",
       " 19.47210204959171,\n",
       " 19.29409838618707,\n",
       " 19.11856294661857,\n",
       " 18.94546108246262,\n",
       " 18.774758631830483,\n",
       " 18.606421912536135,\n",
       " 18.4404177153603,\n",
       " 18.276713297408925,\n",
       " 18.11527637556503,\n",
       " 17.95607512003241,\n",
       " 17.799078147969993,\n",
       " 17.64425451721573,\n",
       " 17.491573720098444,\n",
       " 17.341005677336653,\n",
       " 17.192520732023038,\n",
       " 17.046089643693463,\n",
       " 16.90168358247917,\n",
       " 16.759274123341125,\n",
       " 16.618833240385374,\n",
       " 16.480333301258167,\n",
       " 16.34374706161981,\n",
       " 16.209047659696115,\n",
       " 16.076208610906356,\n",
       " 15.945203802566654,\n",
       " 15.816007488667765,\n",
       " 15.688594284726161,\n",
       " 15.562939162707448,\n",
       " 15.439017446021015,\n",
       " 15.316804804585056,\n",
       " 15.19627724996082,\n",
       " 15.077411130555209,\n",
       " 14.960183126890723,\n",
       " 14.844570246941878,\n",
       " 14.730549821537046,\n",
       " 14.618099499824911,\n",
       " 14.507197244804557,\n",
       " 14.397821328918313,\n",
       " 14.289950329706569,\n",
       " 14.183563125523467,\n",
       " 14.07863889131288,\n",
       " 13.975157094443622,\n",
       " 13.873097490603215,\n",
       " 13.772440119749222,\n",
       " 13.673165302117523,\n",
       " 13.575253634286595,\n",
       " 13.478685985297052,\n",
       " 13.38344349282572,\n",
       " 13.289507559413384,\n",
       " 13.196859848745534,\n",
       " 13.105482281985335,\n",
       " 13.01535703415807,\n",
       " 12.92646653058643,\n",
       " 12.838793443375701,\n",
       " 12.752320687948501,\n",
       " 12.667031419628014,\n",
       " 12.582909030269336,\n",
       " 12.499937144937972,\n",
       " 12.418099618635141,\n",
       " 12.33738053306895,\n",
       " 12.257764193470935,\n",
       " 12.179235125457332,\n",
       " 12.101778071934383,\n",
       " 12.025377990047135,\n",
       " 11.950020048171043,\n",
       " 11.875689622945876,\n",
       " 11.802372296351207,\n",
       " 11.730053852823012,\n",
       " 11.658720276410753,\n",
       " 11.588357747974372,\n",
       " 11.51895264242064,\n",
       " 11.450491525978341,\n",
       " 11.382961153511678,\n",
       " 11.316348465871448,\n",
       " 11.25064058728338,\n",
       " 11.185824822773158,\n",
       " 11.121888655627592,\n",
       " 11.058819744891476,\n",
       " 10.996605922899521,\n",
       " 10.935235192843061,\n",
       " 10.874695726370788,\n",
       " 10.814975861223306,\n",
       " 10.75606409890081,\n",
       " 10.697949102363554,\n",
       " 10.640619693764602,\n",
       " 10.58406485221445,\n",
       " 10.528273711576974,\n",
       " 10.473235558296368,\n",
       " 10.418939829254601,\n",
       " 10.365376109658927,\n",
       " 10.312534130959088,\n",
       " 10.26040376879378,\n",
       " 10.208975040965893,\n",
       " 10.158238105446236,\n",
       " 10.108183258405287,\n",
       " 10.058800932272556,\n",
       " 10.010081693823237,\n",
       " 9.962016242291696,\n",
       " 9.914595407511444,\n",
       " 9.867810148081274,\n",
       " 9.8216515495571,\n",
       " 9.776110822669215,\n",
       " 9.731179301564579,\n",
       " 9.686848442073764,\n",
       " 9.643109820002282,\n",
       " 9.599955129445856,\n",
       " 9.557376181129381,\n",
       " 9.515364900769223,\n",
       " 9.473913327458446,\n",
       " 9.433013612074799,\n",
       " 9.392658015710998,\n",
       " 9.352838908127076,\n",
       " 9.313548766224482,\n",
       " 9.274780172541556,\n",
       " 9.236525813770168,\n",
       " 9.198778479293187,\n",
       " 9.161531059742488,\n",
       " 9.12477654557718,\n",
       " 9.088508025681815,\n",
       " 9.052718685984306,\n",
       " 9.017401808093215,\n",
       " 8.982550767954203,\n",
       " 8.94815903452531,\n",
       " 8.914220168470903,\n",
       " 8.880727820873883,\n",
       " 8.847675731966028,\n",
       " 8.815057729876182,\n",
       " 8.782867729395932,\n",
       " 8.751099730762725,\n",
       " 8.719747818460021,\n",
       " 8.688806160034282,\n",
       " 8.658269004928586,\n",
       " 8.628130683332664,\n",
       " 8.59838560504898,\n",
       " 8.56902825837485,\n",
       " 8.54005320900019,\n",
       " 8.511455098920752,\n",
       " 8.483228645366646,\n",
       " 8.455368639745847,\n",
       " 8.427869946602634,\n",
       " 8.400727502590556,\n",
       " 8.373936315459893,\n",
       " 8.347491463059294,\n",
       " 8.321388092351437,\n",
       " 8.29562141844253,\n",
       " 8.270186723625432,\n",
       " 8.245079356436214,\n",
       " 8.220294730723944,\n",
       " 8.195828324733576,\n",
       " 8.171675680201668,\n",
       " 8.147832401464852,\n",
       " 8.124294154580774,\n",
       " 8.101056666461414,\n",
       " 8.078115724018554,\n",
       " 8.055467173321242,\n",
       " 8.033106918765126,\n",
       " 8.0110309222534,\n",
       " 7.989235202389282,\n",
       " 7.967715833679824,\n",
       " 7.9464689457509134,\n",
       " 7.925490722573261,\n",
       " 7.904777401699319,\n",
       " 7.884325273510854,\n",
       " 7.864130680477118,\n",
       " 7.844190016423425,\n",
       " 7.824499725810015,\n",
       " 7.80505630302101,\n",
       " 7.785856291663415,\n",
       " 7.766896283875869,\n",
       " 7.748172919647205,\n",
       " 7.729682886144509,\n",
       " 7.711422917050644,\n",
       " 7.6933897919110565,\n",
       " 7.675580335489798,\n",
       " 7.657991417134518,\n",
       " 7.64061995015046,\n",
       " 7.623462891183157,\n",
       " 7.606517239609892,\n",
       " 7.589780036939605,\n",
       " 7.573248366221311,\n",
       " 7.556919351460772,\n",
       " 7.540790157045374,\n",
       " 7.5248579871771035,\n",
       " 7.5091200853134366,\n",
       " 7.493573733616142,\n",
       " 7.478216252407752,\n",
       " 7.463044999635738,\n",
       " 7.448057370344168,\n",
       " 7.433250796152775,\n",
       " 7.418622744743377,\n",
       " 7.404170719353482,\n",
       " 7.38989225827701,\n",
       " 7.375784934372019,\n",
       " 7.361846354575371,\n",
       " 7.3480741594241765,\n",
       " 7.334466022583971,\n",
       " 7.321019650383553,\n",
       " 7.307732781356275,\n",
       " 7.294603185787875,\n",
       " 7.281628665270566,\n",
       " 7.268807052263439,\n",
       " 7.256136209659038,\n",
       " 7.243614030355995,\n",
       " 7.231238436837695,\n",
       " 7.219007380756819,\n",
       " 7.206918842525785,\n",
       " 7.19497083091286,\n",
       " 7.183161382644006,\n",
       " 7.1714885620102935,\n",
       " 7.159950460480825,\n",
       " 7.148545196321099,\n",
       " 7.137270914216734,\n",
       " 7.126125784902468,\n",
       " 7.1151080047963875,\n",
       " 7.104215795639258,\n",
       " 7.09344740413897,\n",
       " 7.082801101619909,\n",
       " 7.072275183677333,\n",
       " 7.0618679698365145,\n",
       " 7.051577803216749,\n",
       " 7.0414030502000164,\n",
       " 7.031342100104352,\n",
       " 7.021393364861748,\n",
       " 7.011555278700627,\n",
       " 7.001826297832742,\n",
       " 6.992204900144492,\n",
       " 6.982689584892557,\n",
       " 6.973278872403819,\n",
       " 6.963971303779492,\n",
       " 6.954765440603404,\n",
       " 6.945659864654385,\n",
       " 6.9366531776226745,\n",
       " 6.9277440008303355,\n",
       " 6.918930974955582,\n",
       " 6.910212759760965,\n",
       " 6.901588033825408,\n",
       " 6.893055494279965,\n",
       " 6.884613856547327,\n",
       " 6.876261854084967,\n",
       " 6.867998238131881,\n",
       " 6.85982177745891,\n",
       " 6.851731258122556,\n",
       " 6.843725483222252,\n",
       " 6.83580327266104,\n",
       " 6.827963462909621,\n",
       " 6.820204906773712,\n",
       " 6.812526473164655,\n",
       " 6.804927046873277,\n",
       " 6.797405528346894,\n",
       " 6.789960833469473,\n",
       " 6.782591893344864,\n",
       " 6.775297654083083,\n",
       " 6.768077076589593,\n",
       " 6.7609291363575466,\n",
       " 6.753852823262941,\n",
       " 6.746847141362657,\n",
       " 6.7399111086953365,\n",
       " 6.733043757085028,\n",
       " 6.726244131947638,\n",
       " 6.719511292100051,\n",
       " 6.712844309571965,\n",
       " 6.706242269420356,\n",
       " 6.699704269546536,\n",
       " 6.693229420515816,\n",
       " 6.686816845379651,\n",
       " 6.680465679500314,\n",
       " 6.674175070378052,\n",
       " 6.6679441774806065,\n",
       " 6.661772172075196,\n",
       " 6.6556582370628075,\n",
       " 6.6496015668148445,\n",
       " 6.643601367012055,\n",
       " 6.637656854485729,\n",
       " 6.631767257061117,\n",
       " 6.625931813403055,\n",
       " 6.620149772863752,\n",
       " 6.614420395332725,\n",
       " 6.6087429510888205,\n",
       " 6.603116720654345,\n",
       " 6.597540994651208,\n",
       " 6.592015073659111,\n",
       " 6.586538268075722,\n",
       " 6.581109897978812,\n",
       " 6.575729292990318,\n",
       " 6.570395792142333,\n",
       " 6.565108743744962,\n",
       " 6.559867505256046,\n",
       " 6.554671443152698,\n",
       " 6.5495199328046745,\n",
       " 6.544412358349482,\n",
       " 6.539348112569271,\n",
       " 6.5343265967694535,\n",
       " 6.529347220659009,\n",
       " 6.524409402232477,\n",
       " 6.51951256765364,\n",
       " 6.51465615114077,\n",
       " 6.50983959485356,\n",
       " 6.505062348781586,\n",
       " 6.500323870634385,\n",
       " 6.495623625733033,\n",
       " 6.490961086903263,\n",
       " 6.486335734370106,\n",
       " 6.481747055653953,\n",
       " 6.477194545468153,\n",
       " 6.472677705617987,\n",
       " 6.468196044901089,\n",
       " 6.463749079009249,\n",
       " 6.4593363304316265,\n",
       " 6.454957328359288,\n",
       " 6.450611608591097,\n",
       " 6.446298713440935,\n",
       " 6.442018191646212,\n",
       " 6.437769598277675,\n",
       " 6.433552494650465,\n",
       " 6.429366448236443,\n",
       " 6.425211032577733,\n",
       " 6.421085827201483,\n",
       " 6.4169904175358266,\n",
       " 6.412924394827011,\n",
       " 6.408887356057723,\n",
       " 6.404878903866511,\n",
       " 6.400898646468386,\n",
       " 6.396946197576502,\n",
       " 6.393021176324967,\n",
       " 6.389123207192706,\n",
       " 6.385251919928422,\n",
       " 6.381406949476591,\n",
       " 6.377587935904507,\n",
       " 6.3737945243303455,\n",
       " 6.370026364852243,\n",
       " 6.366283112478367,\n",
       " 6.362564427057963,\n",
       " 6.358869973213389,\n",
       " 6.355199420273079,\n",
       " 6.351552442205474,\n",
       " 6.3479287175538595,\n",
       " 6.344327929372117,\n",
       " 6.340749765161415,\n",
       " 6.337193916807724,\n",
       " 6.333660080520283,\n",
       " 6.330147956770852,\n",
       " 6.3266572502338985,\n",
       " 6.323187669727557,\n",
       " 6.3197389281554495,\n",
       " 6.3163107424493266,\n",
       " 6.312902833512498,\n",
       " 6.309514926164059,\n",
       " 6.3061467490839185,\n",
       " 6.302798034758577,\n",
       " 6.299468519427675,\n",
       " 6.296157943031301,\n",
       " 6.2928660491580155,\n",
       " 6.289592584993635,\n",
       " 6.286337301270706,\n",
       " 6.283099952218715,\n",
       " 6.27988029551498,\n",
       " 6.276678092236232,\n",
       " 6.273493106810886,\n",
       " 6.270325106971979,\n",
       " 6.267173863710765,\n",
       " 6.264039151230956,\n",
       " 6.260920746903634,\n",
       " 6.257818431222746,\n",
       " 6.254731987761287,\n",
       " 6.251661203128032,\n",
       " 6.248605866924938,\n",
       " 6.245565771705083,\n",
       " 6.242540712931259,\n",
       " 6.239530488935093,\n",
       " 6.236534900876769,\n",
       " 6.23355375270532,\n",
       " 6.230586851119446,\n",
       " 6.227634005528924,\n",
       " 6.224695028016533,\n",
       " 6.221769733300522,\n",
       " 6.218857938697593,\n",
       " 6.215959464086434,\n",
       " 6.213074131871722,\n",
       " 6.210201766948676,\n",
       " 6.207342196668067,\n",
       " 6.204495250801747,\n",
       " 6.201660761508653,\n",
       " 6.1988385633012895,\n",
       " 6.196028493012671,\n",
       " 6.193230389763746,\n",
       " 6.190444094931279,\n",
       " 6.187669452116156,\n",
       " 6.1849063071121675,\n",
       " 6.182154507875206,\n",
       " 6.179413904492931,\n",
       " 6.176684349154803,\n",
       " 6.173965696122584,\n",
       " 6.171257801701255,\n",
       " 6.168560524210301,\n",
       " 6.165873723955441,\n",
       " 6.1631972632007255,\n",
       " 6.160531006141049,\n",
       " 6.157874818875041,\n",
       " 6.155228569378318,\n",
       " 6.1525921274771385,\n",
       " 6.149965364822421,\n",
       " 6.147348154864115,\n",
       " 6.144740372825944,\n",
       " 6.142141895680501,\n",
       " 6.139552602124681,\n",
       " 6.1369723725554834,\n",
       " 6.13440108904613,\n",
       " 6.131838635322534,\n",
       " 6.129284896740096,\n",
       " 6.126739760260812,\n",
       " 6.124203114430724,\n",
       " 6.121674849357676,\n",
       " 6.1191548566893905,\n",
       " 6.116643029591827,\n",
       " 6.114139262727883,\n",
       " 6.111643452236372,\n",
       " 6.1091554957112875,\n",
       " 6.10667529218139,\n",
       " 6.1042027420900355,\n",
       " 6.101737747275339,\n",
       " 6.099280210950572,\n",
       " 6.096830037684864,\n",
       " 6.094387133384151,\n",
       " 6.091951405272423,\n",
       " 6.089522761873203,\n",
       " 6.087101112991309,\n",
       " 6.0846863696948565,\n",
       " 6.0822784442975175,\n",
       " 6.079877250341043,\n",
       " 6.077482702578009,\n",
       " 6.075094716954822,\n",
       " 6.072713210594949,\n",
       " 6.070338101782392,\n",
       " 6.0679693099454015,\n",
       " 6.065606755640402,\n",
       " 6.0632503605361405,\n",
       " 6.060900047398097,\n",
       " 6.058555740073054,\n",
       " 6.056217363473938,\n",
       " 6.053884843564831,\n",
       " 6.051558107346225,\n",
       " 6.049237082840466,\n",
       " 6.046921699077396,\n",
       " 6.044611886080229,\n",
       " 6.042307574851567,\n",
       " 6.0400086973596965,\n",
       " 6.037715186524986,\n",
       " 6.0354269762065424,\n",
       " 6.033144001189019,\n",
       " 6.030866197169628,\n",
       " 6.02859350074532,\n",
       " 6.026325849400156,\n",
       " 6.024063181492853,\n",
       " 6.021805436244492,\n",
       " 6.019552553726425,\n",
       " 6.017304474848323,\n",
       " 6.015061141346419,\n",
       " 6.012822495771888,\n",
       " 6.0105884814794095,\n",
       " 6.0083590426159,\n",
       " 6.006134124109363,\n",
       " 6.0039136716579415,\n",
       " 6.001697631719101,\n",
       " 5.999485951498967,\n",
       " 5.9972785789418035,\n",
       " 5.9950754627196705,\n",
       " 5.992876552222183,\n",
       " 5.9906817975464515,\n",
       " 5.9884911494871425,\n",
       " 5.986304559526681,\n",
       " 5.984121979825603,\n",
       " 5.981943363213025,\n",
       " 5.979768663177263,\n",
       " 5.977597833856576,\n",
       " 5.975430830030037,\n",
       " 5.973267607108543,\n",
       " 5.971108121125932,\n",
       " 5.968952328730251,\n",
       " 5.966800187175118,\n",
       " 5.964651654311239,\n",
       " 5.962506688578,\n",
       " 5.96036524899522,\n",
       " 5.958227295154992,\n",
       " 5.956092787213659,\n",
       " 5.953961685883882,\n",
       " 5.951833952426829,\n",
       " 5.9497095486444795,\n",
       " 5.947588436872024,\n",
       " 5.945470579970396,\n",
       " 5.9433559413188615,\n",
       " 5.94124448480777,\n",
       " 5.939136174831354,\n",
       " 5.9370309762806786,\n",
       " 5.934928854536644,\n",
       " 5.932829775463126,\n",
       " 5.930733705400183,\n",
       " 5.928640611157376,\n",
       " 5.926550460007178,\n",
       " 5.92446321967847,\n",
       " 5.922378858350133,\n",
       " 5.920297344644741,\n",
       " 5.918218647622319,\n",
       " 5.916142736774203,\n",
       " 5.914069582016993,\n",
       " 5.91199915368657,\n",
       " 5.909931422532229,\n",
       " 5.9078663597108445,\n",
       " 5.905803936781186,\n",
       " 5.903744125698239,\n",
       " 5.901686898807667,\n",
       " 5.899632228840322,\n",
       " 5.897580088906829,\n",
       " 5.895530452492255,\n",
       " 5.893483293450863,\n",
       " 5.891438586000921,\n",
       " 5.889396304719588,\n",
       " 5.8873564245378835,\n",
       " 5.885318920735715,\n",
       " 5.883283768936983,\n",
       " 5.881250945104744,\n",
       " 5.879220425536463,\n",
       " 5.877192186859306,\n",
       " 5.87516620602551,\n",
       " 5.873142460307838,\n",
       " 5.8711209272950615,\n",
       " 5.869101584887524,\n",
       " 5.8670844112927805,\n",
       " 5.86506938502127,\n",
       " 5.8630564848820725,\n",
       " 5.861045689978713,\n",
       " 5.859036979705032,\n",
       " 5.857030333741104,\n",
       " 5.855025732049222,\n",
       " 5.853023154869932,\n",
       " 5.851022582718141,\n",
       " 5.849023996379245,\n",
       " 5.847027376905346,\n",
       " 5.845032705611504,\n",
       " 5.843039964072046,\n",
       " 5.841049134116921,\n",
       " 5.839060197828123,\n",
       " 5.837073137536139,\n",
       " 5.8350879358164764,\n",
       " 5.833104575486208,\n",
       " 5.831123039600592,\n",
       " 5.829143311449724,\n",
       " 5.827165374555239,\n",
       " 5.825189212667067,\n",
       " 5.823214809760217,\n",
       " 5.821242150031634,\n",
       " 5.819271217897067,\n",
       " 5.817301997988008,\n",
       " 5.815334475148664,\n",
       " 5.813368634432965,\n",
       " 5.811404461101621,\n",
       " 5.809441940619225,\n",
       " 5.807481058651385,\n",
       " 5.805521801061908,\n",
       " 5.803564153910009,\n",
       " 5.801608103447584,\n",
       " 5.799653636116483,\n",
       " 5.797700738545867,\n",
       " 5.795749397549563,\n",
       " 5.793799600123475,\n",
       " 5.791851333443037,\n",
       " 5.789904584860679,\n",
       " 5.787959341903358,\n",
       " 5.78601559227009,\n",
       " 5.784073323829556,\n",
       " 5.782132524617702,\n",
       " 5.780193182835406,\n",
       " 5.778255286846152,\n",
       " 5.776318825173754,\n",
       " 5.774383786500104,\n",
       " 5.772450159662948,\n",
       " 5.770517933653714,\n",
       " 5.768587097615335,\n",
       " 5.76665764084014,\n",
       " 5.764729552767744,\n",
       " 5.762802822982989,\n",
       " 5.7608774412139026,\n",
       " 5.75895339732969,\n",
       " 5.75703068133875,\n",
       " 5.755109283386729,\n",
       " 5.75318919375458,\n",
       " 5.75127040285668,\n",
       " 5.749352901238949,\n",
       " 5.747436679577,\n",
       " 5.745521728674328,\n",
       " 5.743608039460517,\n",
       " 5.741695602989454,\n",
       " 5.739784410437603,\n",
       " 5.737874453102275,\n",
       " 5.735965722399937,\n",
       " 5.734058209864533,\n",
       " 5.732151907145842,\n",
       " 5.730246806007851,\n",
       " 5.72834289832715,\n",
       " 5.726440176091354,\n",
       " 5.724538631397547,\n",
       " 5.722638256450741,\n",
       " 5.720739043562363,\n",
       " 5.718840985148765,\n",
       " 5.716944073729747,\n",
       " 5.71504830192711,\n",
       " 5.713153662463224,\n",
       " 5.71126014815961,\n",
       " 5.7093677519355595,\n",
       " 5.707476466806755,\n",
       " 5.705586285883922,\n",
       " 5.7036972023714885,\n",
       " 5.701809209566281,\n",
       " 5.699922300856218,\n",
       " 5.69803646971904,\n",
       " 5.696151709721038,\n",
       " 5.694268014515831,\n",
       " 5.692385377843115,\n",
       " 5.69050379352748,\n",
       " 5.688623255477199,\n",
       " 5.686743757683067,\n",
       " 5.684865294217239,\n",
       " 5.682987859232087,\n",
       " 5.681111446959076,\n",
       " 5.679236051707658,\n",
       " 5.677361667864164,\n",
       " 5.675488289890755,\n",
       " 5.673615912324322,\n",
       " 5.671744529775459,\n",
       " 5.669874136927432,\n",
       " 5.668004728535143,\n",
       " 5.666136299424146,\n",
       " 5.66426884448963,\n",
       " 5.662402358695472,\n",
       " 5.660536837073247,\n",
       " 5.658672274721299,\n",
       " 5.656808666803787,\n",
       " 5.654946008549777,\n",
       " 5.65308429525232,\n",
       " 5.651223522267564,\n",
       " 5.649363685013859,\n",
       " 5.647504778970899,\n",
       " 5.645646799678841,\n",
       " 5.643789742737474,\n",
       " 5.6419336038053824,\n",
       " 5.640078378599112,\n",
       " 5.638224062892358,\n",
       " 5.6363706525151755,\n",
       " 5.634518143353171,\n",
       " 5.632666531346742,\n",
       " 5.6308158124902965,\n",
       " 5.628965982831498,\n",
       " 5.62711703847052,\n",
       " 5.6252689755593135,\n",
       " 5.623421790300869,\n",
       " 5.621575478948513,\n",
       " 5.619730037805201,\n",
       " 5.617885463222812,\n",
       " 5.616041751601478,\n",
       " 5.614198899388887,\n",
       " 5.6123569030796405,\n",
       " 5.610515759214575,\n",
       " 5.608675464380122,\n",
       " 5.606836015207672,\n",
       " 5.604997408372939,\n",
       " 5.603159640595343,\n",
       " 5.601322708637395,\n",
       " 5.599486609304087,\n",
       " 5.597651339442316,\n",
       " 5.595816895940274,\n",
       " 5.593983275726877,\n",
       " 5.592150475771205,\n",
       " 5.590318493081921,\n",
       " 5.588487324706727,\n",
       " 5.586656967731824,\n",
       " 5.584827419281351,\n",
       " 5.582998676516867,\n",
       " 5.581170736636839,\n",
       " 5.579343596876094,\n",
       " 5.577517254505335,\n",
       " 5.575691706830631,\n",
       " 5.573866951192914,\n",
       " 5.5720429849675055,\n",
       " 5.570219805563619,\n",
       " 5.568397410423893,\n",
       " 5.566575797023923,\n",
       " 5.564754962871795,\n",
       " 5.562934905507643,\n",
       " 5.56111562250318,\n",
       " 5.559297111461272,\n",
       " 5.5574793700154945,\n",
       " 5.555662395829702,\n",
       " 5.553846186597609,\n",
       " 5.552030740042367,\n",
       " 5.550216053916154,\n",
       " 5.548402125999764,\n",
       " 5.546588954102213,\n",
       " 5.544776536060339,\n",
       " 5.542964869738414,\n",
       " 5.54115395302776,\n",
       " 5.53934378384637,\n",
       " 5.537534360138531,\n",
       " 5.535725679874466,\n",
       " 5.533917741049953,\n",
       " 5.532110541685987,\n",
       " 5.530304079828417,\n",
       " 5.528498353547593,\n",
       " 5.5266933609380375,\n",
       " 5.524889100118089,\n",
       " 5.523085569229588,\n",
       " 5.521282766437532,\n",
       " 5.519480689929757,\n",
       " 5.517679337916619,\n",
       " 5.515878708630684,\n",
       " 5.514078800326402,\n",
       " 5.512279611279817,\n",
       " 5.510481139788252,\n",
       " 5.508683384170023,\n",
       " 5.5068863427641395,\n",
       " 5.505090013930006,\n",
       " ...]"
      ]
     },
     "execution_count": 221,
     "metadata": {},
     "output_type": "execute_result"
    }
   ],
   "source": [
    "# list(model_steps['learning_steps'].keys())\n",
    "\n",
    "# list(model_steps['learning_steps'].values())\n",
    "\n",
    "\n",
    "\n"
   ]
  },
  {
   "cell_type": "code",
   "execution_count": 224,
   "id": "96d68725",
   "metadata": {
    "collapsed": true
   },
   "outputs": [
    {
     "data": {
      "text/html": [
       "<div>\n",
       "<style scoped>\n",
       "    .dataframe tbody tr th:only-of-type {\n",
       "        vertical-align: middle;\n",
       "    }\n",
       "\n",
       "    .dataframe tbody tr th {\n",
       "        vertical-align: top;\n",
       "    }\n",
       "\n",
       "    .dataframe thead th {\n",
       "        text-align: right;\n",
       "    }\n",
       "</style>\n",
       "<table border=\"1\" class=\"dataframe\">\n",
       "  <thead>\n",
       "    <tr style=\"text-align: right;\">\n",
       "      <th></th>\n",
       "      <th>mse</th>\n",
       "    </tr>\n",
       "  </thead>\n",
       "  <tbody>\n",
       "    <tr>\n",
       "      <th>0</th>\n",
       "      <td>682.668859</td>\n",
       "    </tr>\n",
       "    <tr>\n",
       "      <th>1</th>\n",
       "      <td>673.187423</td>\n",
       "    </tr>\n",
       "    <tr>\n",
       "      <th>2</th>\n",
       "      <td>663.839092</td>\n",
       "    </tr>\n",
       "    <tr>\n",
       "      <th>3</th>\n",
       "      <td>654.621998</td>\n",
       "    </tr>\n",
       "    <tr>\n",
       "      <th>4</th>\n",
       "      <td>645.534297</td>\n",
       "    </tr>\n",
       "    <tr>\n",
       "      <th>...</th>\n",
       "      <td>...</td>\n",
       "    </tr>\n",
       "    <tr>\n",
       "      <th>41796</th>\n",
       "      <td>0.010737</td>\n",
       "    </tr>\n",
       "    <tr>\n",
       "      <th>41797</th>\n",
       "      <td>0.010736</td>\n",
       "    </tr>\n",
       "    <tr>\n",
       "      <th>41798</th>\n",
       "      <td>0.010735</td>\n",
       "    </tr>\n",
       "    <tr>\n",
       "      <th>41799</th>\n",
       "      <td>0.010734</td>\n",
       "    </tr>\n",
       "    <tr>\n",
       "      <th>41800</th>\n",
       "      <td>0.010733</td>\n",
       "    </tr>\n",
       "  </tbody>\n",
       "</table>\n",
       "<p>41801 rows × 1 columns</p>\n",
       "</div>"
      ],
      "text/plain": [
       "              mse\n",
       "0      682.668859\n",
       "1      673.187423\n",
       "2      663.839092\n",
       "3      654.621998\n",
       "4      645.534297\n",
       "...           ...\n",
       "41796    0.010737\n",
       "41797    0.010736\n",
       "41798    0.010735\n",
       "41799    0.010734\n",
       "41800    0.010733\n",
       "\n",
       "[41801 rows x 1 columns]"
      ]
     },
     "execution_count": 224,
     "metadata": {},
     "output_type": "execute_result"
    }
   ],
   "source": [
    "df_steps = pd.DataFrame(list(model_steps['learning_steps'].values()), columns=['mse'])\n",
    "df_steps"
   ]
  },
  {
   "cell_type": "code",
   "execution_count": 264,
   "id": "fecac125",
   "metadata": {
    "collapsed": true
   },
   "outputs": [
    {
     "data": {
      "text/plain": [
       "41801"
      ]
     },
     "execution_count": 264,
     "metadata": {},
     "output_type": "execute_result"
    }
   ],
   "source": [
    "df_steps.shape[0]"
   ]
  },
  {
   "cell_type": "code",
   "execution_count": 233,
   "id": "31035ebe",
   "metadata": {
    "collapsed": true
   },
   "outputs": [
    {
     "data": {
      "image/png": "[encoded data removed]",
      "text/plain": [
       "<Figure size 640x480 with 1 Axes>"
      ]
     },
     "metadata": {},
     "output_type": "display_data"
    }
   ],
   "source": [
    "df_steps.plot()\n",
    "plt.title('Title')\n",
    "plt.show()\n"
   ]
  },
  {
   "cell_type": "code",
   "execution_count": 98,
   "id": "9dbc5eca",
   "metadata": {
    "collapsed": true
   },
   "outputs": [],
   "source": [
    "# GD = GradientDescentMse(samples=X, targets=Y)\n",
    "# GD.add_constant_feature()\n",
    "# GD.learn()"
   ]
  },
  {
   "cell_type": "markdown",
   "id": "ee05ce8c",
   "metadata": {},
   "source": [
    "## Betas - model coefficients"
   ]
  },
  {
   "cell_type": "code",
   "execution_count": 187,
   "id": "398850f0",
   "metadata": {
    "collapsed": true
   },
   "outputs": [
    {
     "name": "stdout",
     "output_type": "stream",
     "text": [
      "Веса модели при переменных d0, d1, ..., d10 равны соответственно: \n",
      "\n",
      "[0.88733305 1.90100713 2.88063607 3.87662612 4.89623507 5.89126182\n",
      " 6.89254811 7.90311947 8.87580109 9.86109585 4.94854733]\n"
     ]
    }
   ],
   "source": [
    "print('Веса модели при переменных d0, d1, ..., d10 равны соответственно: \\n\\n' + str(GD.beta))"
   ]
  },
  {
   "cell_type": "markdown",
   "id": "0842c033",
   "metadata": {},
   "source": [
    "Попробуйте теперь изменить значения **learning_rate** и/или **threshold**. Например, установите длину шага $\\eta = 1$. Что произошло и почему такое возможно?"
   ]
  },
  {
   "cell_type": "code",
   "execution_count": 196,
   "id": "ed6b4db2",
   "metadata": {
    "collapsed": true
   },
   "outputs": [],
   "source": [
    "### Your code is here\n",
    "\n",
    "thresholds = [1e-2, 1e-3, 1e-4, 1e-5]\n",
    "learning_rates = [1e-1, 5e-2, 1e-2, 5e-3, 1e-3]"
   ]
  },
  {
   "cell_type": "code",
   "execution_count": 227,
   "id": "b741c28c",
   "metadata": {
    "collapsed": true
   },
   "outputs": [],
   "source": [
    "# t0 = GradientDescentMse(samples=X, targets=Y, threshold=[0]).learn()\n",
    "# t1 = GradientDescentMse(samples=X, targets=Y, threshold=[1]).learn()\n",
    "# t2 = GradientDescentMse(samples=X, targets=Y, threshold=[2]).learn()\n",
    "# t3 = GradientDescentMse(samples=X, targets=Y, threshold=[3]).learn()\n"
   ]
  },
  {
   "cell_type": "code",
   "execution_count": 267,
   "id": "e95b75d8",
   "metadata": {},
   "outputs": [
    {
     "name": "stderr",
     "output_type": "stream",
     "text": [
      "No artists with labels found to put in legend.  Note that artists whose label start with an underscore are ignored when legend() is called with no argument.\n",
      "No artists with labels found to put in legend.  Note that artists whose label start with an underscore are ignored when legend() is called with no argument.\n",
      "No artists with labels found to put in legend.  Note that artists whose label start with an underscore are ignored when legend() is called with no argument.\n",
      "No artists with labels found to put in legend.  Note that artists whose label start with an underscore are ignored when legend() is called with no argument.\n"
     ]
    },
    {
     "data": {
      "image/png": "[encoded data removed]",
      "text/plain": [
       "<Figure size 1000x800 with 4 Axes>"
      ]
     },
     "metadata": {},
     "output_type": "display_data"
    }
   ],
   "source": [
    "fig = plt.figure()\n",
    "fig.set_size_inches(10, 8)\n",
    "\n",
    "\n",
    "\n",
    "n = 0\n",
    "\n",
    "\n",
    "for t in thresholds:\n",
    "    n += 1\n",
    "    fig.add_subplot(2, 2, n)\n",
    "    for r in learning_rates:\n",
    "        model = GradientDescentMse(samples=X, targets=Y, threshold=t, learning_rate=r)\n",
    "        model.add_constant_feature()\n",
    "        data = model.learn()\n",
    "        mse_steps = pd.DataFrame(list(data['learning_steps'].values()), columns=['mse'])\n",
    "        plt.xlabel('Iteration number')\n",
    "        plt.ylabel('Std error')\n",
    "        plt.legend()\n",
    "        plt.title(f'Threshold = {t}')\n",
    "        ax = plt.gca()\n",
    "        ax.set_xlim([0, 2000])\n",
    "        ax.set_ylim([0, 100])\n",
    "        plt.plot(mse_steps, label=f'Rate = {r}, Q = {mse_steps.tail(1).values[0][0]:.4f}, Step = {mse_steps.shape[0]}')\n",
    "\n",
    "plt.tight_layout()\n",
    "plt.show()"
   ]
  },
  {
   "cell_type": "code",
   "execution_count": null,
   "id": "e4d707e8",
   "metadata": {
    "collapsed": true
   },
   "outputs": [],
   "source": []
  },
  {
   "cell_type": "code",
   "execution_count": null,
   "id": "bc272a82",
   "metadata": {
    "collapsed": true
   },
   "outputs": [],
   "source": []
  },
  {
   "cell_type": "code",
   "execution_count": null,
   "id": "8924899c",
   "metadata": {
    "collapsed": true
   },
   "outputs": [],
   "source": []
  },
  {
   "cell_type": "code",
   "execution_count": null,
   "id": "8f4a74e6",
   "metadata": {
    "collapsed": true
   },
   "outputs": [],
   "source": []
  },
  {
   "cell_type": "markdown",
   "id": "dfa56785",
   "metadata": {},
   "source": [
    "В машинном обучении зачастую исследуют так называемые **траектории обучения** (или **learning paths**). Это графики, показывающие, как во время обучения при каждой следующей итерации изменялось значение минимизируемого функционала. Постройте такие траектории для различных **learning rate**'ов и **threshold**'ов. Советуем использовать для этого разобранный на занятиях **add_subplot** метод. \n",
    "\n",
    "Возьмите следующие **threshold**'ы: 1e-2, 1e-3, 1e-4, 1e-5\n",
    "\n",
    "И следующие значения **learning rate**'а: 1e-1, 5e-2, 1e-2, 5e-3, 1e-3\n",
    "\n",
    "У вас должен получиться примерно такой график (см. ниже, значения среднеквадратической ошибки мы намеренно замазали оранжевыми квадратиками, чтобы не спойлерить вам результаты).\n",
    "\n",
    "Как и подобает хорошим Data Scientist'ам, не забывайте подписывать графики, оси, а так же делать элементы ваших визуализаций читаемыми и видимыми. Советуем пересмотреть методы и параметры форматирования из лекции.\n",
    "\n",
    "При какой комбинации **threshold** - **learning rate** из возможных предложенных выше, получается достигнуть меньшего значения нашей минимизируемой функции? Запишите каждой из значений в легенде на графиках.\n"
   ]
  },
  {
   "cell_type": "code",
   "execution_count": null,
   "id": "bf48befd",
   "metadata": {
    "collapsed": true,
    "tags": []
   },
   "outputs": [],
   "source": [
    "### Your code is here"
   ]
  },
  {
   "cell_type": "code",
   "execution_count": null,
   "id": "ec56e533",
   "metadata": {
    "collapsed": true
   },
   "outputs": [],
   "source": []
  }
 ],
 "metadata": {
  "kernelspec": {
   "display_name": "Python 3 (ipykernel)",
   "language": "python",
   "name": "python3"
  },
  "language_info": {
   "codemirror_mode": {
    "name": "ipython",
    "version": 3
   },
   "file_extension": ".py",
   "mimetype": "text/x-python",
   "name": "python",
   "nbconvert_exporter": "python",
   "pygments_lexer": "ipython3",
   "version": "3.8.13"
  }
 },
 "nbformat": 4,
 "nbformat_minor": 5
}
