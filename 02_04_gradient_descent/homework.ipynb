{
 "cells": [
  {
   "cell_type": "code",
   "execution_count": 1,
   "id": "3d5671ac",
   "metadata": {},
   "outputs": [],
   "source": [
    "import numpy as np"
   ]
  },
  {
   "cell_type": "code",
   "execution_count": 2,
   "id": "9cd7197a",
   "metadata": {},
   "outputs": [],
   "source": [
    "X = [\n",
    "    [1, 1],\n",
    "    [3, 1]\n",
    "]\n",
    "Y = [10, 4]"
   ]
  },
  {
   "cell_type": "code",
   "execution_count": 3,
   "id": "b69abaa1",
   "metadata": {},
   "outputs": [],
   "source": [
    "init_weights = [1, 1]\n",
    "step = 0.1"
   ]
  },
  {
   "cell_type": "markdown",
   "id": "b80cf3e6",
   "metadata": {},
   "source": [
    "Инициализируем случайную точку (часто берут просто нули):\n",
    "\n",
    "$$\n",
    "\\beta_0 = (0\\;\\; 0 ...)\n",
    "$$\n",
    "\n",
    "Итеративно скачем по линиям уровня нашей функции, шагая каждый раз в сторону антиградиента с корректировкой шага $\\eta_k$:\n",
    "\n",
    "$$\n",
    "\\beta_{k+1} = \\beta_k - \\eta_{k}\\cdot\\nabla Q(\\beta_k, X)\n",
    "$$\n",
    " \n",
    "Останавливаемся, когда срабатывает критерий останова. Например:\n",
    "\n",
    "$$\n",
    "|\\beta_{k+1} - \\beta_k| < \\xi\n",
    "$$\n",
    "\n",
    "Пусть имеем 3 объекта $(X, Y)^i$ = $\\left((d_i, 1), Y_i \\right)$ с 3 признаками $d_1$, $d_2$ (+ константа). Хотим оценить обычную линейную модель:\n",
    "\n",
    "$$\n",
    "a(x) = \\beta_1 \\cdot d_1 + \\beta_2 \\cdot d_2 + \\beta_0\n",
    "$$\n",
    "\n",
    "Тогда функционал ошибки как среднеквадратическая ошибка на нашей выборке выглядит следующим образом:\n",
    "\n",
    "$$\n",
    "Q(a, X) = \\frac{1}{N}\\cdot\\sum_{i=1}^N (\\beta_1 \\cdot d_{i1} + \\beta_2 \\cdot d_{i2} + \\beta_0 - y_i)^2\n",
    "$$\n",
    "\n",
    "Посчитаем вектор-градиент по всем оцениваемым параметрам:\n",
    "\n",
    "$$\n",
    "\\nabla Q(a, X) = (Q'_{\\beta_1} \\;\\;\\; Q'_{\\beta_2} \\;\\;\\; Q'_{\\beta_0})\n",
    "$$\n",
    "\n",
    "Пример расчета производной по параметру у признака номер 1:\n",
    "\n",
    "$$\n",
    "Q'_{\\beta_1} = \\frac{2}{N} \\cdot \\sum_{i=1}^N d_{i1} \\cdot (\\beta_1 \\cdot d_{i1} + \\beta_2 \\cdot d_{i2} + \\beta_0 - y_i)\n",
    "$$\n"
   ]
  },
  {
   "cell_type": "code",
   "execution_count": null,
   "id": "813042a0",
   "metadata": {},
   "outputs": [],
   "source": [
    "q1 = (1/2) * ()\n",
    "    "
   ]
  }
 ],
 "metadata": {
  "kernelspec": {
   "display_name": "Python 3 (ipykernel)",
   "language": "python",
   "name": "python3"
  },
  "language_info": {
   "codemirror_mode": {
    "name": "ipython",
    "version": 3
   },
   "file_extension": ".py",
   "mimetype": "text/x-python",
   "name": "python",
   "nbconvert_exporter": "python",
   "pygments_lexer": "ipython3",
   "version": "3.8.13"
  }
 },
 "nbformat": 4,
 "nbformat_minor": 5
}
