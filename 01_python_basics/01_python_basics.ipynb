{
 "cells": [
  {
   "cell_type": "code",
   "execution_count": 3,
   "id": "775e09e2-2e8a-4620-bf9b-5ae25041abb6",
   "metadata": {},
   "outputs": [],
   "source": [
    "a=3\n",
    "b=7\n",
    "c = -10"
   ]
  },
  {
   "cell_type": "code",
   "execution_count": 4,
   "id": "3f149aca-6dd1-45e5-b2ce-0602812079fa",
   "metadata": {},
   "outputs": [],
   "source": [
    "x_1 = (-b + ( b ** 2 - 4 * a * c) ** 0.5 ) / 2 * a\n",
    "\n",
    "x_2 = (-b - ( b ** 2 - 4 * a * c) ** 0.5 ) / 2 * a"
   ]
  },
  {
   "cell_type": "code",
   "execution_count": 5,
   "id": "a3d8b2db-4b87-4262-be31-cc3a17d4fca8",
   "metadata": {},
   "outputs": [
    {
     "data": {
      "text/plain": [
       "9.0"
      ]
     },
     "execution_count": 5,
     "metadata": {},
     "output_type": "execute_result"
    }
   ],
   "source": [
    "x_1"
   ]
  },
  {
   "cell_type": "code",
   "execution_count": 6,
   "id": "488c952b-f94d-4d94-b8b1-53332bc0e5d9",
   "metadata": {},
   "outputs": [
    {
     "data": {
      "text/plain": [
       "-30.0"
      ]
     },
     "execution_count": 6,
     "metadata": {},
     "output_type": "execute_result"
    }
   ],
   "source": [
    "x_2"
   ]
  },
  {
   "cell_type": "code",
   "execution_count": 9,
   "id": "d40c1ec0-b12f-4db0-8390-624390f50512",
   "metadata": {},
   "outputs": [
    {
     "data": {
      "text/plain": [
       "[1, 2, 3, 3, 4, 5]"
      ]
     },
     "execution_count": 9,
     "metadata": {},
     "output_type": "execute_result"
    }
   ],
   "source": [
    "a = [1, 2, 3]\n",
    "b = [3, 4, 5]\n",
    "\n",
    "a + b"
   ]
  },
  {
   "cell_type": "code",
   "execution_count": 10,
   "id": "71f00721-9ee7-4e5c-9821-39d5c0295d65",
   "metadata": {},
   "outputs": [],
   "source": [
    "tasks = {\n",
    "    0: '231',\n",
    "    1: 'asdad'\n",
    "}"
   ]
  },
  {
   "cell_type": "code",
   "execution_count": 17,
   "id": "d7ce09da-158f-486b-96fa-8c8ddadeaed7",
   "metadata": {},
   "outputs": [
    {
     "data": {
      "text/plain": [
       "True"
      ]
     },
     "execution_count": 17,
     "metadata": {},
     "output_type": "execute_result"
    }
   ],
   "source": [
    "tasks.get(0) is not None"
   ]
  },
  {
   "cell_type": "code",
   "execution_count": 19,
   "id": "f8759e52-1929-465a-8048-f5a54c654078",
   "metadata": {},
   "outputs": [
    {
     "data": {
      "text/plain": [
       "dict_values(['231', 'asdad'])"
      ]
     },
     "execution_count": 19,
     "metadata": {},
     "output_type": "execute_result"
    }
   ],
   "source": [
    "vals = tasks.values()\n",
    "vals"
   ]
  },
  {
   "cell_type": "code",
   "execution_count": 23,
   "id": "327a34c8-0d39-4210-9817-aab34e7b5a29",
   "metadata": {},
   "outputs": [
    {
     "data": {
      "text/plain": [
       "['231', 'asdad']"
      ]
     },
     "execution_count": 23,
     "metadata": {},
     "output_type": "execute_result"
    }
   ],
   "source": [
    "list(tasks.values())"
   ]
  },
  {
   "cell_type": "code",
   "execution_count": 34,
   "id": "52bc5c3d-81b4-4209-81a6-5f5fb57f0199",
   "metadata": {},
   "outputs": [
    {
     "data": {
      "text/plain": [
       "[['231', '90'], ['asdad', 'fere']]"
      ]
     },
     "execution_count": 34,
     "metadata": {},
     "output_type": "execute_result"
    }
   ],
   "source": [
    "list(tasks.values())"
   ]
  },
  {
   "cell_type": "code",
   "execution_count": 104,
   "id": "aa73f260-951a-446f-9bdf-103cbc9f9fc5",
   "metadata": {},
   "outputs": [],
   "source": [
    "tasks = {\n",
    "    0: ['231', '90', '90'],\n",
    "    1: ['asdad', 'fere'],\n",
    "    2: ['gggg', 'fffff'], \n",
    "    3: ['eeee', 'rrrr'], \n",
    "}"
   ]
  },
  {
   "cell_type": "code",
   "execution_count": 32,
   "id": "3d0fbcfc-62f8-40f2-a3d5-ef5aef911227",
   "metadata": {},
   "outputs": [
    {
     "data": {
      "text/plain": [
       "[['231', '90'], ['asdad', 'fere']]"
      ]
     },
     "execution_count": 32,
     "metadata": {},
     "output_type": "execute_result"
    }
   ],
   "source": [
    "doings = []\n",
    "for item in list(tasks.values()):\n",
    "    doings.append(item)\n",
    "doings"
   ]
  },
  {
   "cell_type": "code",
   "execution_count": 39,
   "id": "89ba3001-5286-49d2-8bc7-085a017cf219",
   "metadata": {},
   "outputs": [
    {
     "data": {
      "text/plain": [
       "True"
      ]
     },
     "execution_count": 39,
     "metadata": {},
     "output_type": "execute_result"
    }
   ],
   "source": [
    "type(doings) == list"
   ]
  },
  {
   "cell_type": "code",
   "execution_count": 74,
   "id": "fcdab179-e9e3-4176-aa76-a6ab85203a97",
   "metadata": {},
   "outputs": [
    {
     "data": {
      "text/plain": [
       "['231', '90']"
      ]
     },
     "execution_count": 74,
     "metadata": {},
     "output_type": "execute_result"
    }
   ],
   "source": [
    "def get_vals(arr):\n",
    "    \n",
    "    for item in arr:\n",
    "        if type(item) == list:\n",
    "            get_vals(item)\n",
    "            return item\n",
    "    # return item\n",
    "\n",
    "\n",
    "\n",
    "arr = list(tasks.values())\n",
    "ans = get_vals(arr)\n",
    "ans"
   ]
  },
  {
   "cell_type": "code",
   "execution_count": 75,
   "id": "8ebe7e89-d764-4156-8353-d6248557aee9",
   "metadata": {},
   "outputs": [
    {
     "name": "stdout",
     "output_type": "stream",
     "text": [
      "['231', '90']\n",
      "['asdad', 'fere']\n"
     ]
    }
   ],
   "source": [
    "for item in arr:\n",
    "    print(item)"
   ]
  },
  {
   "cell_type": "code",
   "execution_count": 76,
   "id": "1a86a9a2-e402-48b0-b75c-3ca70cca3e07",
   "metadata": {},
   "outputs": [],
   "source": [
    "import itertools"
   ]
  },
  {
   "cell_type": "code",
   "execution_count": 82,
   "id": "5915e1ff-8634-4bc3-bd60-97b979a2e364",
   "metadata": {},
   "outputs": [],
   "source": [
    "res = list(itertools.chain(*arr))"
   ]
  },
  {
   "cell_type": "code",
   "execution_count": 80,
   "id": "20c9d78f-3091-4369-870b-c779560beb50",
   "metadata": {},
   "outputs": [
    {
     "data": {
      "text/plain": [
       "[['231', '90'], ['asdad', 'fere']]"
      ]
     },
     "execution_count": 80,
     "metadata": {},
     "output_type": "execute_result"
    }
   ],
   "source": [
    "arr"
   ]
  },
  {
   "cell_type": "code",
   "execution_count": 84,
   "id": "805c9ad4-3f89-4103-9994-72a04bae14be",
   "metadata": {},
   "outputs": [
    {
     "data": {
      "text/plain": [
       "True"
      ]
     },
     "execution_count": 84,
     "metadata": {},
     "output_type": "execute_result"
    }
   ],
   "source": [
    "'as' in res[2]"
   ]
  },
  {
   "cell_type": "code",
   "execution_count": 88,
   "id": "697ab604-9a37-4a26-b15c-e46a78676e5c",
   "metadata": {},
   "outputs": [
    {
     "data": {
      "text/plain": [
       "['asdad']"
      ]
     },
     "execution_count": 88,
     "metadata": {},
     "output_type": "execute_result"
    }
   ],
   "source": [
    "# filterfalse(lambda x: x%2, range(10)) --> 0 2 4 6 8\n",
    "\n",
    "\n",
    "list(itertools.filterfalse(\n",
    "    lambda x: 'as' not in x\n",
    "    , res\n",
    "))"
   ]
  },
  {
   "cell_type": "code",
   "execution_count": 94,
   "id": "6ee06b24-005a-45f6-a471-2b17c3620f78",
   "metadata": {},
   "outputs": [
    {
     "data": {
      "text/plain": [
       "['asdad', 'fere']"
      ]
     },
     "execution_count": 94,
     "metadata": {},
     "output_type": "execute_result"
    }
   ],
   "source": [
    "tasks.get(1)"
   ]
  },
  {
   "cell_type": "code",
   "execution_count": 96,
   "id": "9d46b5c9-111c-4377-a398-3071295dabf0",
   "metadata": {},
   "outputs": [
    {
     "data": {
      "text/plain": [
       "['asdad']"
      ]
     },
     "execution_count": 96,
     "metadata": {},
     "output_type": "execute_result"
    }
   ],
   "source": [
    "def select(tasks, pattern):\n",
    "    first = tasks.get(0)\n",
    "    second = tasks.get(1)\n",
    "    full = first + second\n",
    "    result = []\n",
    "    for item in full:\n",
    "        if pattern in item:\n",
    "            result.append(item)\n",
    "        if len(result) == 2:\n",
    "            break\n",
    "    return result\n",
    "    \n",
    "\n",
    "\n",
    "pattern = 'asd'\n",
    "answer = select(tasks, pattern)\n",
    "answer"
   ]
  },
  {
   "cell_type": "code",
   "execution_count": 106,
   "id": "507ca6c9-4754-4337-95f5-10a058e1af85",
   "metadata": {},
   "outputs": [
    {
     "name": "stdout",
     "output_type": "stream",
     "text": [
      "0 ['231', '90', '90']\n",
      "1 ['asdad', 'fere']\n",
      "2 ['gggg', 'fffff']\n",
      "3 ['eeee', 'rrrr']\n"
     ]
    }
   ],
   "source": [
    "for k, v in tasks.items():\n",
    "    print(k, v)"
   ]
  },
  {
   "cell_type": "code",
   "execution_count": 102,
   "id": "3677430e-2250-4647-9bfa-e932de89ac40",
   "metadata": {},
   "outputs": [
    {
     "data": {
      "text/plain": [
       "[1, 2, 3, 4]"
      ]
     },
     "execution_count": 102,
     "metadata": {},
     "output_type": "execute_result"
    }
   ],
   "source": [
    "arr = [1, 2, 2, 3, 4, ]\n",
    "set(arr)\n",
    "\n",
    "newarr = list(set(arr))\n",
    "newarr"
   ]
  },
  {
   "cell_type": "code",
   "execution_count": 107,
   "id": "d1e2bab0-bad0-42da-8622-9698dcefd9b7",
   "metadata": {},
   "outputs": [
    {
     "data": {
      "text/plain": [
       "{0: ['90', '231'],\n",
       " 1: ['asdad', 'fere'],\n",
       " 2: ['fffff', 'gggg'],\n",
       " 3: ['rrrr', 'eeee']}"
      ]
     },
     "execution_count": 107,
     "metadata": {},
     "output_type": "execute_result"
    }
   ],
   "source": [
    "def deduplicate_tasks(tasks):\n",
    "    new_d = {}\n",
    "    for k, v in tasks.items():\n",
    "        new_d[k] = list(set(v))\n",
    "    return new_d\n",
    "\n",
    "\n",
    "\n",
    "new_tasks = deduplicate_tasks(tasks)\n",
    "new_tasks"
   ]
  },
  {
   "cell_type": "markdown",
   "id": "d6bc9750-a8f0-494b-9c40-2881bb50ad12",
   "metadata": {},
   "source": [
    "### markdown"
   ]
  },
  {
   "cell_type": "code",
   "execution_count": null,
   "id": "5051860c-38a2-448b-9496-e88e0f5ea804",
   "metadata": {},
   "outputs": [],
   "source": [
    "# "
   ]
  },
  {
   "cell_type": "code",
   "execution_count": null,
   "id": "62e6f3a5-eb29-41d8-8894-4392de05f64c",
   "metadata": {},
   "outputs": [],
   "source": []
  },
  {
   "cell_type": "code",
   "execution_count": null,
   "id": "95458686-1a9a-4a00-b004-77eb6badda9f",
   "metadata": {},
   "outputs": [],
   "source": []
  }
 ],
 "metadata": {
  "kernelspec": {
   "display_name": "Python 3 (ipykernel)",
   "language": "python",
   "name": "python3"
  },
  "language_info": {
   "codemirror_mode": {
    "name": "ipython",
    "version": 3
   },
   "file_extension": ".py",
   "mimetype": "text/x-python",
   "name": "python",
   "nbconvert_exporter": "python",
   "pygments_lexer": "ipython3",
   "version": "3.8.2"
  }
 },
 "nbformat": 4,
 "nbformat_minor": 5
}
