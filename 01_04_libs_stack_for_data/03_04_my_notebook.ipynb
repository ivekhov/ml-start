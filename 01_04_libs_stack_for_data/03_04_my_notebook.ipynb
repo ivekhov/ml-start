{
  "nbformat": 4,
  "nbformat_minor": 0,
  "metadata": {
    "colab": {
      "provenance": []
    },
    "kernelspec": {
      "name": "python3",
      "display_name": "Python 3"
    },
    "language_info": {
      "name": "python"
    }
  },
  "cells": [
    {
      "cell_type": "markdown",
      "source": [
        "# Notebook for lesson on data-science libs stack\n"
      ],
      "metadata": {
        "id": "8zI-hJ7VR5_O"
      }
    },
    {
      "cell_type": "markdown",
      "source": [
        "**Importing libs** \n",
        "\n",
        "*mostly used for ds and ml tasks*\n",
        "\n",
        "` list of libs is below `\n"
      ],
      "metadata": {
        "id": "hXUURFAnSLQl"
      }
    },
    {
      "cell_type": "code",
      "execution_count": 2,
      "metadata": {
        "id": "AYcwDAotR1AS"
      },
      "outputs": [],
      "source": [
        "import pandas as pd\n",
        "import numpy as np\n",
        "\n",
        "import seaborn as sns\n",
        "import matplotlib.pyplot as plt\n",
        "\n",
        "plt.style.use('seaborn')\n",
        "\n",
        "plot_styles_list = [\n",
        "    'seaborn',\n",
        "    'fivethirtyeight',\n",
        "    'seaborn-pastel',\n",
        "    'seaborn-whitegrid',\n",
        "    'ggplot',\n",
        "    'grayscale'\n",
        "    'bmh',\n",
        "]"
      ]
    },
    {
      "cell_type": "code",
      "source": [],
      "metadata": {
        "id": "UYOQZG5dSIHf"
      },
      "execution_count": null,
      "outputs": []
    }
  ]
}